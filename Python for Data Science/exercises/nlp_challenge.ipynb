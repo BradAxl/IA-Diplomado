{
 "cells": [
  {
   "cell_type": "code",
   "execution_count": 1,
   "metadata": {},
   "outputs": [],
   "source": [
    "%load_ext autoreload\n",
    "%autoreload 2\n",
    "%matplotlib inline\n",
    "%config InlineBackend.figure_format = 'retina'"
   ]
  },
  {
   "cell_type": "code",
   "execution_count": 2,
   "metadata": {},
   "outputs": [],
   "source": [
    "import numpy as np\n",
    "import pandas as pd\n",
    "import matplotlib.pyplot as plt\n",
    "import seaborn as sns\n",
    "import warnings\n",
    "import os\n",
    "from tqdm import tqdm\n",
    "from collections import Counter"
   ]
  },
  {
   "cell_type": "code",
   "execution_count": 3,
   "metadata": {},
   "outputs": [],
   "source": [
    "warnings.filterwarnings('ignore')\n",
    "sns.set(style='whitegrid')"
   ]
  },
  {
   "cell_type": "markdown",
   "metadata": {},
   "source": [
    "_____"
   ]
  },
  {
   "cell_type": "markdown",
   "metadata": {},
   "source": [
    "### Dataset"
   ]
  },
  {
   "cell_type": "code",
   "execution_count": 4,
   "metadata": {},
   "outputs": [
    {
     "data": {
      "text/plain": [
       "(73454, 4)"
      ]
     },
     "execution_count": 4,
     "metadata": {},
     "output_type": "execute_result"
    }
   ],
   "source": [
    "df = pd.read_csv('new_reviews.csv')\n",
    "df.shape"
   ]
  },
  {
   "cell_type": "code",
   "execution_count": 5,
   "metadata": {},
   "outputs": [
    {
     "data": {
      "text/html": [
       "<div>\n",
       "<style scoped>\n",
       "    .dataframe tbody tr th:only-of-type {\n",
       "        vertical-align: middle;\n",
       "    }\n",
       "\n",
       "    .dataframe tbody tr th {\n",
       "        vertical-align: top;\n",
       "    }\n",
       "\n",
       "    .dataframe thead th {\n",
       "        text-align: right;\n",
       "    }\n",
       "</style>\n",
       "<table border=\"1\" class=\"dataframe\">\n",
       "  <thead>\n",
       "    <tr style=\"text-align: right;\">\n",
       "      <th></th>\n",
       "      <th>ProductId</th>\n",
       "      <th>Score</th>\n",
       "      <th>Summary</th>\n",
       "      <th>Text</th>\n",
       "    </tr>\n",
       "  </thead>\n",
       "  <tbody>\n",
       "    <tr>\n",
       "      <td>677</td>\n",
       "      <td>B00653KJ5M</td>\n",
       "      <td>4</td>\n",
       "      <td>they are good (except for the \"rainforest\" fla...</td>\n",
       "      <td>These taste very good, but aren't like the BES...</td>\n",
       "    </tr>\n",
       "    <tr>\n",
       "      <td>72968</td>\n",
       "      <td>B000GZS9Q6</td>\n",
       "      <td>4</td>\n",
       "      <td>great low carb option</td>\n",
       "      <td>These beans are great for people watching thei...</td>\n",
       "    </tr>\n",
       "    <tr>\n",
       "      <td>66989</td>\n",
       "      <td>B00954NY46</td>\n",
       "      <td>5</td>\n",
       "      <td>A good Bold coffee</td>\n",
       "      <td>This is a good strong coffee.  Both my wife an...</td>\n",
       "    </tr>\n",
       "    <tr>\n",
       "      <td>35865</td>\n",
       "      <td>B001SB34RG</td>\n",
       "      <td>4</td>\n",
       "      <td>The skinny one</td>\n",
       "      <td>The ABC book and foodstore nearby temporarily ...</td>\n",
       "    </tr>\n",
       "    <tr>\n",
       "      <td>18451</td>\n",
       "      <td>B0041CIR62</td>\n",
       "      <td>3</td>\n",
       "      <td>Okay--but not great</td>\n",
       "      <td>I just purchased this product through Amazon. ...</td>\n",
       "    </tr>\n",
       "  </tbody>\n",
       "</table>\n",
       "</div>"
      ],
      "text/plain": [
       "        ProductId  Score                                            Summary  \\\n",
       "677    B00653KJ5M      4  they are good (except for the \"rainforest\" fla...   \n",
       "72968  B000GZS9Q6      4                              great low carb option   \n",
       "66989  B00954NY46      5                                 A good Bold coffee   \n",
       "35865  B001SB34RG      4                                     The skinny one   \n",
       "18451  B0041CIR62      3                                Okay--but not great   \n",
       "\n",
       "                                                    Text  \n",
       "677    These taste very good, but aren't like the BES...  \n",
       "72968  These beans are great for people watching thei...  \n",
       "66989  This is a good strong coffee.  Both my wife an...  \n",
       "35865  The ABC book and foodstore nearby temporarily ...  \n",
       "18451  I just purchased this product through Amazon. ...  "
      ]
     },
     "execution_count": 5,
     "metadata": {},
     "output_type": "execute_result"
    }
   ],
   "source": [
    "df.sample(5)"
   ]
  },
  {
   "cell_type": "code",
   "execution_count": 6,
   "metadata": {},
   "outputs": [
    {
     "data": {
      "text/plain": [
       "<matplotlib.axes._subplots.AxesSubplot at 0x7f57139d6a20>"
      ]
     },
     "execution_count": 6,
     "metadata": {},
     "output_type": "execute_result"
    },
    {
     "data": {
      "image/png": "[encoded data removed]",
      "text/plain": [
       "<Figure size 432x288 with 1 Axes>"
      ]
     },
     "metadata": {
      "image/png": {
       "height": 262,
       "width": 402
      }
     },
     "output_type": "display_data"
    }
   ],
   "source": [
    "sns.countplot(df.Score)"
   ]
  },
  {
   "cell_type": "markdown",
   "metadata": {},
   "source": [
    "### Pre-procesamiento de textos"
   ]
  },
  {
   "cell_type": "code",
   "execution_count": 7,
   "metadata": {},
   "outputs": [],
   "source": [
    "import re\n",
    "import string\n",
    "from nltk.corpus import stopwords\n",
    "from nltk.stem.porter import PorterStemmer\n",
    "stopwords = stopwords.words('english')"
   ]
  },
  {
   "cell_type": "code",
   "execution_count": 8,
   "metadata": {},
   "outputs": [],
   "source": [
    "#pre-procesamiento básico\n",
    "def prep_text(text):\n",
    "    #convertir a minusculas\n",
    "    text = text.lower()\n",
    "    \n",
    "    #remover signos de puntuación\n",
    "    text = text.translate(str.maketrans('', '', string.punctuation))\n",
    "    \n",
    "    #remover stopwords y números\n",
    "    tokens = [word for word in text.split(' ') if word not in stopwords] \n",
    "    \n",
    "    #steaming(?) \n",
    "    \n",
    "    return ' '.join(tokens)"
   ]
  },
  {
   "cell_type": "code",
   "execution_count": 9,
   "metadata": {},
   "outputs": [
    {
     "name": "stdout",
     "output_type": "stream",
     "text": [
      "I roast at home with a stove-top popcorn popper (but I do it outside, of course). These beans (Coffee Bean Direct Green Mexican Altura) seem to be well-suited for this method. The first and second cracks are distinct, and I've roasted the beans from medium to slightly dark with great results every time. The aroma is strong and persistent. The taste is smooth, velvety, yet lively.\n"
     ]
    },
    {
     "data": {
      "text/plain": [
       "'roast home stovetop popcorn popper outside course beans coffee bean direct green mexican altura seem wellsuited method first second cracks distinct ive roasted beans medium slightly dark great results every time aroma strong persistent taste smooth velvety yet lively'"
      ]
     },
     "execution_count": 9,
     "metadata": {},
     "output_type": "execute_result"
    }
   ],
   "source": [
    "sample_text = df.Text[10]\n",
    "print(sample_text)\n",
    "prep_text(sample_text)"
   ]
  },
  {
   "cell_type": "code",
   "execution_count": 10,
   "metadata": {},
   "outputs": [],
   "source": [
    "df['prep_text'] = df.Text.apply(prep_text)\n",
    "df['prep_summary'] = df.Summary.apply(prep_text)"
   ]
  },
  {
   "cell_type": "code",
   "execution_count": 11,
   "metadata": {},
   "outputs": [
    {
     "data": {
      "text/html": [
       "<div>\n",
       "<style scoped>\n",
       "    .dataframe tbody tr th:only-of-type {\n",
       "        vertical-align: middle;\n",
       "    }\n",
       "\n",
       "    .dataframe tbody tr th {\n",
       "        vertical-align: top;\n",
       "    }\n",
       "\n",
       "    .dataframe thead th {\n",
       "        text-align: right;\n",
       "    }\n",
       "</style>\n",
       "<table border=\"1\" class=\"dataframe\">\n",
       "  <thead>\n",
       "    <tr style=\"text-align: right;\">\n",
       "      <th></th>\n",
       "      <th>ProductId</th>\n",
       "      <th>Score</th>\n",
       "      <th>Summary</th>\n",
       "      <th>Text</th>\n",
       "      <th>prep_text</th>\n",
       "      <th>prep_summary</th>\n",
       "    </tr>\n",
       "  </thead>\n",
       "  <tbody>\n",
       "    <tr>\n",
       "      <td>35267</td>\n",
       "      <td>B000G7TBUC</td>\n",
       "      <td>3</td>\n",
       "      <td>Pricey</td>\n",
       "      <td>I purchased these pretzels pretty often up unt...</td>\n",
       "      <td>purchased pretzels pretty often  came back mak...</td>\n",
       "      <td>pricey</td>\n",
       "    </tr>\n",
       "    <tr>\n",
       "      <td>72727</td>\n",
       "      <td>B009AFJ548</td>\n",
       "      <td>5</td>\n",
       "      <td>Great no calorie sweetner especially for baking</td>\n",
       "      <td>I have been trying to eat healthier which invo...</td>\n",
       "      <td>trying eat healthier involve ingredients find ...</td>\n",
       "      <td>great calorie sweetner especially baking</td>\n",
       "    </tr>\n",
       "    <tr>\n",
       "      <td>54746</td>\n",
       "      <td>B005IPJTZE</td>\n",
       "      <td>2</td>\n",
       "      <td>Stick to the packets!</td>\n",
       "      <td>Don't waste your money on these cups...buy the...</td>\n",
       "      <td>dont waste money cupsbuy packets use keurigs s...</td>\n",
       "      <td>stick packets</td>\n",
       "    </tr>\n",
       "    <tr>\n",
       "      <td>47021</td>\n",
       "      <td>B000SATGHK</td>\n",
       "      <td>4</td>\n",
       "      <td>Be still, My beating Heart</td>\n",
       "      <td>What I found ,after searching, was a Tea (or H...</td>\n",
       "      <td>found searching tea herb would help lower bloo...</td>\n",
       "      <td>still beating heart</td>\n",
       "    </tr>\n",
       "    <tr>\n",
       "      <td>24644</td>\n",
       "      <td>B001SIY414</td>\n",
       "      <td>5</td>\n",
       "      <td>Best mass marketed dried meat product ON EARTH</td>\n",
       "      <td>I'm normally rather \"meh\" about beef jerky and...</td>\n",
       "      <td>im normally rather meh beef jerky similar prod...</td>\n",
       "      <td>best mass marketed dried meat product earth</td>\n",
       "    </tr>\n",
       "  </tbody>\n",
       "</table>\n",
       "</div>"
      ],
      "text/plain": [
       "        ProductId  Score                                          Summary  \\\n",
       "35267  B000G7TBUC      3                                           Pricey   \n",
       "72727  B009AFJ548      5  Great no calorie sweetner especially for baking   \n",
       "54746  B005IPJTZE      2                            Stick to the packets!   \n",
       "47021  B000SATGHK      4                       Be still, My beating Heart   \n",
       "24644  B001SIY414      5   Best mass marketed dried meat product ON EARTH   \n",
       "\n",
       "                                                    Text  \\\n",
       "35267  I purchased these pretzels pretty often up unt...   \n",
       "72727  I have been trying to eat healthier which invo...   \n",
       "54746  Don't waste your money on these cups...buy the...   \n",
       "47021  What I found ,after searching, was a Tea (or H...   \n",
       "24644  I'm normally rather \"meh\" about beef jerky and...   \n",
       "\n",
       "                                               prep_text  \\\n",
       "35267  purchased pretzels pretty often  came back mak...   \n",
       "72727  trying eat healthier involve ingredients find ...   \n",
       "54746  dont waste money cupsbuy packets use keurigs s...   \n",
       "47021  found searching tea herb would help lower bloo...   \n",
       "24644  im normally rather meh beef jerky similar prod...   \n",
       "\n",
       "                                      prep_summary  \n",
       "35267                                       pricey  \n",
       "72727     great calorie sweetner especially baking  \n",
       "54746                                stick packets  \n",
       "47021                          still beating heart  \n",
       "24644  best mass marketed dried meat product earth  "
      ]
     },
     "execution_count": 11,
     "metadata": {},
     "output_type": "execute_result"
    }
   ],
   "source": [
    "df.sample(5)"
   ]
  },
  {
   "cell_type": "markdown",
   "metadata": {},
   "source": [
    "### Data split"
   ]
  },
  {
   "cell_type": "code",
   "execution_count": 12,
   "metadata": {},
   "outputs": [
    {
     "data": {
      "text/plain": [
       "((58763, 2), (14691, 2))"
      ]
     },
     "execution_count": 12,
     "metadata": {},
     "output_type": "execute_result"
    }
   ],
   "source": [
    "from sklearn.model_selection import train_test_split\n",
    "train, test = train_test_split(df[['Score', 'prep_text']], test_size = 0.2, random_state=100)\n",
    "train.shape, test.shape"
   ]
  },
  {
   "cell_type": "code",
   "execution_count": 13,
   "metadata": {},
   "outputs": [
    {
     "data": {
      "text/plain": [
       "((58763,), (14691,), (58763,), (14691,))"
      ]
     },
     "execution_count": 13,
     "metadata": {},
     "output_type": "execute_result"
    }
   ],
   "source": [
    "X_train = np.array(train[\"prep_text\"])\n",
    "X_test = np.array(test[\"prep_text\"])\n",
    "y_train = np.array(train[\"Score\"])\n",
    "y_test = np.array(test[\"Score\"])\n",
    "X_train.shape, X_test.shape, y_train.shape, y_test.shape"
   ]
  },
  {
   "cell_type": "code",
   "execution_count": 14,
   "metadata": {},
   "outputs": [
    {
     "data": {
      "text/plain": [
       "'cookies fantastic  rich tasty  cookie contains rather large chocolate chunks  tony tiger would say great'"
      ]
     },
     "execution_count": 14,
     "metadata": {},
     "output_type": "execute_result"
    }
   ],
   "source": [
    "X_train[15]"
   ]
  },
  {
   "cell_type": "markdown",
   "metadata": {},
   "source": [
    "# Generación de carcaterísticas"
   ]
  },
  {
   "cell_type": "markdown",
   "metadata": {},
   "source": [
    "## 1. TF-IDF"
   ]
  },
  {
   "cell_type": "code",
   "execution_count": 15,
   "metadata": {},
   "outputs": [
    {
     "data": {
      "text/plain": [
       "TfidfVectorizer(analyzer='word', binary=False, decode_error='strict',\n",
       "                dtype=<class 'numpy.float64'>, encoding='utf-8',\n",
       "                input='content', lowercase=True, max_df=1.0, max_features=300,\n",
       "                min_df=1, ngram_range=(1, 1), norm='l2', preprocessor=None,\n",
       "                smooth_idf=True, stop_words=None, strip_accents=None,\n",
       "                sublinear_tf=False, token_pattern='(?u)\\\\b\\\\w\\\\w+\\\\b',\n",
       "                tokenizer=None, use_idf=True, vocabulary=None)"
      ]
     },
     "execution_count": 15,
     "metadata": {},
     "output_type": "execute_result"
    }
   ],
   "source": [
    "from sklearn.feature_extraction.text import TfidfVectorizer\n",
    "tfidf = TfidfVectorizer(use_idf=True, max_features=300)\n",
    "tfidf.fit(np.concatenate((X_train, X_test)))"
   ]
  },
  {
   "cell_type": "code",
   "execution_count": 16,
   "metadata": {},
   "outputs": [
    {
     "data": {
      "text/plain": [
       "((58763, 300), (14691, 300))"
      ]
     },
     "execution_count": 16,
     "metadata": {},
     "output_type": "execute_result"
    }
   ],
   "source": [
    "X_trainTFIDF = tfidf.transform(X_train)\n",
    "X_testTFIDF = tfidf.transform(X_test)\n",
    "X_trainTFIDF.shape, X_testTFIDF.shape"
   ]
  },
  {
   "cell_type": "markdown",
   "metadata": {},
   "source": [
    "## 2. Word Embeddings"
   ]
  },
  {
   "cell_type": "code",
   "execution_count": null,
   "metadata": {},
   "outputs": [],
   "source": [
    "#Para instalar spacy\n",
    "#!pip install https://github.com/explosion/spacy-models/releases/download/en_core_web_lg-2.0.0/en_core_web_lg-2.0.0.tar.gz --user"
   ]
  },
  {
   "cell_type": "code",
   "execution_count": 17,
   "metadata": {},
   "outputs": [],
   "source": [
    "import spacy\n",
    "nlp = spacy.load('en_core_web_lg')"
   ]
  },
  {
   "cell_type": "markdown",
   "metadata": {},
   "source": [
    "Documentación sobre los vectores pre-entrenados de spacy: https://spacy.io/usage/vectors-similarity#basics"
   ]
  },
  {
   "cell_type": "code",
   "execution_count": 18,
   "metadata": {},
   "outputs": [
    {
     "name": "stderr",
     "output_type": "stream",
     "text": [
      "100%|██████████| 58763/58763 [15:02<00:00, 65.14it/s]\n"
     ]
    }
   ],
   "source": [
    "X_trainWE = [nlp(doc).vector for doc in tqdm(X_train)]"
   ]
  },
  {
   "cell_type": "code",
   "execution_count": 19,
   "metadata": {},
   "outputs": [
    {
     "name": "stderr",
     "output_type": "stream",
     "text": [
      "100%|██████████| 14691/14691 [03:37<00:00, 60.99it/s]\n"
     ]
    }
   ],
   "source": [
    "X_testWE = [nlp(doc).vector for doc in tqdm(X_test)]"
   ]
  },
  {
   "cell_type": "code",
   "execution_count": 20,
   "metadata": {},
   "outputs": [
    {
     "data": {
      "text/plain": [
       "((58763, 300), (14691, 300))"
      ]
     },
     "execution_count": 20,
     "metadata": {},
     "output_type": "execute_result"
    }
   ],
   "source": [
    "X_trainWE = np.array(X_trainWE)\n",
    "X_testWE = np.array(X_testWE)\n",
    "X_trainWE.shape, X_testWE.shape"
   ]
  },
  {
   "cell_type": "markdown",
   "metadata": {},
   "source": [
    "# Modelos de clasificación"
   ]
  },
  {
   "cell_type": "code",
   "execution_count": 21,
   "metadata": {},
   "outputs": [],
   "source": [
    "from sklearn.svm import LinearSVC\n",
    "from sklearn.ensemble import RandomForestClassifier\n",
    "from sklearn.model_selection import cross_val_score"
   ]
  },
  {
   "cell_type": "code",
   "execution_count": 22,
   "metadata": {},
   "outputs": [],
   "source": [
    "def run_model(clf, X, y):\n",
    "    scores = cross_val_score(clf, X, y, cv=5)\n",
    "    print(\"%s accuracy: %0.2f (+/- %0.2f)\" % \\\n",
    "          (str(clf.__class__).split('.')[-1].replace('>','').replace(\"'\",''), \n",
    "          scores.mean(), scores.std() * 2))"
   ]
  },
  {
   "cell_type": "code",
   "execution_count": 23,
   "metadata": {},
   "outputs": [
    {
     "name": "stdout",
     "output_type": "stream",
     "text": [
      "RandomForestClassifier accuracy: 0.51 (+/- 0.01)\n",
      "LinearSVC accuracy: 0.49 (+/- 0.01)\n"
     ]
    }
   ],
   "source": [
    "#TF-IDF\n",
    "run_model(RandomForestClassifier(), X_trainTFIDF, y_train)\n",
    "run_model(LinearSVC(), X_trainTFIDF, y_train)"
   ]
  },
  {
   "cell_type": "code",
   "execution_count": 24,
   "metadata": {},
   "outputs": [
    {
     "name": "stdout",
     "output_type": "stream",
     "text": [
      "RandomForestClassifier accuracy: 0.48 (+/- 0.01)\n",
      "LinearSVC accuracy: 0.51 (+/- 0.00)\n"
     ]
    }
   ],
   "source": [
    "#Word Vectors\n",
    "run_model(RandomForestClassifier(), X_trainWE, y_train)\n",
    "run_model(LinearSVC(), X_trainWE, y_train)"
   ]
  },
  {
   "cell_type": "markdown",
   "metadata": {},
   "source": [
    "- ¿Si se incluye el Summary en la descripción?\n",
    "- ¿Mejorar pre procesmaiento?\n",
    "- Analizar las palabras más frecuentes en cada clase\n",
    "- Descartar oraciones muy cortas o muy largas (\"outliers\")\n",
    "- ¿Mejorar parámetros del TF-IDF? (p.e menos dimensiones, considerar n-gramas)\n",
    "- ¿Probar diferentes pre-procesamientos por cada tipo de representación?\n",
    "- ¿Entrenar vectores de palabras \"desde cero\"? (https://radimrehurek.com/gensim/models/word2vec.html)\n",
    "- Probar otro tipo de vectores pre-entrenados \n",
    "  (https://wikipedia2vec.github.io/wikipedia2vec/pretrained/, https://nlp.stanford.edu/projects/glove/, https://fasttext.cc/docs/en/english-vectors.html)\n",
    "- Reducir dimensiones\n",
    "- Agregar features dependiendo del texto (p.e análisis de sentimiento, cantidad de carcateres antes de pre-procesamiento, número de mayúsculas, entidades nombradas, POS Tagging)\n",
    "- ¿Probar modelos más complejos?\n",
    "- Transfer learning (https://www.analyticsvidhya.com/blog/2018/11/tutorial-text-classification-ulmfit-fastai-library/)"
   ]
  }
 ],
 "metadata": {
  "kernelspec": {
   "display_name": "Python 3",
   "language": "python",
   "name": "python3"
  },
  "language_info": {
   "codemirror_mode": {
    "name": "ipython",
    "version": 3
   },
   "file_extension": ".py",
   "mimetype": "text/x-python",
   "name": "python",
   "nbconvert_exporter": "python",
   "pygments_lexer": "ipython3",
   "version": "3.6.5"
  }
 },
 "nbformat": 4,
 "nbformat_minor": 2
}
