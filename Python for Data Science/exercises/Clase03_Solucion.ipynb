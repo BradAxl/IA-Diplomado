{
 "cells": [
  {
   "cell_type": "code",
   "execution_count": 1,
   "metadata": {},
   "outputs": [],
   "source": [
    "import warnings\n",
    "warnings.filterwarnings('ignore')"
   ]
  },
  {
   "cell_type": "markdown",
   "metadata": {},
   "source": [
    "# 1. Pandas | Pre-procesamiento"
   ]
  },
  {
   "cell_type": "markdown",
   "metadata": {},
   "source": [
    "Utilizaremos una base de datos sobre países para tareas de pre-procesamiento"
   ]
  },
  {
   "cell_type": "code",
   "execution_count": 2,
   "metadata": {},
   "outputs": [],
   "source": [
    "import sqlite3\n",
    "import pandas as pd"
   ]
  },
  {
   "cell_type": "code",
   "execution_count": 3,
   "metadata": {},
   "outputs": [],
   "source": [
    "conn = sqlite3.connect(\"countries_new.db\")\n",
    "# TABLES: all_countries, currencies"
   ]
  },
  {
   "cell_type": "code",
   "execution_count": 4,
   "metadata": {},
   "outputs": [],
   "source": [
    "# se utilizará la tabla all_countries\n",
    "query = \"SELECT * FROM all_countries\""
   ]
  },
  {
   "cell_type": "code",
   "execution_count": 5,
   "metadata": {},
   "outputs": [
    {
     "data": {
      "text/html": [
       "<div>\n",
       "<style scoped>\n",
       "    .dataframe tbody tr th:only-of-type {\n",
       "        vertical-align: middle;\n",
       "    }\n",
       "\n",
       "    .dataframe tbody tr th {\n",
       "        vertical-align: top;\n",
       "    }\n",
       "\n",
       "    .dataframe thead th {\n",
       "        text-align: right;\n",
       "    }\n",
       "</style>\n",
       "<table border=\"1\" class=\"dataframe\">\n",
       "  <thead>\n",
       "    <tr style=\"text-align: right;\">\n",
       "      <th></th>\n",
       "      <th>country_code</th>\n",
       "      <th>country_name</th>\n",
       "      <th>country_alpha3_code</th>\n",
       "      <th>country_numeric_code</th>\n",
       "      <th>capital</th>\n",
       "      <th>country_demonym</th>\n",
       "      <th>total_area</th>\n",
       "      <th>population</th>\n",
       "      <th>currency_code</th>\n",
       "      <th>lang_code</th>\n",
       "    </tr>\n",
       "  </thead>\n",
       "  <tbody>\n",
       "    <tr>\n",
       "      <th>112</th>\n",
       "      <td>BZ</td>\n",
       "      <td>Belize</td>\n",
       "      <td>BLZ</td>\n",
       "      <td>NaN</td>\n",
       "      <td>Belmopan</td>\n",
       "      <td>Belizeans</td>\n",
       "      <td>22966.0</td>\n",
       "      <td>382444.0</td>\n",
       "      <td>BZD</td>\n",
       "      <td>EN</td>\n",
       "    </tr>\n",
       "    <tr>\n",
       "      <th>5</th>\n",
       "      <td>NL</td>\n",
       "      <td>Netherlands</td>\n",
       "      <td>NLD</td>\n",
       "      <td>NaN</td>\n",
       "      <td>Amsterdam</td>\n",
       "      <td>Netherlanders</td>\n",
       "      <td>41543.0</td>\n",
       "      <td>17110161.0</td>\n",
       "      <td>EUR</td>\n",
       "      <td>NL</td>\n",
       "    </tr>\n",
       "    <tr>\n",
       "      <th>253</th>\n",
       "      <td>MC</td>\n",
       "      <td>Monaco</td>\n",
       "      <td>MCO</td>\n",
       "      <td>NaN</td>\n",
       "      <td>Monaco</td>\n",
       "      <td>Monacans</td>\n",
       "      <td>2.0</td>\n",
       "      <td>38897.0</td>\n",
       "      <td>EUR</td>\n",
       "      <td>FR</td>\n",
       "    </tr>\n",
       "    <tr>\n",
       "      <th>175</th>\n",
       "      <td>KZ</td>\n",
       "      <td>Kazakhstan</td>\n",
       "      <td>KAZ</td>\n",
       "      <td>NaN</td>\n",
       "      <td>Astana</td>\n",
       "      <td>Kazakhstanis</td>\n",
       "      <td>2724900.0</td>\n",
       "      <td>18403860.0</td>\n",
       "      <td>KZT</td>\n",
       "      <td>RU</td>\n",
       "    </tr>\n",
       "    <tr>\n",
       "      <th>249</th>\n",
       "      <td>BG</td>\n",
       "      <td>Bulgaria</td>\n",
       "      <td>BGR</td>\n",
       "      <td>NaN</td>\n",
       "      <td>Sofia</td>\n",
       "      <td>Bulgarians</td>\n",
       "      <td>NaN</td>\n",
       "      <td>NaN</td>\n",
       "      <td>BGN</td>\n",
       "      <td>GB</td>\n",
       "    </tr>\n",
       "  </tbody>\n",
       "</table>\n",
       "</div>"
      ],
      "text/plain": [
       "    country_code country_name country_alpha3_code  country_numeric_code  \\\n",
       "112           BZ       Belize                 BLZ                   NaN   \n",
       "5             NL  Netherlands                 NLD                   NaN   \n",
       "253           MC       Monaco                 MCO                   NaN   \n",
       "175           KZ   Kazakhstan                 KAZ                   NaN   \n",
       "249           BG     Bulgaria                 BGR                   NaN   \n",
       "\n",
       "       capital country_demonym  total_area  population currency_code lang_code  \n",
       "112   Belmopan       Belizeans     22966.0    382444.0           BZD        EN  \n",
       "5    Amsterdam   Netherlanders     41543.0  17110161.0           EUR        NL  \n",
       "253     Monaco        Monacans         2.0     38897.0           EUR        FR  \n",
       "175     Astana    Kazakhstanis   2724900.0  18403860.0           KZT        RU  \n",
       "249      Sofia      Bulgarians         NaN         NaN           BGN        GB  "
      ]
     },
     "execution_count": 5,
     "metadata": {},
     "output_type": "execute_result"
    }
   ],
   "source": [
    "df_countries = pd.read_sql_query(query, con=conn)\n",
    "df_countries.sample(5)"
   ]
  },
  {
   "cell_type": "markdown",
   "metadata": {},
   "source": [
    "### 1.1 Estadisticas generales sobre el dataset"
   ]
  },
  {
   "cell_type": "code",
   "execution_count": 6,
   "metadata": {},
   "outputs": [
    {
     "data": {
      "text/html": [
       "<div>\n",
       "<style scoped>\n",
       "    .dataframe tbody tr th:only-of-type {\n",
       "        vertical-align: middle;\n",
       "    }\n",
       "\n",
       "    .dataframe tbody tr th {\n",
       "        vertical-align: top;\n",
       "    }\n",
       "\n",
       "    .dataframe thead th {\n",
       "        text-align: right;\n",
       "    }\n",
       "</style>\n",
       "<table border=\"1\" class=\"dataframe\">\n",
       "  <thead>\n",
       "    <tr style=\"text-align: right;\">\n",
       "      <th></th>\n",
       "      <th>count</th>\n",
       "      <th>unique</th>\n",
       "      <th>top</th>\n",
       "      <th>freq</th>\n",
       "      <th>mean</th>\n",
       "      <th>std</th>\n",
       "      <th>min</th>\n",
       "      <th>25%</th>\n",
       "      <th>50%</th>\n",
       "      <th>75%</th>\n",
       "      <th>max</th>\n",
       "    </tr>\n",
       "  </thead>\n",
       "  <tbody>\n",
       "    <tr>\n",
       "      <th>country_code</th>\n",
       "      <td>262</td>\n",
       "      <td>249</td>\n",
       "      <td>GL</td>\n",
       "      <td>2</td>\n",
       "      <td>NaN</td>\n",
       "      <td>NaN</td>\n",
       "      <td>NaN</td>\n",
       "      <td>NaN</td>\n",
       "      <td>NaN</td>\n",
       "      <td>NaN</td>\n",
       "      <td>NaN</td>\n",
       "    </tr>\n",
       "    <tr>\n",
       "      <th>country_name</th>\n",
       "      <td>262</td>\n",
       "      <td>249</td>\n",
       "      <td>Haiti</td>\n",
       "      <td>2</td>\n",
       "      <td>NaN</td>\n",
       "      <td>NaN</td>\n",
       "      <td>NaN</td>\n",
       "      <td>NaN</td>\n",
       "      <td>NaN</td>\n",
       "      <td>NaN</td>\n",
       "      <td>NaN</td>\n",
       "    </tr>\n",
       "    <tr>\n",
       "      <th>country_alpha3_code</th>\n",
       "      <td>221</td>\n",
       "      <td>212</td>\n",
       "      <td>BGR</td>\n",
       "      <td>2</td>\n",
       "      <td>NaN</td>\n",
       "      <td>NaN</td>\n",
       "      <td>NaN</td>\n",
       "      <td>NaN</td>\n",
       "      <td>NaN</td>\n",
       "      <td>NaN</td>\n",
       "      <td>NaN</td>\n",
       "    </tr>\n",
       "    <tr>\n",
       "      <th>country_numeric_code</th>\n",
       "      <td>40</td>\n",
       "      <td>NaN</td>\n",
       "      <td>NaN</td>\n",
       "      <td>NaN</td>\n",
       "      <td>490.625</td>\n",
       "      <td>252.082</td>\n",
       "      <td>10</td>\n",
       "      <td>362</td>\n",
       "      <td>510</td>\n",
       "      <td>677.5</td>\n",
       "      <td>894</td>\n",
       "    </tr>\n",
       "    <tr>\n",
       "      <th>capital</th>\n",
       "      <td>262</td>\n",
       "      <td>241</td>\n",
       "      <td>-</td>\n",
       "      <td>8</td>\n",
       "      <td>NaN</td>\n",
       "      <td>NaN</td>\n",
       "      <td>NaN</td>\n",
       "      <td>NaN</td>\n",
       "      <td>NaN</td>\n",
       "      <td>NaN</td>\n",
       "      <td>NaN</td>\n",
       "    </tr>\n",
       "    <tr>\n",
       "      <th>country_demonym</th>\n",
       "      <td>260</td>\n",
       "      <td>241</td>\n",
       "      <td>British</td>\n",
       "      <td>3</td>\n",
       "      <td>NaN</td>\n",
       "      <td>NaN</td>\n",
       "      <td>NaN</td>\n",
       "      <td>NaN</td>\n",
       "      <td>NaN</td>\n",
       "      <td>NaN</td>\n",
       "      <td>NaN</td>\n",
       "    </tr>\n",
       "    <tr>\n",
       "      <th>total_area</th>\n",
       "      <td>226</td>\n",
       "      <td>NaN</td>\n",
       "      <td>NaN</td>\n",
       "      <td>NaN</td>\n",
       "      <td>611492</td>\n",
       "      <td>1.92084e+06</td>\n",
       "      <td>0.44</td>\n",
       "      <td>1942.5</td>\n",
       "      <td>65455</td>\n",
       "      <td>444858</td>\n",
       "      <td>1.70982e+07</td>\n",
       "    </tr>\n",
       "    <tr>\n",
       "      <th>population</th>\n",
       "      <td>220</td>\n",
       "      <td>NaN</td>\n",
       "      <td>NaN</td>\n",
       "      <td>NaN</td>\n",
       "      <td>3.30171e+07</td>\n",
       "      <td>1.37539e+08</td>\n",
       "      <td>0</td>\n",
       "      <td>189792</td>\n",
       "      <td>4.80375e+06</td>\n",
       "      <td>1.83143e+07</td>\n",
       "      <td>1.41505e+09</td>\n",
       "    </tr>\n",
       "    <tr>\n",
       "      <th>currency_code</th>\n",
       "      <td>261</td>\n",
       "      <td>153</td>\n",
       "      <td>EUR</td>\n",
       "      <td>34</td>\n",
       "      <td>NaN</td>\n",
       "      <td>NaN</td>\n",
       "      <td>NaN</td>\n",
       "      <td>NaN</td>\n",
       "      <td>NaN</td>\n",
       "      <td>NaN</td>\n",
       "      <td>NaN</td>\n",
       "    </tr>\n",
       "    <tr>\n",
       "      <th>lang_code</th>\n",
       "      <td>262</td>\n",
       "      <td>63</td>\n",
       "      <td>EN</td>\n",
       "      <td>79</td>\n",
       "      <td>NaN</td>\n",
       "      <td>NaN</td>\n",
       "      <td>NaN</td>\n",
       "      <td>NaN</td>\n",
       "      <td>NaN</td>\n",
       "      <td>NaN</td>\n",
       "      <td>NaN</td>\n",
       "    </tr>\n",
       "  </tbody>\n",
       "</table>\n",
       "</div>"
      ],
      "text/plain": [
       "                     count unique      top freq         mean          std  \\\n",
       "country_code           262    249       GL    2          NaN          NaN   \n",
       "country_name           262    249    Haiti    2          NaN          NaN   \n",
       "country_alpha3_code    221    212      BGR    2          NaN          NaN   \n",
       "country_numeric_code    40    NaN      NaN  NaN      490.625      252.082   \n",
       "capital                262    241        -    8          NaN          NaN   \n",
       "country_demonym        260    241  British    3          NaN          NaN   \n",
       "total_area             226    NaN      NaN  NaN       611492  1.92084e+06   \n",
       "population             220    NaN      NaN  NaN  3.30171e+07  1.37539e+08   \n",
       "currency_code          261    153      EUR   34          NaN          NaN   \n",
       "lang_code              262     63       EN   79          NaN          NaN   \n",
       "\n",
       "                       min     25%          50%          75%          max  \n",
       "country_code           NaN     NaN          NaN          NaN          NaN  \n",
       "country_name           NaN     NaN          NaN          NaN          NaN  \n",
       "country_alpha3_code    NaN     NaN          NaN          NaN          NaN  \n",
       "country_numeric_code    10     362          510        677.5          894  \n",
       "capital                NaN     NaN          NaN          NaN          NaN  \n",
       "country_demonym        NaN     NaN          NaN          NaN          NaN  \n",
       "total_area            0.44  1942.5        65455       444858  1.70982e+07  \n",
       "population               0  189792  4.80375e+06  1.83143e+07  1.41505e+09  \n",
       "currency_code          NaN     NaN          NaN          NaN          NaN  \n",
       "lang_code              NaN     NaN          NaN          NaN          NaN  "
      ]
     },
     "execution_count": 6,
     "metadata": {},
     "output_type": "execute_result"
    }
   ],
   "source": [
    "df_countries.describe(include='all').T"
   ]
  },
  {
   "cell_type": "markdown",
   "metadata": {},
   "source": [
    "### 1.2 Filas/Países repetidos"
   ]
  },
  {
   "cell_type": "markdown",
   "metadata": {},
   "source": [
    "Cada código de país, debería aparecer una sola vez"
   ]
  },
  {
   "cell_type": "code",
   "execution_count": 7,
   "metadata": {},
   "outputs": [
    {
     "data": {
      "text/plain": [
       "(262, 249)"
      ]
     },
     "execution_count": 7,
     "metadata": {},
     "output_type": "execute_result"
    }
   ],
   "source": [
    "df_countries.shape[0], len(df_countries.country_code.unique())"
   ]
  },
  {
   "cell_type": "code",
   "execution_count": 8,
   "metadata": {},
   "outputs": [
    {
     "data": {
      "text/plain": [
       "(249, 10)"
      ]
     },
     "execution_count": 8,
     "metadata": {},
     "output_type": "execute_result"
    }
   ],
   "source": [
    "#Eliminar las filas repetidas\n",
    "df_countries.drop_duplicates(subset =\"country_code\", keep = 'first', inplace = True)\n",
    "df_countries.shape"
   ]
  },
  {
   "cell_type": "markdown",
   "metadata": {},
   "source": [
    "### 1.3 Tratamiento de valores faltantes"
   ]
  },
  {
   "cell_type": "code",
   "execution_count": 9,
   "metadata": {},
   "outputs": [
    {
     "data": {
      "text/plain": [
       "country_code              0\n",
       "country_name              0\n",
       "country_alpha3_code      37\n",
       "country_numeric_code    209\n",
       "capital                   0\n",
       "country_demonym           2\n",
       "total_area               30\n",
       "population               39\n",
       "currency_code             1\n",
       "lang_code                 0\n",
       "dtype: int64"
      ]
     },
     "execution_count": 9,
     "metadata": {},
     "output_type": "execute_result"
    }
   ],
   "source": [
    "df_countries.isnull().sum()"
   ]
  },
  {
   "cell_type": "markdown",
   "metadata": {},
   "source": [
    "##### 1.3.1 Eliminar la columna country_numeric_code"
   ]
  },
  {
   "cell_type": "code",
   "execution_count": 10,
   "metadata": {},
   "outputs": [],
   "source": [
    "df_countries = df_countries.drop(['country_numeric_code'], axis=1)"
   ]
  },
  {
   "cell_type": "code",
   "execution_count": 11,
   "metadata": {},
   "outputs": [
    {
     "data": {
      "text/html": [
       "<div>\n",
       "<style scoped>\n",
       "    .dataframe tbody tr th:only-of-type {\n",
       "        vertical-align: middle;\n",
       "    }\n",
       "\n",
       "    .dataframe tbody tr th {\n",
       "        vertical-align: top;\n",
       "    }\n",
       "\n",
       "    .dataframe thead th {\n",
       "        text-align: right;\n",
       "    }\n",
       "</style>\n",
       "<table border=\"1\" class=\"dataframe\">\n",
       "  <thead>\n",
       "    <tr style=\"text-align: right;\">\n",
       "      <th></th>\n",
       "      <th>country_code</th>\n",
       "      <th>country_name</th>\n",
       "      <th>country_alpha3_code</th>\n",
       "      <th>capital</th>\n",
       "      <th>country_demonym</th>\n",
       "      <th>total_area</th>\n",
       "      <th>population</th>\n",
       "      <th>currency_code</th>\n",
       "      <th>lang_code</th>\n",
       "    </tr>\n",
       "  </thead>\n",
       "  <tbody>\n",
       "    <tr>\n",
       "      <th>246</th>\n",
       "      <td>SV</td>\n",
       "      <td>El Salvador</td>\n",
       "      <td>SLV</td>\n",
       "      <td>San Salvador</td>\n",
       "      <td>Salvadorans</td>\n",
       "      <td>21041.0</td>\n",
       "      <td>6411558.0</td>\n",
       "      <td>NOK</td>\n",
       "      <td>ES</td>\n",
       "    </tr>\n",
       "  </tbody>\n",
       "</table>\n",
       "</div>"
      ],
      "text/plain": [
       "    country_code country_name country_alpha3_code       capital  \\\n",
       "246           SV  El Salvador                 SLV  San Salvador   \n",
       "\n",
       "    country_demonym  total_area  population currency_code lang_code  \n",
       "246     Salvadorans     21041.0   6411558.0           NOK        ES  "
      ]
     },
     "execution_count": 11,
     "metadata": {},
     "output_type": "execute_result"
    }
   ],
   "source": [
    "df_countries.sample()"
   ]
  },
  {
   "cell_type": "markdown",
   "metadata": {},
   "source": [
    "##### 1.3.2 Rellenar NANs en la columna total_area"
   ]
  },
  {
   "cell_type": "code",
   "execution_count": 12,
   "metadata": {},
   "outputs": [
    {
     "data": {
      "text/plain": [
       "601698.9175342466"
      ]
     },
     "execution_count": 12,
     "metadata": {},
     "output_type": "execute_result"
    }
   ],
   "source": [
    "total_area_mean = df_countries.total_area.mean()\n",
    "total_area_mean"
   ]
  },
  {
   "cell_type": "code",
   "execution_count": 13,
   "metadata": {},
   "outputs": [],
   "source": [
    "df_countries.total_area.fillna(total_area_mean, inplace=True)"
   ]
  },
  {
   "cell_type": "markdown",
   "metadata": {},
   "source": [
    "##### 1.3.3 Rellenar NaNs en la columna population"
   ]
  },
  {
   "cell_type": "code",
   "execution_count": 14,
   "metadata": {},
   "outputs": [
    {
     "data": {
      "text/plain": [
       "32923422.276190475"
      ]
     },
     "execution_count": 14,
     "metadata": {},
     "output_type": "execute_result"
    }
   ],
   "source": [
    "population_mean = df_countries.population.mean()\n",
    "population_mean"
   ]
  },
  {
   "cell_type": "code",
   "execution_count": 15,
   "metadata": {},
   "outputs": [],
   "source": [
    "df_countries.population.fillna(population_mean, inplace=True)"
   ]
  },
  {
   "cell_type": "markdown",
   "metadata": {},
   "source": [
    "##### 1.3.4 Rellenar NaNs en la columna country_alpha3_code"
   ]
  },
  {
   "cell_type": "code",
   "execution_count": 16,
   "metadata": {},
   "outputs": [],
   "source": [
    "df_countries.country_alpha3_code.fillna('-', inplace=True)"
   ]
  },
  {
   "cell_type": "markdown",
   "metadata": {},
   "source": [
    "____"
   ]
  },
  {
   "cell_type": "markdown",
   "metadata": {},
   "source": [
    "# 2. Visualización de datos"
   ]
  },
  {
   "cell_type": "code",
   "execution_count": 17,
   "metadata": {},
   "outputs": [],
   "source": [
    "import matplotlib.pyplot as plt\n",
    "%matplotlib inline\n",
    "import seaborn as sns\n",
    "sns.set()"
   ]
  },
  {
   "cell_type": "markdown",
   "metadata": {},
   "source": [
    "En la parte de visualización de datos, se utilizará el Exchanges Rates API https://exchangeratesapi.io/ para obtener los tipos de cambio respecto al dolar para el mes de Julio del 2019"
   ]
  },
  {
   "cell_type": "code",
   "execution_count": 18,
   "metadata": {},
   "outputs": [],
   "source": [
    "import requests\n",
    "import numpy as np"
   ]
  },
  {
   "cell_type": "code",
   "execution_count": 19,
   "metadata": {},
   "outputs": [],
   "source": [
    "endpoint = f\"\"\"\n",
    "https://api.exchangeratesapi.io/history\n",
    "    ? start_at=2019-07-01\n",
    "    & end_at=2019-07-30\n",
    "    & base=USD\n",
    "\"\"\""
   ]
  },
  {
   "cell_type": "code",
   "execution_count": 20,
   "metadata": {},
   "outputs": [
    {
     "data": {
      "text/plain": [
       "'https://api.exchangeratesapi.io/history?start_at=2019-07-01&end_at=2019-07-30&base=USD'"
      ]
     },
     "execution_count": 20,
     "metadata": {},
     "output_type": "execute_result"
    }
   ],
   "source": [
    "endpoint = endpoint.replace('\\n', '')\n",
    "endpoint = endpoint.replace(' ', '')\n",
    "endpoint"
   ]
  },
  {
   "cell_type": "code",
   "execution_count": 21,
   "metadata": {},
   "outputs": [
    {
     "data": {
      "text/plain": [
       "(200, 'OK')"
      ]
     },
     "execution_count": 21,
     "metadata": {},
     "output_type": "execute_result"
    }
   ],
   "source": [
    "response = requests.get(endpoint)\n",
    "response.status_code, response.reason"
   ]
  },
  {
   "cell_type": "code",
   "execution_count": 22,
   "metadata": {},
   "outputs": [
    {
     "data": {
      "text/plain": [
       "(22, 33)"
      ]
     },
     "execution_count": 22,
     "metadata": {},
     "output_type": "execute_result"
    }
   ],
   "source": [
    "import json\n",
    "json_string = response.content.decode()\n",
    "data = json.loads(json_string)\n",
    "#solo utilizar el campo rates del diccionario obtenido como respuesta\n",
    "exchange_df = pd.DataFrame(data['rates']).T\n",
    "#es necesario ordenar las fechas\n",
    "exchange_df = exchange_df.sort_index()\n",
    "#22 días (solo se toman en cuenta días hábiles) para 33 monedas\n",
    "exchange_df.shape"
   ]
  },
  {
   "cell_type": "markdown",
   "metadata": {},
   "source": [
    "### 2.1 Comparación entre las medias del tipo de cambio de todas las monedas"
   ]
  },
  {
   "cell_type": "code",
   "execution_count": 23,
   "metadata": {},
   "outputs": [
    {
     "data": {
      "text/plain": [
       "<matplotlib.axes._subplots.AxesSubplot at 0x7f51530addd8>"
      ]
     },
     "execution_count": 23,
     "metadata": {},
     "output_type": "execute_result"
    },
    {
     "data": {
      "image/png": "[encoded data removed]",
      "text/plain": [
       "<Figure size 1080x432 with 1 Axes>"
      ]
     },
     "metadata": {},
     "output_type": "display_data"
    }
   ],
   "source": [
    "#Que no hacer\n",
    "plt.figure(figsize=(15,6))\n",
    "sns.boxplot(data=exchange_df, orient=\"v\", palette=\"Set2\")"
   ]
  },
  {
   "cell_type": "code",
   "execution_count": 24,
   "metadata": {},
   "outputs": [
    {
     "data": {
      "text/plain": [
       "<matplotlib.axes._subplots.AxesSubplot at 0x7f515cc41b00>"
      ]
     },
     "execution_count": 24,
     "metadata": {},
     "output_type": "execute_result"
    },
    {
     "data": {
      "image/png": "[encoded data removed]",
      "text/plain": [
       "<Figure size 1080x432 with 1 Axes>"
      ]
     },
     "metadata": {},
     "output_type": "display_data"
    }
   ],
   "source": [
    "exchange_means = np.mean(exchange_df)\n",
    "plt.figure(figsize=(15,6))\n",
    "sns.barplot(x=exchange_means.index, y=np.log10(exchange_means.values) , orient=\"v\", palette=\"Set2\")"
   ]
  },
  {
   "cell_type": "markdown",
   "metadata": {},
   "source": [
    "### 2.2 Comparación entre el tipo de cambio del Euro y la Libra Esterlina"
   ]
  },
  {
   "cell_type": "code",
   "execution_count": 25,
   "metadata": {},
   "outputs": [
    {
     "data": {
      "text/plain": [
       "<matplotlib.legend.Legend at 0x7f5150adf828>"
      ]
     },
     "execution_count": 25,
     "metadata": {},
     "output_type": "execute_result"
    },
    {
     "data": {
      "image/png": "[encoded data removed]",
      "text/plain": [
       "<Figure size 432x288 with 1 Axes>"
      ]
     },
     "metadata": {},
     "output_type": "display_data"
    }
   ],
   "source": [
    "plt.plot(exchange_df.EUR, marker='X')\n",
    "plt.plot(exchange_df.GBP, marker='o')\n",
    "plt.xticks(rotation=45)\n",
    "plt.legend(['EUR', 'GBP'], loc=0)"
   ]
  },
  {
   "cell_type": "markdown",
   "metadata": {},
   "source": [
    "### 2.3 ¿Habrá correlaciones entre los tipos de cambio de las diferentes monedas?"
   ]
  },
  {
   "cell_type": "code",
   "execution_count": 26,
   "metadata": {},
   "outputs": [
    {
     "data": {
      "text/plain": [
       "<matplotlib.axes._subplots.AxesSubplot at 0x7f5150a88320>"
      ]
     },
     "execution_count": 26,
     "metadata": {},
     "output_type": "execute_result"
    },
    {
     "data": {
      "image/png": "[encoded data removed]",
      "text/plain": [
       "<Figure size 1080x1080 with 2 Axes>"
      ]
     },
     "metadata": {},
     "output_type": "display_data"
    }
   ],
   "source": [
    "corr = exchange_df.corr()\n",
    "plt.figure(figsize=(15,15))\n",
    "cmap = sns.diverging_palette(220, 10, as_cmap=True)\n",
    "sns.heatmap(corr, cmap=cmap, center=0, linewidths=.5)"
   ]
  },
  {
   "cell_type": "markdown",
   "metadata": {},
   "source": [
    "##### Graficar un caso donde haya mucha correlación y otro donde ocurra lo contrario"
   ]
  },
  {
   "cell_type": "code",
   "execution_count": 27,
   "metadata": {},
   "outputs": [
    {
     "data": {
      "text/plain": [
       "<matplotlib.axes._subplots.AxesSubplot at 0x7f514f845eb8>"
      ]
     },
     "execution_count": 27,
     "metadata": {},
     "output_type": "execute_result"
    },
    {
     "data": {
      "image/png": "[encoded data removed]",
      "text/plain": [
       "<Figure size 432x288 with 1 Axes>"
      ]
     },
     "metadata": {},
     "output_type": "display_data"
    }
   ],
   "source": [
    "sns.regplot(exchange_df.EUR, exchange_df.CZK)"
   ]
  },
  {
   "cell_type": "code",
   "execution_count": 28,
   "metadata": {},
   "outputs": [
    {
     "data": {
      "text/plain": [
       "<matplotlib.axes._subplots.AxesSubplot at 0x7f51187bb4a8>"
      ]
     },
     "execution_count": 28,
     "metadata": {},
     "output_type": "execute_result"
    },
    {
     "data": {
      "image/png": "[encoded data removed]",
      "text/plain": [
       "<Figure size 432x288 with 1 Axes>"
      ]
     },
     "metadata": {},
     "output_type": "display_data"
    }
   ],
   "source": [
    "sns.regplot(exchange_df.EUR, exchange_df.ILS)"
   ]
  }
 ],
 "metadata": {
  "kernelspec": {
   "display_name": "Python 3",
   "language": "python",
   "name": "python3"
  },
  "language_info": {
   "codemirror_mode": {
    "name": "ipython",
    "version": 3
   },
   "file_extension": ".py",
   "mimetype": "text/x-python",
   "name": "python",
   "nbconvert_exporter": "python",
   "pygments_lexer": "ipython3",
   "version": "3.6.5"
  }
 },
 "nbformat": 4,
 "nbformat_minor": 2
}
