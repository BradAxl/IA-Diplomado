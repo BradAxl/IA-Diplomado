{
 "cells": [
  {
   "cell_type": "markdown",
   "metadata": {},
   "source": [
    "# Algoritmos Geneticos para el problema de las N-Reynas\n",
    "<b> Diplomatura de Especialización en Desarrollo de Aplicaciones con Inteligencia Artificial 2019-01 </b>\n"
   ]
  },
  {
   "cell_type": "markdown",
   "metadata": {},
   "source": [
    "<p><img src=\"8Reinas.jpg\">"
   ]
  },
  {
   "cell_type": "code",
   "execution_count": 1,
   "metadata": {},
   "outputs": [],
   "source": [
    "import sys\n",
    "import time\n",
    "import random\n",
    "import numpy as np\n",
    "from copy import deepcopy\n",
    "import pandas as pd\n",
    "import matplotlib.pyplot as plt\n",
    "import heapq"
   ]
  },
  {
   "cell_type": "markdown",
   "metadata": {},
   "source": [
    " ## Estructura de individuo en el problema de las n-reinas "
   ]
  },
  {
   "cell_type": "code",
   "execution_count": 2,
   "metadata": {},
   "outputs": [],
   "source": [
    "class Individual(object):   \n",
    "   \n",
    "    def __init__(self, chromosome):\n",
    "            self.chromosome = chromosome[:]\n",
    "            self.fitness = -1  # -1 indica que el individuo no ha sido evaluado\n",
    "     \n",
    "    def crossover_onepoint(self, other):\n",
    "        \"Retorna dos nuevos individuos del cruzamiento de un punto entre individuos self y other \"\n",
    "        c = random.randrange(len(self.chromosome))\n",
    "        ind1 = Individual(self.chromosome[:c] + other.chromosome[c:])\n",
    "        ind2 = Individual(other.chromosome[:c] + self.chromosome[c:])\n",
    "        return [ind1, ind2]   \n",
    "    \n",
    "    def crossover_uniform(self, other):\n",
    "        chromosome1 = []\n",
    "        chromosome2 = []\n",
    "        \"Retorna dos nuevos individuos del cruzamiento uniforme entre self y other\"\n",
    "        for i in range(len(self.chromosome)):\n",
    "            if random.uniform(0, 1) < 0.5:\n",
    "                chromosome1.append(self.chromosome[i])\n",
    "                chromosome2.append(other.chromosome[i])\n",
    "            else:\n",
    "                chromosome1.append(other.chromosome[i])\n",
    "                chromosome2.append(self.chromosome[i])\n",
    "        ind1 = Individual(chromosome1)\n",
    "        ind2 = Individual(chromosome2)\n",
    "        return [ind1, ind2]     \n",
    "    \n",
    "    def mutate_position(self): \n",
    "        \"\"\"       mutate_position\n",
    "        Cambia aleatoriamente un alelo de un gen.\"\"\"\n",
    "        mutated_chromosome = deepcopy(self.chromosome)\n",
    "        mutGene = random.randrange(1,len(mutated_chromosome)) \n",
    "        newAllele = random.randrange(1,len(mutated_chromosome))\n",
    "        mutated_chromosome[mutGene] = newAllele\n",
    "        return Individual(mutated_chromosome)    \n",
    "        \n",
    "    def mutate_swap(self):\n",
    "        \"Escoge dos genes e intercambia sus alelos\"\n",
    "        mutated_chromosome = deepcopy(self.chromosome[:])\n",
    "        mutGen1 = random.randrange(1,len(mutated_chromosome))\n",
    "        mutGen2 = random.randrange(1,len(mutated_chromosome))\n",
    "        temp = mutated_chromosome[mutGen1]\n",
    "        mutated_chromosome[mutGen1] = mutated_chromosome[mutGen2]\n",
    "        mutated_chromosome[mutGen2] = temp\n",
    "        return Individual(mutated_chromosome)    "
   ]
  },
  {
   "cell_type": "markdown",
   "metadata": {},
   "source": [
    "Clase para imprimir un tablero"
   ]
  },
  {
   "cell_type": "code",
   "execution_count": 3,
   "metadata": {},
   "outputs": [],
   "source": [
    "class Board:\n",
    "    def __init__(self, genes, size):\n",
    "        board = [['.'] * size for _ in range(size)]\n",
    "        for index in range(0, len(genes), 1):\n",
    "            row = index\n",
    "            column = genes[index ]\n",
    "            board[column-1][row] = 'Q'\n",
    "        self._board = board\n",
    "\n",
    "    def get(self, row, column):\n",
    "        return self._board[column][row]\n",
    "\n",
    "    def print(self):\n",
    "        # 0,0 imprime desde abajo comenzando en el extremo izquierdo\n",
    "        for i in reversed(range(len(self._board))):\n",
    "            print(' '.join(self._board[i]))"
   ]
  },
  {
   "cell_type": "markdown",
   "metadata": {},
   "source": [
    "<b> Funcion para iniciar una Poblacion</b>"
   ]
  },
  {
   "cell_type": "code",
   "execution_count": 4,
   "metadata": {},
   "outputs": [],
   "source": [
    "def init_population(pop_number, size_chromosoma):\n",
    "    population = []\n",
    "    state_length=2\n",
    "    ## Crea la poblacion inicial con cromosomas aleatorios\n",
    "    for i in range(pop_number):\n",
    "        new_chromosome = [j for j in range(1,size_chromosoma+1)]\n",
    "        random.shuffle(new_chromosome)\n",
    "        population.append(Individual(new_chromosome))\n",
    "    return population"
   ]
  },
  {
   "cell_type": "markdown",
   "metadata": {},
   "source": [
    "Funcion para mostrar una población y su fitnes "
   ]
  },
  {
   "cell_type": "code",
   "execution_count": 5,
   "metadata": {},
   "outputs": [],
   "source": [
    "def display(population):\n",
    "    listaAG=[]\n",
    "    for i in range(len(population)):\n",
    "        listaAG.append([population[i].chromosome,population[i].fitness])\n",
    "\n",
    "    data=pd.DataFrame(listaAG)\n",
    "    data.columns = ['Poblacion','fitness']\n",
    "    return data"
   ]
  },
  {
   "cell_type": "markdown",
   "metadata": {},
   "source": [
    "## Funcion de Fitness"
   ]
  },
  {
   "cell_type": "markdown",
   "metadata": {},
   "source": [
    "<b>Funcion de aptitud para evaluar el fitness de un Cromosoma (problema de las n-reinas)</b>\n",
    "\n",
    "<b> n*(n-1)/2 </b> "
   ]
  },
  {
   "cell_type": "code",
   "execution_count": 6,
   "metadata": {},
   "outputs": [],
   "source": [
    "def fitness_nqueens(chromosome):\n",
    "    \"\"\"Retorna el fitness de un cromosoma en el problema de las n-reinas (nro de pares de reinas no atacadas) \"\"\"\n",
    "    n = len(chromosome)  # nro de reinas\n",
    "    fitness = 0\n",
    "    for i in range(n-1):\n",
    "        for j in range(i+1, n):\n",
    "            # si el par de reinas i, j  no estan en la misma fila o diagonales => par no atacado\n",
    "            if chromosome[j] not in [chromosome[i], chromosome[i] - (j-i),  chromosome[i] + (j-i)]:\n",
    "                fitness = fitness + 1\n",
    "    return fitness"
   ]
  },
  {
   "cell_type": "markdown",
   "metadata": {},
   "source": [
    "Funcion para evaluar toda una población de individuos con la funcion de fitnes especificada"
   ]
  },
  {
   "cell_type": "code",
   "execution_count": 7,
   "metadata": {},
   "outputs": [],
   "source": [
    "def evaluate_population(population, fitness_fn):\n",
    "    \"\"\" Evalua una poblacion de individuos con la funcion de fitness pasada \"\"\"\n",
    "    for i in range(len(population)):\n",
    "        if population[i].fitness == -1:    # si el individuo no esta evaluado\n",
    "            population[i].fitness = fitness_fn(population[i].chromosome)\n",
    "    return population"
   ]
  },
  {
   "cell_type": "markdown",
   "metadata": {},
   "source": [
    "## Selecciona los padres mediante operadores: Ruleta/ Torneo"
   ]
  },
  {
   "cell_type": "markdown",
   "metadata": {},
   "source": [
    "###  Ruleta"
   ]
  },
  {
   "cell_type": "code",
   "execution_count": 8,
   "metadata": {},
   "outputs": [],
   "source": [
    "def select_parents_roulette(population):\n",
    "    popsize = len(population)\n",
    "    \n",
    "    # Escoje el primer padre\n",
    "    sumfitness = sum([indiv.fitness for indiv in population])  # suma total del fitness de la poblacion\n",
    "    pickfitness = random.uniform(0, sumfitness)   # escoge un numero aleatorio entre 0 y sumfitness\n",
    "    cumfitness = 0     # fitness acumulado\n",
    "    for i in range(popsize):\n",
    "        cumfitness += population[i].fitness\n",
    "        if cumfitness > pickfitness: \n",
    "            iParent1 = i\n",
    "            break\n",
    "     \n",
    "    # Escoje el segundo padre, desconsiderando el primer padre\n",
    "    sumfitness = sumfitness - population[iParent1].fitness # retira el fitness del padre ya escogido\n",
    "    pickfitness = random.uniform(0, sumfitness)   # escoge un numero aleatorio entre 0 y sumfitness\n",
    "    cumfitness = 0     # fitness acumulado\n",
    "    for i in range(popsize):\n",
    "        if i == iParent1: continue   # si es el primer padre \n",
    "        cumfitness += population[i].fitness\n",
    "        if cumfitness > pickfitness: \n",
    "            iParent2 = i\n",
    "            break        \n",
    "    return (population[iParent1], population[iParent2])"
   ]
  },
  {
   "cell_type": "markdown",
   "metadata": {},
   "source": [
    "### Torneo"
   ]
  },
  {
   "cell_type": "code",
   "execution_count": 9,
   "metadata": {},
   "outputs": [],
   "source": [
    "def select_parents_torneo(population,size_torneo):\n",
    "    \n",
    "    # Escoje el primer padre\n",
    "    list_indiv=[]\n",
    "    x1 = np.random.permutation(len(population) )\n",
    "    y1= x1[0:size_torneo]\n",
    "    for i in range(size_torneo):\n",
    "        list_indiv.append(population[y1[i]].fitness)\n",
    "    \n",
    "    iParent1=np.argmax(list_indiv)\n",
    "    \n",
    "    # Escoje el segundo padre, desconsiderando el primer padre   \n",
    "    x2 = np.delete(x1, iParent1)\n",
    "    x2 = np.random.permutation(x2)\n",
    "    list_indiv=[]\n",
    "    y2= x2[0:size_torneo]\n",
    "    for i in range(size_torneo):\n",
    "        list_indiv.append(population[y2[i]].fitness)\n",
    "    iParent2=np.argmax(list_indiv)\n",
    "    \n",
    "    return (population[x1[iParent1]],population[x2[iParent2]])"
   ]
  },
  {
   "cell_type": "markdown",
   "metadata": {},
   "source": [
    "## Seleccion de sobrevivientes por Ranking"
   ]
  },
  {
   "cell_type": "markdown",
   "metadata": {},
   "source": [
    "<b>Funcion que selecciona sobrevivientes para la sgte generacion, dada la poblacion actual y poblacion de hijos</b>"
   ]
  },
  {
   "cell_type": "code",
   "execution_count": 10,
   "metadata": {},
   "outputs": [],
   "source": [
    "def select_survivors(population, offspring_population, numsurvivors):\n",
    "    next_population = []\n",
    "    population.extend(offspring_population) # une las dos poblaciones\n",
    "    isurvivors = sorted(range(len(population)), key=lambda i: population[i].fitness, reverse=True)[:numsurvivors]\n",
    "    for i in range(numsurvivors): next_population.append(population[isurvivors[i]])\n",
    "    return next_population"
   ]
  },
  {
   "cell_type": "markdown",
   "metadata": {},
   "source": [
    "## Algoritmo Genetico\n",
    "Recibe una poblacion inicial, funcion de fitness, numero de generaciones (ngen), metodoSeleccion (ruleta/torneo), size_torneo, taza de mutación (pmut), operador de cruzamiento (crossover) y operador de mutacion (mutation)"
   ]
  },
  {
   "cell_type": "code",
   "execution_count": 11,
   "metadata": {},
   "outputs": [],
   "source": [
    "def genetic_algorithm(population, fitness_fn, ngen, metodoSeleccion, size_torneo, pmut, crossover, mutation):\n",
    "    \n",
    "    popsize = len(population)\n",
    "    \n",
    "    # Evalua la poblacion inicial\n",
    "    evaluate_population(population, fitness_fn)  \n",
    "    \n",
    "    ibest = sorted(range(len(population)), key=lambda i: population[i].fitness, reverse=True)[:1]\n",
    "    bestfitness = [population[ibest[0]].fitness]\n",
    "    print(\"Poblacion inicial, best_fitness = {}\".format(population[ibest[0]].fitness))\n",
    "    \n",
    "    for g in range(ngen):   # Por cada generacion\n",
    "        \n",
    "        ## Selecciona las parejas de padres para cruzamiento \n",
    "        mating_pool = []\n",
    "        if metodoSeleccion==\"roulette\":\n",
    "            for i in range(int(popsize/2)): mating_pool.append(select_parents_roulette(population)) \n",
    "        elif metodoSeleccion==\"torneo\" :\n",
    "            for i in range(int(popsize/2)): mating_pool.append(select_parents_torneo(population,size_torneo)) \n",
    "        \n",
    "        ## Crea la poblacion descendencia cruzando las parejas del mating pool \n",
    "        offspring_population = []\n",
    "        for i in range(len(mating_pool)): \n",
    "            if crossover == \"onepoint\":# cruzamiento 1 punto\n",
    "                offspring_population.extend( mating_pool[i][0].crossover_onepoint(mating_pool[i][1]) ) \n",
    "            elif crossover == \"uniform\":# cruzamiento uniforme\n",
    "                offspring_population.extend( mating_pool[i][0].crossover_uniform(mating_pool[i][1]) ) \n",
    "           \n",
    "\n",
    "        ## Aplica el operador de mutacion con probabilidad pmut en cada hijo generado\n",
    "        for i in range(len(offspring_population)):\n",
    "            if random.uniform(0, 1) < pmut: \n",
    "                if mutation == \"position\":\n",
    "                    offspring_population[i] = offspring_population[i].mutate_position()   # mutacion de una posicion\n",
    "                elif mutation == \"swap\":\n",
    "                    offspring_population[i] = offspring_population[i].mutate_swap()      # mutacion swap\n",
    "        \n",
    "        ## Evalua la poblacion descendencia creada\n",
    "        evaluate_population(offspring_population, fitness_fn)  \n",
    "        \n",
    "        \n",
    "        ## Selecciona popsize individuos para la sgte. generación de la union de la pob. actual y  pob. descendencia\n",
    "        population = select_survivors(population, offspring_population, popsize)  # Sobrevivientes por Ranking \n",
    "  \n",
    "        ## Almacena la historia del fitness del mejor individuo\n",
    "        ibest = sorted(range(len(population)), key=lambda i: population[i].fitness, reverse=True)[:1]\n",
    "        bestfitness.append(population[ibest[0]].fitness)\n",
    "        print(\"generacion {}, best_fitness = {},best_cromosoma = {}\".format(g, population[ibest[0]].fitness,population[ibest[0]].chromosome))\n",
    "    \n",
    "    return population[ibest[0]], bestfitness  "
   ]
  },
  {
   "cell_type": "markdown",
   "metadata": {},
   "source": [
    "## Probando el Algoritmo genetico"
   ]
  },
  {
   "cell_type": "code",
   "execution_count": 12,
   "metadata": {},
   "outputs": [],
   "source": [
    "## Crea la poblacion inicial con cromosomas aleatorios\n",
    "\n",
    "size_chromosoma = 10      \n",
    "num_individuals = 50\n",
    "\n",
    "# Inicializa una poblacion inicial de forma aleatoria\n",
    "population = init_population(num_individuals, size_chromosoma)\n",
    "#display(population) #Imprime la primera poblacion "
   ]
  },
  {
   "cell_type": "code",
   "execution_count": 13,
   "metadata": {},
   "outputs": [
    {
     "name": "stdout",
     "output_type": "stream",
     "text": [
      "45\n"
     ]
    }
   ],
   "source": [
    "# n*(n-1)/2  Maximo valor del fitness  \n",
    "print(int(size_chromosoma*(size_chromosoma-1)/2))"
   ]
  },
  {
   "cell_type": "markdown",
   "metadata": {},
   "source": [
    "<b>Busqueda Genetica para el problema de las n-reinas</b>"
   ]
  },
  {
   "cell_type": "markdown",
   "metadata": {},
   "source": [
    "Llama al algoritmo genetico para encontrar una solucion al problema de las n reinas"
   ]
  },
  {
   "cell_type": "code",
   "execution_count": 20,
   "metadata": {},
   "outputs": [
    {
     "name": "stdout",
     "output_type": "stream",
     "text": [
      "Poblacion inicial, best_fitness = 43\n",
      "generacion 0, best_fitness = 43,best_cromosoma = [6, 3, 7, 2, 8, 4, 1, 10, 5, 9]\n",
      "generacion 1, best_fitness = 43,best_cromosoma = [6, 3, 7, 2, 8, 4, 1, 10, 5, 9]\n",
      "generacion 2, best_fitness = 43,best_cromosoma = [6, 3, 7, 2, 8, 4, 1, 10, 5, 9]\n",
      "generacion 3, best_fitness = 43,best_cromosoma = [6, 3, 7, 2, 8, 4, 1, 10, 5, 9]\n",
      "generacion 4, best_fitness = 43,best_cromosoma = [6, 3, 7, 2, 8, 4, 1, 10, 5, 9]\n",
      "generacion 5, best_fitness = 43,best_cromosoma = [6, 3, 7, 2, 8, 4, 1, 10, 5, 9]\n",
      "generacion 6, best_fitness = 43,best_cromosoma = [6, 3, 7, 2, 8, 4, 1, 10, 5, 9]\n",
      "generacion 7, best_fitness = 43,best_cromosoma = [6, 3, 7, 2, 8, 4, 1, 10, 5, 9]\n",
      "generacion 8, best_fitness = 43,best_cromosoma = [6, 3, 7, 2, 8, 4, 1, 10, 5, 9]\n",
      "generacion 9, best_fitness = 43,best_cromosoma = [6, 3, 7, 2, 8, 4, 1, 10, 5, 9]\n",
      "generacion 10, best_fitness = 43,best_cromosoma = [6, 3, 7, 2, 8, 4, 1, 10, 5, 9]\n",
      "generacion 11, best_fitness = 43,best_cromosoma = [6, 3, 7, 2, 8, 4, 1, 10, 5, 9]\n",
      "generacion 12, best_fitness = 44,best_cromosoma = [6, 3, 9, 2, 8, 5, 1, 10, 5, 7]\n",
      "generacion 13, best_fitness = 44,best_cromosoma = [6, 3, 9, 2, 8, 5, 1, 10, 5, 7]\n",
      "generacion 14, best_fitness = 44,best_cromosoma = [6, 3, 9, 2, 8, 5, 1, 10, 5, 7]\n",
      "generacion 15, best_fitness = 44,best_cromosoma = [6, 3, 9, 2, 8, 5, 1, 10, 5, 7]\n",
      "generacion 16, best_fitness = 44,best_cromosoma = [6, 3, 9, 2, 8, 5, 1, 10, 5, 7]\n",
      "generacion 17, best_fitness = 44,best_cromosoma = [6, 3, 9, 2, 8, 5, 1, 10, 5, 7]\n",
      "generacion 18, best_fitness = 44,best_cromosoma = [6, 3, 9, 2, 8, 5, 1, 10, 5, 7]\n",
      "generacion 19, best_fitness = 44,best_cromosoma = [6, 3, 9, 2, 8, 5, 1, 10, 5, 7]\n",
      "generacion 20, best_fitness = 44,best_cromosoma = [6, 3, 9, 2, 8, 5, 1, 10, 5, 7]\n",
      "generacion 21, best_fitness = 44,best_cromosoma = [6, 3, 9, 2, 8, 5, 1, 10, 5, 7]\n",
      "generacion 22, best_fitness = 44,best_cromosoma = [6, 3, 9, 2, 8, 5, 1, 10, 5, 7]\n",
      "generacion 23, best_fitness = 44,best_cromosoma = [6, 3, 9, 2, 8, 5, 1, 10, 5, 7]\n",
      "generacion 24, best_fitness = 44,best_cromosoma = [6, 3, 9, 2, 8, 5, 1, 10, 5, 7]\n",
      "generacion 25, best_fitness = 44,best_cromosoma = [6, 3, 9, 2, 8, 5, 1, 10, 5, 7]\n",
      "generacion 26, best_fitness = 44,best_cromosoma = [6, 3, 9, 2, 8, 5, 1, 10, 5, 7]\n",
      "generacion 27, best_fitness = 44,best_cromosoma = [6, 3, 9, 2, 8, 5, 1, 10, 5, 7]\n",
      "generacion 28, best_fitness = 44,best_cromosoma = [6, 3, 9, 2, 8, 5, 1, 10, 5, 7]\n",
      "generacion 29, best_fitness = 44,best_cromosoma = [6, 3, 9, 2, 8, 5, 1, 10, 5, 7]\n",
      "generacion 30, best_fitness = 44,best_cromosoma = [6, 3, 9, 2, 8, 5, 1, 10, 5, 7]\n",
      "generacion 31, best_fitness = 44,best_cromosoma = [6, 3, 9, 2, 8, 5, 1, 10, 5, 7]\n",
      "generacion 32, best_fitness = 44,best_cromosoma = [6, 3, 9, 2, 8, 5, 1, 10, 5, 7]\n",
      "generacion 33, best_fitness = 44,best_cromosoma = [6, 3, 9, 2, 8, 5, 1, 10, 5, 7]\n",
      "generacion 34, best_fitness = 44,best_cromosoma = [6, 3, 9, 2, 8, 5, 1, 10, 5, 7]\n",
      "generacion 35, best_fitness = 44,best_cromosoma = [6, 3, 9, 2, 8, 5, 1, 10, 5, 7]\n",
      "generacion 36, best_fitness = 44,best_cromosoma = [6, 3, 9, 2, 8, 5, 1, 10, 5, 7]\n",
      "generacion 37, best_fitness = 44,best_cromosoma = [6, 3, 9, 2, 8, 5, 1, 10, 5, 7]\n",
      "generacion 38, best_fitness = 44,best_cromosoma = [6, 3, 9, 2, 8, 5, 1, 10, 5, 7]\n",
      "generacion 39, best_fitness = 44,best_cromosoma = [6, 3, 9, 2, 8, 5, 1, 10, 5, 7]\n",
      "generacion 40, best_fitness = 44,best_cromosoma = [6, 3, 9, 2, 8, 5, 1, 10, 5, 7]\n",
      "generacion 41, best_fitness = 44,best_cromosoma = [6, 3, 9, 2, 8, 5, 1, 10, 5, 7]\n",
      "generacion 42, best_fitness = 44,best_cromosoma = [6, 3, 9, 2, 8, 5, 1, 10, 5, 7]\n",
      "generacion 43, best_fitness = 44,best_cromosoma = [6, 3, 9, 2, 8, 5, 1, 10, 5, 7]\n",
      "generacion 44, best_fitness = 44,best_cromosoma = [6, 3, 9, 2, 8, 5, 1, 10, 5, 7]\n",
      "generacion 45, best_fitness = 44,best_cromosoma = [6, 3, 9, 2, 8, 5, 1, 10, 5, 7]\n",
      "generacion 46, best_fitness = 44,best_cromosoma = [6, 3, 9, 2, 8, 5, 1, 10, 5, 7]\n",
      "generacion 47, best_fitness = 44,best_cromosoma = [6, 3, 9, 2, 8, 5, 1, 10, 5, 7]\n",
      "generacion 48, best_fitness = 44,best_cromosoma = [6, 3, 9, 2, 8, 5, 1, 10, 5, 7]\n",
      "generacion 49, best_fitness = 44,best_cromosoma = [6, 3, 9, 2, 8, 5, 1, 10, 5, 7]\n",
      "generacion 50, best_fitness = 44,best_cromosoma = [6, 3, 9, 2, 8, 5, 1, 10, 5, 7]\n",
      "generacion 51, best_fitness = 44,best_cromosoma = [6, 3, 9, 2, 8, 5, 1, 10, 5, 7]\n",
      "generacion 52, best_fitness = 44,best_cromosoma = [6, 3, 9, 2, 8, 5, 1, 10, 5, 7]\n",
      "generacion 53, best_fitness = 44,best_cromosoma = [6, 3, 9, 2, 8, 5, 1, 10, 5, 7]\n",
      "generacion 54, best_fitness = 44,best_cromosoma = [6, 3, 9, 2, 8, 5, 1, 10, 5, 7]\n",
      "generacion 55, best_fitness = 44,best_cromosoma = [6, 3, 9, 2, 8, 5, 1, 10, 5, 7]\n",
      "generacion 56, best_fitness = 44,best_cromosoma = [6, 3, 9, 2, 8, 5, 1, 10, 5, 7]\n",
      "generacion 57, best_fitness = 44,best_cromosoma = [6, 3, 9, 2, 8, 5, 1, 10, 5, 7]\n",
      "generacion 58, best_fitness = 44,best_cromosoma = [6, 3, 9, 2, 8, 5, 1, 10, 5, 7]\n",
      "generacion 59, best_fitness = 44,best_cromosoma = [6, 3, 9, 2, 8, 5, 1, 10, 5, 7]\n",
      "generacion 60, best_fitness = 44,best_cromosoma = [6, 3, 9, 2, 8, 5, 1, 10, 5, 7]\n",
      "generacion 61, best_fitness = 44,best_cromosoma = [6, 3, 9, 2, 8, 5, 1, 10, 5, 7]\n",
      "generacion 62, best_fitness = 45,best_cromosoma = [6, 3, 10, 2, 4, 9, 1, 8, 5, 7]\n",
      "generacion 63, best_fitness = 45,best_cromosoma = [6, 3, 10, 2, 4, 9, 1, 8, 5, 7]\n",
      "generacion 64, best_fitness = 45,best_cromosoma = [6, 3, 10, 2, 4, 9, 1, 8, 5, 7]\n",
      "generacion 65, best_fitness = 45,best_cromosoma = [6, 3, 10, 2, 4, 9, 1, 8, 5, 7]\n",
      "generacion 66, best_fitness = 45,best_cromosoma = [6, 3, 10, 2, 4, 9, 1, 8, 5, 7]\n",
      "generacion 67, best_fitness = 45,best_cromosoma = [6, 3, 10, 2, 4, 9, 1, 8, 5, 7]\n",
      "generacion 68, best_fitness = 45,best_cromosoma = [6, 3, 10, 2, 4, 9, 1, 8, 5, 7]\n",
      "generacion 69, best_fitness = 45,best_cromosoma = [6, 3, 10, 2, 4, 9, 1, 8, 5, 7]\n",
      "generacion 70, best_fitness = 45,best_cromosoma = [6, 3, 10, 2, 4, 9, 1, 8, 5, 7]\n",
      "generacion 71, best_fitness = 45,best_cromosoma = [6, 3, 10, 2, 4, 9, 1, 8, 5, 7]\n",
      "generacion 72, best_fitness = 45,best_cromosoma = [6, 3, 10, 2, 4, 9, 1, 8, 5, 7]\n",
      "generacion 73, best_fitness = 45,best_cromosoma = [6, 3, 10, 2, 4, 9, 1, 8, 5, 7]\n",
      "generacion 74, best_fitness = 45,best_cromosoma = [6, 3, 10, 2, 4, 9, 1, 8, 5, 7]\n",
      "generacion 75, best_fitness = 45,best_cromosoma = [6, 3, 10, 2, 4, 9, 1, 8, 5, 7]\n",
      "generacion 76, best_fitness = 45,best_cromosoma = [6, 3, 10, 2, 4, 9, 1, 8, 5, 7]\n",
      "generacion 77, best_fitness = 45,best_cromosoma = [6, 3, 10, 2, 4, 9, 1, 8, 5, 7]\n",
      "generacion 78, best_fitness = 45,best_cromosoma = [6, 3, 10, 2, 4, 9, 1, 8, 5, 7]\n",
      "generacion 79, best_fitness = 45,best_cromosoma = [6, 3, 10, 2, 4, 9, 1, 8, 5, 7]\n",
      "generacion 80, best_fitness = 45,best_cromosoma = [6, 3, 10, 2, 4, 9, 1, 8, 5, 7]\n",
      "generacion 81, best_fitness = 45,best_cromosoma = [6, 3, 10, 2, 4, 9, 1, 8, 5, 7]\n",
      "generacion 82, best_fitness = 45,best_cromosoma = [6, 3, 10, 2, 4, 9, 1, 8, 5, 7]\n",
      "generacion 83, best_fitness = 45,best_cromosoma = [6, 3, 10, 2, 4, 9, 1, 8, 5, 7]\n",
      "generacion 84, best_fitness = 45,best_cromosoma = [6, 3, 10, 2, 4, 9, 1, 8, 5, 7]\n",
      "generacion 85, best_fitness = 45,best_cromosoma = [6, 3, 10, 2, 4, 9, 1, 8, 5, 7]\n",
      "generacion 86, best_fitness = 45,best_cromosoma = [6, 3, 10, 2, 4, 9, 1, 8, 5, 7]\n",
      "generacion 87, best_fitness = 45,best_cromosoma = [6, 3, 10, 2, 4, 9, 1, 8, 5, 7]\n",
      "generacion 88, best_fitness = 45,best_cromosoma = [6, 3, 10, 2, 4, 9, 1, 8, 5, 7]\n",
      "generacion 89, best_fitness = 45,best_cromosoma = [6, 3, 10, 2, 4, 9, 1, 8, 5, 7]\n",
      "generacion 90, best_fitness = 45,best_cromosoma = [6, 3, 10, 2, 4, 9, 1, 8, 5, 7]\n",
      "generacion 91, best_fitness = 45,best_cromosoma = [6, 3, 10, 2, 4, 9, 1, 8, 5, 7]\n",
      "generacion 92, best_fitness = 45,best_cromosoma = [6, 3, 10, 2, 4, 9, 1, 8, 5, 7]\n",
      "generacion 93, best_fitness = 45,best_cromosoma = [6, 3, 10, 2, 4, 9, 1, 8, 5, 7]\n",
      "generacion 94, best_fitness = 45,best_cromosoma = [6, 3, 10, 2, 4, 9, 1, 8, 5, 7]\n",
      "generacion 95, best_fitness = 45,best_cromosoma = [6, 3, 10, 2, 4, 9, 1, 8, 5, 7]\n",
      "generacion 96, best_fitness = 45,best_cromosoma = [6, 3, 10, 2, 4, 9, 1, 8, 5, 7]\n",
      "generacion 97, best_fitness = 45,best_cromosoma = [6, 3, 10, 2, 4, 9, 1, 8, 5, 7]\n",
      "generacion 98, best_fitness = 45,best_cromosoma = [6, 3, 10, 2, 4, 9, 1, 8, 5, 7]\n",
      "generacion 99, best_fitness = 45,best_cromosoma = [6, 3, 10, 2, 4, 9, 1, 8, 5, 7]\n"
     ]
    },
    {
     "data": {
      "image/png": "[encoded data removed]",
      "text/plain": [
       "<Figure size 432x288 with 1 Axes>"
      ]
     },
     "metadata": {
      "needs_background": "light"
     },
     "output_type": "display_data"
    }
   ],
   "source": [
    "import matplotlib.pyplot as plt\n",
    "ngen = 100 # Nro de generaciones\n",
    "pmut = 0.5 # taza de mutación\n",
    "fitness_fn=fitness_nqueens\n",
    "\n",
    "metodoSeleccion=['roulette','torneo']\n",
    "size_torneo = int(5*num_individuals/100) #tamaño del torneo como porcentaje de la poblacion (5%)\n",
    "\n",
    "crossover=['onepoint','uniform']\n",
    "mutation=['position','swap']\n",
    "\n",
    "lst_bestcrom=[]\n",
    "best_ind, bestfitness = genetic_algorithm(population, fitness_fn, ngen, metodoSeleccion[0],\n",
    "                                          size_torneo, pmut, crossover[1], mutation[0])\n",
    "lst_bestcrom.append(best_ind)\n",
    "plt.plot(bestfitness)\n",
    "plt.show()"
   ]
  },
  {
   "cell_type": "code",
   "execution_count": 19,
   "metadata": {},
   "outputs": [
    {
     "name": "stdout",
     "output_type": "stream",
     "text": [
      ". . Q . . . . . . .\n",
      ". . . . . Q . . . .\n",
      ". . . Q . . . . . .\n",
      ". . . . . . . . . Q\n",
      "Q . . . . . . . . .\n",
      ". . . . . . . . Q .\n",
      ". . . . Q . . . . .\n",
      ". . . . . . . Q . .\n",
      ". Q . . . . . . . .\n",
      ". . . . . . Q . . .\n",
      "[6, 2, 10, 8, 4, 9, 1, 3, 5, 7]\n"
     ]
    }
   ],
   "source": [
    "num_queens=size_chromosoma\n",
    "candidato=lst_bestcrom[0].chromosome\n",
    "board = Board(candidato,num_queens )\n",
    "board.print()\n",
    "print(candidato)"
   ]
  },
  {
   "cell_type": "code",
   "execution_count": null,
   "metadata": {},
   "outputs": [],
   "source": []
  }
 ],
 "metadata": {
  "kernelspec": {
   "display_name": "Python 3",
   "language": "python",
   "name": "python3"
  },
  "language_info": {
   "codemirror_mode": {
    "name": "ipython",
    "version": 3
   },
   "file_extension": ".py",
   "mimetype": "text/x-python",
   "name": "python",
   "nbconvert_exporter": "python",
   "pygments_lexer": "ipython3",
   "version": "3.7.3"
  },
  "toc": {
   "base_numbering": 1,
   "nav_menu": {},
   "number_sections": true,
   "sideBar": true,
   "skip_h1_title": false,
   "title_cell": "Table of Contents",
   "title_sidebar": "Contents",
   "toc_cell": false,
   "toc_position": {},
   "toc_section_display": true,
   "toc_window_display": false
  }
 },
 "nbformat": 4,
 "nbformat_minor": 2
}
