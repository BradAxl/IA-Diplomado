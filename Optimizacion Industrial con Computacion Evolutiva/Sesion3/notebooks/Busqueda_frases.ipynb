{
 "cells": [
  {
   "cell_type": "markdown",
   "metadata": {},
   "source": [
    "<b>Experimentando con Algoritmos Geneticos para buscar frases</b> "
   ]
  },
  {
   "cell_type": "code",
   "execution_count": 2,
   "metadata": {},
   "outputs": [],
   "source": [
    "import sys\n",
    "import time\n",
    "import numpy as np\n",
    "import random\n",
    "from copy import deepcopy\n",
    "import pandas as pd\n",
    "import matplotlib.pyplot as plt\n",
    "import heapq"
   ]
  },
  {
   "cell_type": "markdown",
   "metadata": {},
   "source": [
    "## Estructura de individuo "
   ]
  },
  {
   "cell_type": "code",
   "execution_count": 3,
   "metadata": {},
   "outputs": [],
   "source": [
    " \"\"\" Clase que implementa el individuo y sus operadores. El cromosoma de un individuo es una lista de caracteres,\n",
    "       cada elemento de la lista es un gen cuyos alelos (caracteres) posibles se indican en allele_pool\"\"\"\n",
    "\n",
    "class Individual:   \n",
    "    \n",
    "    def __init__(self, chromosome, allele_pool):  # el constructor recibe el cromosoma  y el pool de alelos posibles\n",
    "        self.chromosome = chromosome[:]\n",
    "        self.allele_pool = allele_pool\n",
    "        self.fitness = -1  # -1 indica que el individuo no ha sido evaluado\n",
    "        \n",
    "    def crossover_onepoint(self, other):\n",
    "        \"Retorna dos nuevos individuos del cruzamiento de un punto entre individuos self y other \"\n",
    "        c = random.randrange(len(self.chromosome))\n",
    "        ind1 = Individual(self.chromosome[:c] + other.chromosome[c:], allele_pool)\n",
    "        ind2 = Individual(other.chromosome[:c] + self.chromosome[c:], allele_pool)\n",
    "        return [ind1, ind2]   \n",
    "    \n",
    "    \n",
    "    def crossover_uniform(self, other):\n",
    "        chromosome1 = []\n",
    "        chromosome2 = []\n",
    "        \"Retorna dos nuevos individuos del cruzamiento uniforme entre self y other \"\n",
    "        for i in range(len(self.chromosome)):\n",
    "            if random.uniform(0, 1) < 0.5:\n",
    "                chromosome1.append(self.chromosome[i])\n",
    "                chromosome2.append(other.chromosome[i])\n",
    "            else:\n",
    "                chromosome1.append(other.chromosome[i])\n",
    "                chromosome2.append(self.chromosome[i])\n",
    "        ind1 = Individual(chromosome1, allele_pool)\n",
    "        ind2 = Individual(chromosome2, allele_pool)\n",
    "        return [ind1, ind2] \n",
    "\n",
    "    def mutate_position(self):\n",
    "        \"Cambia aleatoriamente el alelo de un gen.\"\n",
    "        mutated_chromosome = deepcopy(self.chromosome)\n",
    "        mutGene = random.randrange(0,len(mutated_chromosome)) \n",
    "        newAllele = allele_pool[random.randrange(0,len(allele_pool))]\n",
    "        mutated_chromosome[mutGene] = newAllele\n",
    "        return Individual(mutated_chromosome, allele_pool)\n",
    "        \n",
    "    def mutate_swap(self):\n",
    "        \"Escoge dos genes e intercambia sus alelos\"\n",
    "        mutated_chromosome = deepcopy(self.chromosome)\n",
    "        mutGen1 = random.randrange(0,len(mutated_chromosome))\n",
    "        mutGen2 = random.randrange(0,len(mutated_chromosome))\n",
    "        temp = mutated_chromosome[mutGen1]\n",
    "        mutated_chromosome[mutGen1] = mutated_chromosome[mutGen2]\n",
    "        mutated_chromosome[mutGen2] = temp\n",
    "        return Individual(mutated_chromosome, allele_pool)"
   ]
  },
  {
   "cell_type": "markdown",
   "metadata": {},
   "source": [
    "Funcion para iniciar una Poblacion tipo string"
   ]
  },
  {
   "cell_type": "code",
   "execution_count": 4,
   "metadata": {},
   "outputs": [],
   "source": [
    "def init_population(pop_number, chromosome_size, allele_pool):\n",
    "    \n",
    "    num_alleles = len(allele_pool)\n",
    "    population = []\n",
    "    for i in range(pop_number):\n",
    "        new_chromosome = [allele_pool[random.randrange(0, num_alleles)] for j in range(chromosome_size)]\n",
    "        population.append( Individual(new_chromosome, allele_pool) )\n",
    "    return population"
   ]
  },
  {
   "cell_type": "markdown",
   "metadata": {},
   "source": [
    "Funcion para mostrar una población y su fitnes"
   ]
  },
  {
   "cell_type": "code",
   "execution_count": 5,
   "metadata": {},
   "outputs": [],
   "source": [
    "def display(population):\n",
    "    listaAG=[]\n",
    "    for i in range(len(population)):\n",
    "        listaAG.append([''.join(population[i].chromosome),population[i].fitness])\n",
    "\n",
    "    data=pd.DataFrame(listaAG)\n",
    "    data.columns = ['Poblacion','fitness']\n",
    "    return data"
   ]
  },
  {
   "cell_type": "markdown",
   "metadata": {},
   "source": [
    "## Funcion de Aptitud"
   ]
  },
  {
   "cell_type": "markdown",
   "metadata": {},
   "source": [
    "Funcion para evaluar toda una población de individuos con un \"Target_string\" especificado"
   ]
  },
  {
   "cell_type": "code",
   "execution_count": 6,
   "metadata": {},
   "outputs": [],
   "source": [
    "def matching_characters(chromosome, target_string):\n",
    "    \"\"\"Retorna el fitness de un cromosoma como el numero de caracteres coincidentes con la frase objetivo\"\"\"\n",
    "    fitness = 0 # initialize fitness to 0\n",
    "    for i in range(len(chromosome)):\n",
    "        # suma 1 por cada coincidencia entre chromosome y target_string\n",
    "        if chromosome[i] == target_string[i]:\n",
    "            fitness += 1\n",
    "    return fitness"
   ]
  },
  {
   "cell_type": "code",
   "execution_count": 7,
   "metadata": {},
   "outputs": [],
   "source": [
    "def matching_characters2(chromosome, target_string): #Itera sobre 2 listas\n",
    "    \"\"\"Retorna el fitness de un cromosoma como el numero de caracteres coincidentes con la frase objetivo\"\"\"\n",
    "    fitness = 0 # initialize fitness to 0\n",
    "    #Si el valor actual = esperado entonces suma 1. Coincidencia total= len(target)\n",
    "    fitness = sum(1 for actualIndividuo,expected in\n",
    "                  zip(''.join(chromosome),target_string) \n",
    "                  if actualIndividuo==expected)\n",
    "    return fitness"
   ]
  },
  {
   "cell_type": "markdown",
   "metadata": {},
   "source": [
    "<b>Funcion para evaluar toda una población de individuos con la funcion de fitnes especificada</b>"
   ]
  },
  {
   "cell_type": "code",
   "execution_count": 8,
   "metadata": {},
   "outputs": [],
   "source": [
    "def evaluate_population(population, fitness_fn, target_string):\n",
    "    \"\"\" Evalua una poblacion de individuos con la funcion de fitness pasada \"\"\"\n",
    "    popsize = len(population)\n",
    "    for i in range(popsize):\n",
    "        if population[i].fitness == -1:    # evalua solo si el individuo no esta evaluado\n",
    "            population[i].fitness = fitness_fn(population[i].chromosome, target_string)"
   ]
  },
  {
   "cell_type": "markdown",
   "metadata": {
    "heading_collapsed": true
   },
   "source": [
    "## Selecciona los padres mediante operadores: Ruleta/ Torneo"
   ]
  },
  {
   "cell_type": "markdown",
   "metadata": {
    "hidden": true
   },
   "source": [
    "### Ruleta"
   ]
  },
  {
   "cell_type": "code",
   "execution_count": 9,
   "metadata": {
    "hidden": true
   },
   "outputs": [],
   "source": [
    "def select_parents_roulette(population):\n",
    "    popsize = len(population)\n",
    "    \n",
    "    # Escoje el primer padre\n",
    "    sumfitness = sum([indiv.fitness for indiv in population])  # suma total del fitness de la poblacion\n",
    "    pickfitness = random.uniform(0, sumfitness)   # escoge un numero aleatorio entre 0 y sumfitness\n",
    "    cumfitness = 0     # fitness acumulado\n",
    "    for i in range(popsize):\n",
    "        cumfitness += population[i].fitness\n",
    "        if cumfitness > pickfitness: \n",
    "            iParent1 = i\n",
    "            break\n",
    "     \n",
    "    # Escoje el segundo padre, desconsiderando el primer padre\n",
    "    sumfitness = sumfitness - population[iParent1].fitness # retira el fitness del padre ya escogido\n",
    "    pickfitness = random.uniform(0, sumfitness)   # escoge un numero aleatorio entre 0 y sumfitness\n",
    "    cumfitness = 0     # fitness acumulado\n",
    "    for i in range(popsize):\n",
    "        if i == iParent1: continue   # si es el primer padre \n",
    "        cumfitness += population[i].fitness\n",
    "        if cumfitness > pickfitness: \n",
    "            iParent2 = i\n",
    "            break        \n",
    "    return (population[iParent1], population[iParent2])"
   ]
  },
  {
   "cell_type": "markdown",
   "metadata": {
    "hidden": true
   },
   "source": [
    "### Torneo"
   ]
  },
  {
   "cell_type": "code",
   "execution_count": 10,
   "metadata": {
    "hidden": true
   },
   "outputs": [],
   "source": [
    "def select_parents_torneo(population,size_torneo):\n",
    "    \n",
    "    # Escoje el primer padre\n",
    "    list_indiv=[]\n",
    "    x1 = np.random.permutation(len(population) )\n",
    "    y1= x1[0:size_torneo]\n",
    "    for i in range(size_torneo):\n",
    "        list_indiv.append(population[y1[i]].fitness)\n",
    "    \n",
    "    iParent1=np.argmax(list_indiv)\n",
    "    \n",
    "    # Escoje el segundo padre, desconsiderando el primer padre   \n",
    "    x2 = np.delete(x1, iParent1)\n",
    "    x2 = np.random.permutation(x2)\n",
    "    list_indiv=[]\n",
    "    y2= x2[0:size_torneo]\n",
    "    for i in range(size_torneo):\n",
    "        list_indiv.append(population[y2[i]].fitness)\n",
    "    iParent2=np.argmax(list_indiv)\n",
    "    \n",
    "    return (population[x1[iParent1]],population[x2[iParent2]])"
   ]
  },
  {
   "cell_type": "markdown",
   "metadata": {},
   "source": [
    "## Seleccion de sobrevivientes por Ranking"
   ]
  },
  {
   "cell_type": "markdown",
   "metadata": {},
   "source": [
    "<b>Funcion que selecciona sobrevivientes para la sgte generacion, dada la poblacion actual y poblacion de hijos</b>"
   ]
  },
  {
   "cell_type": "code",
   "execution_count": 11,
   "metadata": {},
   "outputs": [],
   "source": [
    "def select_survivors(population, offspring_population, numsurvivors):\n",
    "    next_population = []\n",
    "    population.extend(offspring_population) # une las dos poblaciones\n",
    "    isurvivors = sorted(range(len(population)), key=lambda i: population[i].fitness, reverse=True)[:numsurvivors]\n",
    "    for i in range(numsurvivors): next_population.append(population[isurvivors[i]])\n",
    "    return next_population"
   ]
  },
  {
   "cell_type": "markdown",
   "metadata": {},
   "source": [
    "## Algoritmo Genetico\n",
    "Recibe una poblacion inicial, funcion de fitness, numero de generaciones (ngen), metodoSeleccion (ruleta/torneo), size_torneo, taza de mutación (pmut), operador de cruzamiento (crossover) y operador de mutacion (mutation)"
   ]
  },
  {
   "cell_type": "code",
   "execution_count": 12,
   "metadata": {},
   "outputs": [],
   "source": [
    "def genetic_algorithm(population, fitness_fn, target_string, ngen, metodoSeleccion, size_torneo, pmut, crossover, mutation):\n",
    "\n",
    "    popsize = len(population)\n",
    "    evaluate_population(population, fitness_fn, target_string)  # evalua la poblacion inicial\n",
    "    ibest = sorted(range(len(population)), key=lambda i: population[i].fitness, reverse=True)[:1]  # mejor individuo\n",
    "    bestfitness = [population[ibest[0]].fitness]  # mejor fitness\n",
    "    print(\"Poblacion inicial, best_fitness = {}\".format(population[ibest[0]].fitness))\n",
    "    \n",
    "    for g in range(ngen):   # Por cada generacion\n",
    "\n",
    "        ## Selecciona las parejas de padres para cruzamiento \n",
    "        mating_pool = []\n",
    "        if metodoSeleccion==\"roulette\":\n",
    "            for i in range(int(popsize/2)): mating_pool.append(select_parents_roulette(population)) \n",
    "        elif metodoSeleccion==\"torneo\" :\n",
    "            for i in range(int(popsize/2)): mating_pool.append(select_parents_torneo(population,size_torneo)) \n",
    "                    \n",
    "        ## Crea la poblacion descendencia cruzando las parejas del mating pool \n",
    "        offspring_population = []\n",
    "        for i in range(len(mating_pool)): \n",
    "            if crossover == \"onepoint\":\n",
    "                offspring_population.extend( mating_pool[i][0].crossover_onepoint(mating_pool[i][1]) ) # cruzamiento 1 punto\n",
    "            elif crossover == \"uniform\":\n",
    "                offspring_population.extend( mating_pool[i][0].crossover_uniform(mating_pool[i][1]) ) # cruzamiento uniforme\n",
    "\n",
    "        ## Aplica el operador de mutacion con probabilidad pmut en cada hijo generado\n",
    "        for i in range(len(offspring_population)):\n",
    "            if random.uniform(0, 1) < pmut: \n",
    "                if mutation == \"position\":\n",
    "                    offspring_population[i] = offspring_population[i].mutate_position()   # mutacion de una posicion\n",
    "                elif mutation == \"swap\":\n",
    "                    offspring_population[i] = offspring_population[i].mutate_swap()      # mutacion swap\n",
    "        \n",
    "        ## Evalua la poblacion descendencia creada\n",
    "        evaluate_population(offspring_population, fitness_fn, target_string)  # evalua la poblacion descendencia\n",
    "        \n",
    "        ## Selecciona popsize individuos para la sgte. generación de la union de la pob. actual y  pob. descendencia\n",
    "        population = select_survivors(population, offspring_population, popsize)\n",
    "\n",
    "        ## Almacena la historia del fitness del mejor individuo\n",
    "        ibest = sorted(range(len(population)), key=lambda i: population[i].fitness, reverse=True)[:1]\n",
    "        bestfitness.append(population[ibest[0]].fitness)\n",
    "        \n",
    "       # if (g % 10 == 0):\n",
    "        best_string = ''.join(population[ibest[0]].chromosome) # convert the chromosome to a string for printing\n",
    "        print(\"generacion {}, Mejor individuol = {} (fitness = {})\".format(g, best_string, population[ibest[0]].fitness))\n",
    "        \n",
    "    #best_string = ''.join(population[ibest[0]].chromosome)\n",
    "    #print(\"Mejor individuo en la ultima generacion ({}) = {} (fitness = {})\".format(g, best_string, population[ibest[0]].fitness))\n",
    "    return population[ibest[0]], bestfitness  # devuelve el mejor individuo y la evolucion del mejor fitness x gen"
   ]
  },
  {
   "cell_type": "markdown",
   "metadata": {},
   "source": [
    " ## Probando el Algoritmo genetico"
   ]
  },
  {
   "cell_type": "code",
   "execution_count": 15,
   "metadata": {
    "scrolled": true
   },
   "outputs": [
    {
     "name": "stdout",
     "output_type": "stream",
     "text": [
      "Poblacion inicial, best_fitness = 3\n",
      "generacion 0, Mejor individuol = cHtubgwaxGiq QrmvjBO aiRHdTRcLjKKt (fitness = 5)\n",
      "generacion 1, Mejor individuol = iItISdLeLObq mrmtzGrGbtIeL VozmTcZ (fitness = 6)\n",
      "generacion 2, Mejor individuol = qgNrlNRbGcYn YCkNpSYWXugentAY PzlM (fitness = 7)\n",
      "generacion 3, Mejor individuol = qgNrlNRbGcYn YCkNpSYWXugentAY PzlM (fitness = 7)\n",
      "generacion 4, Mejor individuol = dnizEcfbbcYn mrmvjBOWXugenJNBmHUhP (fitness = 8)\n",
      "generacion 5, Mejor individuol = IoHxLh cdZVM arRifLkOaATSnGYUXPQhP (fitness = 9)\n",
      "generacion 6, Mejor individuol = IoHxLh cdZVM arRifLkOaATSnGYUXPQhP (fitness = 9)\n",
      "generacion 7, Mejor individuol = IRTfZiobQcpp irZdaslOrugentAY PzlP (fitness = 10)\n",
      "generacion 8, Mejor individuol = WHtZzGgenGiq QrmvjBOWXugenJNBmiUhP (fitness = 11)\n",
      "generacion 9, Mejor individuol = In IldLenlikdoreusitiaq GaSNBmHUVP (fitness = 13)\n",
      "generacion 10, Mejor individuol = In IldLenlikdoreusitiaq enJNBmHUhD (fitness = 14)\n",
      "generacion 11, Mejor individuol = In IldLenGiq QrgiaicWXugenJNBmHUhP (fitness = 15)\n",
      "generacion 12, Mejor individuol = In IldLenGiq QrgiaicWXugenJNBmHUhP (fitness = 15)\n",
      "generacion 13, Mejor individuol = IItOSdLenGiq Qrgiaic aq enJbLXPQhP (fitness = 16)\n",
      "generacion 14, Mejor individuol = IItOSdLenGiq Qrgiaic aq enJbLXPQhP (fitness = 16)\n",
      "generacion 15, Mejor individuol = VRtfZigenGiq Qrmvjitiylden VeWPUhP (fitness = 17)\n",
      "generacion 16, Mejor individuol = In XldLBnGiq QrtiaicKXuzeL ma PCCP (fitness = 18)\n",
      "generacion 17, Mejor individuol = In XldLBnGiq QrtiaicKXuzeL ma PCCP (fitness = 18)\n",
      "generacion 18, Mejor individuol = IRtLyioencCn ArPieic adgenIYY PUhP (fitness = 19)\n",
      "generacion 19, Mejor individuol = InHeUiUenvia QrgiaiciXi entAG PzlP (fitness = 20)\n"
     ]
    },
    {
     "data": {
      "image/png": "[encoded data removed]",
      "text/plain": [
       "<Figure size 432x288 with 1 Axes>"
      ]
     },
     "metadata": {
      "needs_background": "light"
     },
     "output_type": "display_data"
    }
   ],
   "source": [
    "target_string = 'Inteligencia Artificial en la PUCP'\n",
    "\n",
    "# construye el pool de alelos con los caracteres en mayuscula, minuscula y espacio en blanco\n",
    "allele_pool = []\n",
    "allele_pool.extend( [chr(x) for x in range(65, 91)] )   # caracteres ASCII en mayuscula\n",
    "allele_pool.extend( [chr(x) for x in range(97, 123)] )  # caracteres ASCII en minuscula\n",
    "allele_pool.extend(' ')  # espacio en blanco\n",
    "\n",
    "# Inicializa una poblacion inicial de forma aleatoria\n",
    "num_individuals = 500\n",
    "population = init_population(num_individuals, len(target_string), allele_pool)\n",
    "\n",
    "fitness_fn = matching_characters \n",
    "\n",
    "ngen = 20 # Nro de generaciones\n",
    "pmut = 0.8 # taza de mutación\n",
    "\n",
    "metodoSeleccion=['roulette','torneo']\n",
    "size_torneo = int(5*num_individuals/100) #tamaño del torneo como porcentaje de la poblacion\n",
    "\n",
    "crossover=['onepoint','uniform']\n",
    "mutation=['position','onepoint']\n",
    "\n",
    "# llama al algoritmo genetico\n",
    "best_ind, bestfitness = genetic_algorithm(population, fitness_fn, target_string, ngen, metodoSeleccion[0],\n",
    "                                          size_torneo,pmut, crossover[0], mutation[0])\n",
    "                       \n",
    "\n",
    "# muestra la evolucion del mejor fitness\n",
    "plt.plot(bestfitness)\n",
    "plt.show()"
   ]
  },
  {
   "cell_type": "code",
   "execution_count": null,
   "metadata": {},
   "outputs": [],
   "source": []
  },
  {
   "cell_type": "code",
   "execution_count": null,
   "metadata": {},
   "outputs": [],
   "source": []
  }
 ],
 "metadata": {
  "kernelspec": {
   "display_name": "Python 3",
   "language": "python",
   "name": "python3"
  },
  "language_info": {
   "codemirror_mode": {
    "name": "ipython",
    "version": 3
   },
   "file_extension": ".py",
   "mimetype": "text/x-python",
   "name": "python",
   "nbconvert_exporter": "python",
   "pygments_lexer": "ipython3",
   "version": "3.7.3"
  },
  "toc": {
   "base_numbering": 1,
   "nav_menu": {},
   "number_sections": true,
   "sideBar": true,
   "skip_h1_title": false,
   "title_cell": "Table of Contents",
   "title_sidebar": "Contents",
   "toc_cell": false,
   "toc_position": {},
   "toc_section_display": true,
   "toc_window_display": false
  }
 },
 "nbformat": 4,
 "nbformat_minor": 2
}
