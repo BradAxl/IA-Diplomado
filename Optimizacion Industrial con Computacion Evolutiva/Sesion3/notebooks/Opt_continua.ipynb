{
 "cells": [
  {
   "cell_type": "markdown",
   "metadata": {},
   "source": [
    "# Algoritmos Geneticos para optimizacion continua\n",
    "<b> Diplomatura de Especialización en Desarrollo de Aplicaciones con Inteligencia Artificial 2019-01 </b>\n"
   ]
  },
  {
   "cell_type": "code",
   "execution_count": 1,
   "metadata": {},
   "outputs": [],
   "source": [
    "import sys\n",
    "import time\n",
    "import random\n",
    "import numpy as np\n",
    "from copy import deepcopy\n",
    "import pandas as pd\n",
    "import matplotlib.pyplot as plt\n",
    "import heapq\n",
    "import math"
   ]
  },
  {
   "cell_type": "markdown",
   "metadata": {},
   "source": [
    "## Estructura de individuo "
   ]
  },
  {
   "cell_type": "code",
   "execution_count": 2,
   "metadata": {},
   "outputs": [],
   "source": [
    "class Individual(object):   \n",
    "   \n",
    "    def __init__(self, chromosome):\n",
    "            self.chromosome = chromosome[:]\n",
    "            self.fitness = -1  # -1 indica que el individuo no ha sido evaluado\n",
    " \n",
    "            \n",
    "    def crossover_onepoint(self, other):\n",
    "        \"Retorna dos nuevos individuos del cruzamiento de un punto entre individuos self y other \"\n",
    "        c = random.randrange(len(self.chromosome))\n",
    "        ind1 = Individual(self.chromosome[:c] + other.chromosome[c:])\n",
    "        ind2 = Individual(other.chromosome[:c] + self.chromosome[c:])\n",
    "        return [ind1, ind2]   \n",
    "\n",
    "    def crossover_uniform(self, other):\n",
    "        chromosome1 = []\n",
    "        chromosome2 = []\n",
    "        \"Retorna dos nuevos individuos del cruzamiento uniforme entre self y other \"\n",
    "        for i in range(len(self.chromosome)):\n",
    "            if random.uniform(0, 1) < 0.5:\n",
    "                chromosome1.append(self.chromosome[i])\n",
    "                chromosome2.append(other.chromosome[i])\n",
    "            else:\n",
    "                chromosome1.append(other.chromosome[i])\n",
    "                chromosome2.append(self.chromosome[i])\n",
    "        ind1 = Individual(chromosome1)\n",
    "        ind2 = Individual(chromosome2)\n",
    "        return [ind1, ind2] \n",
    "  \n",
    "\n",
    "    def mutate_position(self): \n",
    "        \"\"\"       mutate position\n",
    "        Cambia aleatoriamente un alelo de un gen.\"\"\"\n",
    "        intensity_mutation = 0.1  # intensidad de la mutacion\n",
    "        mutated_chromosome = deepcopy(self.chromosome)\n",
    "        mutGene = random.randrange(0,len(mutated_chromosome)) \n",
    "        newAllele = mutated_chromosome[mutGene] + random.uniform(-1,1) * intensity_mutation * mutated_chromosome[mutGene] \n",
    "        mutated_chromosome[mutGene] = newAllele\n",
    "        \n",
    "        return Individual(mutated_chromosome)    \n",
    "        \n",
    "    def mutate_allpositions(self):\n",
    "        \"Perturba a todo el cromosoma sumando un vector aleatorio pequeño \"\n",
    "        intensity_mutation = 0.1  # intensidad de la mutacion\n",
    "        module_chromosome = math.sqrt(sum(i**2 for i in self.chromosome))  # calcula el modulo del cromosoma\n",
    "        perturbation_vector = [ module_chromosome * intensity_mutation * random.uniform(-1, 1) for j in range(len(self.chromosome))]\n",
    "        mutated_chromosome =  [sum(x) for x in zip(*[self.chromosome, perturbation_vector])]  # suma el cromosoma con el vector perturbacion \n",
    "\n",
    "        return Individual(mutated_chromosome)    \n"
   ]
  },
  {
   "cell_type": "markdown",
   "metadata": {},
   "source": [
    "<b> Funcion para iniciar una Poblacion tipo float</b>"
   ]
  },
  {
   "cell_type": "code",
   "execution_count": 3,
   "metadata": {},
   "outputs": [],
   "source": [
    "\n",
    "def init_population(pop_number, rst):\n",
    "    population = []\n",
    "    state_length=2\n",
    "    ## Crea la poblacion inicial con cromosomas aleatorios\n",
    "    for i in range(pop_number):\n",
    "        new_chromosome = [2*rst*random.uniform(0, 1)-rst for j in range(state_length)]\n",
    "        random.shuffle(new_chromosome)\n",
    "        population.append(Individual(new_chromosome))\n",
    "\n",
    "    return population\n"
   ]
  },
  {
   "cell_type": "markdown",
   "metadata": {},
   "source": [
    "<b>  Funcion para evaluar toda una población de individuos con la funcion de fitnes especificada </b> "
   ]
  },
  {
   "cell_type": "code",
   "execution_count": 4,
   "metadata": {},
   "outputs": [],
   "source": [
    "def evaluate_population(population, fitness_fn):\n",
    "    \"\"\" Evalua una poblacion de individuos con la funcion de fitness pasada \"\"\"\n",
    "    \n",
    "    for i in range(len(population)):\n",
    "        if population[i].fitness == -1:    # si el individuo no esta evaluado\n",
    "            population[i].fitness = fitness_fn(population[i].chromosome)\n",
    "    return population"
   ]
  },
  {
   "cell_type": "markdown",
   "metadata": {},
   "source": [
    "<b>  Funcion para mostrar una población y su fitnes  </b> "
   ]
  },
  {
   "cell_type": "code",
   "execution_count": 5,
   "metadata": {},
   "outputs": [],
   "source": [
    "def display(population):\n",
    "    listaAG=[]\n",
    "    for i in range(len(population)):\n",
    "        listaAG.append([population[i].chromosome,population[i].fitness])\n",
    "\n",
    "    data=pd.DataFrame(listaAG)\n",
    "    data.columns = ['Poblacion','fitness']\n",
    "    return data"
   ]
  },
  {
   "cell_type": "markdown",
   "metadata": {
    "heading_collapsed": true
   },
   "source": [
    "## Funciones de Aptitud"
   ]
  },
  {
   "cell_type": "code",
   "execution_count": 6,
   "metadata": {
    "hidden": true
   },
   "outputs": [],
   "source": [
    "def fitness_min(result):  \n",
    "    # el fitness para fn positivos es trasladado a valores entre [0,1]: 0 para fn=inf y 1 para fn=0. \n",
    "    # el fitness para fn negativos es trasladado a valores entre ]1,inf]: 1 para fn=-0 y inf para fn=-inf    \n",
    "            \n",
    "    if result >= 0:\n",
    "        fitness = 1 / (1 + result)\n",
    "    else:\n",
    "        fitness =  abs(result)\n",
    "    return fitness\n"
   ]
  },
  {
   "cell_type": "markdown",
   "metadata": {
    "hidden": true
   },
   "source": [
    "<b>Funciones de aptitud para evaluar un cromosoma del problema</b>\n",
    "\n",
    "Ackley’s function\n",
    "    \n",
    "    Un problema de minimizacion:\n",
    "\n",
    "$$f(x_0 \\cdots x_n) = -20 exp(-0.2 \\sqrt{\\frac{1}{n} \\sum_{i=1}^n x_i^2}) - exp(\\frac{1}{n} \\sum_{i=1}^n cos(2\\pi x_i)) + 20 + e$$ \n",
    "\n",
    "$$-32 \\leq x_i \\leq 32$$ \n",
    "\n",
    "$$\\text{minimum at }f(0, \\cdots, 0) = 0$$"
   ]
  },
  {
   "cell_type": "code",
   "execution_count": 7,
   "metadata": {
    "hidden": true
   },
   "outputs": [],
   "source": [
    "def Ackley(chromosome):\n",
    "    fitness = 0    \n",
    "    chrm = np.array(chromosome)\n",
    "    firstSum = 0\n",
    "    secondSum = 0\n",
    "    for c in chrm:\n",
    "        firstSum += c**2\n",
    "        secondSum += math.cos(2*math.pi*c)\n",
    "        n = float(len(chromosome))\n",
    "        \n",
    "    fitness = -20*math.exp(-0.2*math.sqrt(firstSum/n)) - math.exp(secondSum/n) + 20 + math.e\n",
    "    \n",
    "    ## Transforma el fitness por ser minimizacion\n",
    "    fitness=fitness_min(fitness)\n",
    "    \n",
    "    return fitness"
   ]
  },
  {
   "cell_type": "markdown",
   "metadata": {
    "hidden": true
   },
   "source": [
    "<b> Rastrigin's function</b>\n",
    "\n",
    "Un problema de minimizacion: \n",
    "$$f(x_1 \\cdots x_n) = 10n + \\sum_{i=1}^n (x_i^2 -10cos(2\\pi x_i))$$ \n",
    "$$-5.12 \\leq x_i \\leq 5.12$$ \n",
    "$$\\text{minimum at }f(0, \\cdots, 0) = 0$$"
   ]
  },
  {
   "cell_type": "code",
   "execution_count": 8,
   "metadata": {
    "hidden": true
   },
   "outputs": [],
   "source": [
    "def Rastrigin(chromosome):\n",
    "    fitness = 0    \n",
    "    chrm = np.array(chromosome)\n",
    "    fitness = 10*len(chrm)\n",
    "    for i in range(len(chrm)):\n",
    "        fitness += chrm[i]**2 - (10*math.cos(2*math.pi*chrm[i]))\n",
    "    \n",
    "    ## Transforma el fitness por ser minimizacion\n",
    "    fitness=fitness_min(fitness)\n",
    "    \n",
    "    return fitness"
   ]
  },
  {
   "cell_type": "code",
   "execution_count": 9,
   "metadata": {
    "hidden": true
   },
   "outputs": [],
   "source": [
    "def Rosenbrock(chromosome):\n",
    "    fitness = 0    \n",
    "    chrm = np.array(chromosome)\n",
    "    for i in range(len(chrm)-1):\n",
    "        fitness += 100*((chrm[i]**2)-chrm[i+1])**2+(1-chrm[i])**2\n",
    "   \n",
    "    ## Transforma el fitness por ser minimizacion\n",
    "    fitness=fitness_min(fitness)\n",
    "    \n",
    "    return fitness"
   ]
  },
  {
   "cell_type": "markdown",
   "metadata": {},
   "source": [
    "##  Seleccion de sobrevivientes por Ranking"
   ]
  },
  {
   "cell_type": "markdown",
   "metadata": {},
   "source": [
    "<b>Funcion que selecciona sobrevivientes para la sgte generacion, dada la poblacion actual y poblacion de hijos </b>"
   ]
  },
  {
   "cell_type": "code",
   "execution_count": 10,
   "metadata": {},
   "outputs": [],
   "source": [
    "def select_survivors(population, offspring_population, numsurvivors):\n",
    "    next_population = []\n",
    "    population.extend(offspring_population) # une las dos poblaciones\n",
    "    isurvivors = sorted(range(len(population)), key=lambda i: population[i].fitness,reverse=True)[:numsurvivors]\n",
    "    for i in range(numsurvivors): next_population.append(population[isurvivors[i]])\n",
    "    return next_population"
   ]
  },
  {
   "cell_type": "markdown",
   "metadata": {},
   "source": [
    "## Selecciona los padres mediante operadores: Ruleta/ Torneo"
   ]
  },
  {
   "cell_type": "markdown",
   "metadata": {},
   "source": [
    "###  Ruleta"
   ]
  },
  {
   "cell_type": "code",
   "execution_count": 11,
   "metadata": {},
   "outputs": [],
   "source": [
    "def select_parents_roulette(population):\n",
    "    popsize = len(population)\n",
    "    iParent1,iParent2=0,0\n",
    "    # Escoje el primer padre\n",
    "    sumfitness = sum([indiv.fitness for indiv in population])  # suma total del fitness de la poblacion\n",
    "    pickfitness = random.uniform(0, sumfitness)   # escoge un numero aleatorio entre 0 y sumfitness\n",
    "    cumfitness = 0     # fitness acumulado\n",
    "    for i in range(popsize):\n",
    "        cumfitness += population[i].fitness\n",
    "        if cumfitness >= pickfitness: \n",
    "            iParent1 = i\n",
    "            break\n",
    "     \n",
    "    # Escoje el segundo padre, desconsiderando el padre ya escogido\n",
    "    sumfitness = sumfitness - population[iParent1].fitness # retira el fitness del padre ya escogido\n",
    "    pickfitness = random.uniform(0, sumfitness)   # escoge un numero aleatorio entre 0 y sumfitness\n",
    "    cumfitness = 0     # fitness acumulado\n",
    "    for i in range(popsize):\n",
    "        if i == iParent1: continue   # si es el primer padre \n",
    "        cumfitness += population[i].fitness\n",
    "        if cumfitness >= pickfitness: \n",
    "            iParent2 = i\n",
    "            break        \n",
    "    return (population[iParent1], population[iParent2])"
   ]
  },
  {
   "cell_type": "markdown",
   "metadata": {},
   "source": [
    "### Torneo"
   ]
  },
  {
   "cell_type": "code",
   "execution_count": 12,
   "metadata": {},
   "outputs": [],
   "source": [
    "def select_parents_torneo(population,size_torneo):\n",
    "    \n",
    "    # Escoje el primer padre\n",
    "    list_indiv=[]\n",
    "    x1 = np.random.permutation(len(population) )\n",
    "    y1= x1[0:size_torneo]\n",
    "    for i in range(size_torneo):\n",
    "        list_indiv.append(population[y1[i]].fitness)\n",
    "    \n",
    "    iParent1=np.argmax(list_indiv)\n",
    "    \n",
    "    # Escoje el segundo padre, desconsiderando el primer padre   \n",
    "    x2 = np.delete(x1, iParent1)\n",
    "    x2 = np.random.permutation(x2)\n",
    "    list_indiv=[]\n",
    "    y2= x2[0:size_torneo]\n",
    "    for i in range(size_torneo):\n",
    "        list_indiv.append(population[y2[i]].fitness)\n",
    "    iParent2=np.argmax(list_indiv)\n",
    "    \n",
    "    return (population[x1[iParent1]],population[x2[iParent2]])"
   ]
  },
  {
   "cell_type": "markdown",
   "metadata": {},
   "source": [
    "## Algoritmo Genetico\n",
    "Recibe una poblacion inicial, funcion de fitness, numero de generaciones (ngen), metodoSeleccion (ruleta/torneo), size_torneo, taza de mutación (pmut), operador de cruzamiento (crossover) y operador de mutacion (mutation)"
   ]
  },
  {
   "cell_type": "code",
   "execution_count": 13,
   "metadata": {},
   "outputs": [],
   "source": [
    "def genetic_algorithm(population, fitness_fn, ngen, metodoSeleccion,  size_torneo, pmut, crossover, mutation):\n",
    "\n",
    "    popsize = len(population)\n",
    "    evaluate_population(population, fitness_fn)  # evalua la poblacion inicial\n",
    "    ibest = sorted(range(len(population)), key=lambda i: population[i].fitness)[:1]\n",
    "\n",
    "    bestfitness = [population[ibest[0]].fitness]\n",
    "    print(\"Poblacion inicial, best_fitness = {}\".format(population[ibest[0]].fitness))\n",
    "    \n",
    "    for g in range(ngen):   # Por cada generacion\n",
    "        \n",
    "       ## Selecciona las parejas de padres para cruzamiento \n",
    "        mating_pool = []\n",
    "  \n",
    "        if metodoSeleccion==\"roulette\":\n",
    "            for i in range(int(popsize/2)): mating_pool.append(select_parents_roulette(population)) \n",
    "        elif metodoSeleccion==\"torneo\" :\n",
    "            for i in range(int(popsize/2)): mating_pool.append(select_parents_torneo(population,size_torneo)) \n",
    "\n",
    "        ## Crea la poblacion descendencia cruzando las parejas del mating pool \n",
    "        offspring_population = []\n",
    "        for i in range(len(mating_pool)): \n",
    "            if crossover == \"onepoint\":# cruzamiento 1 punto\n",
    "                offspring_population.extend( mating_pool[i][0].crossover_onepoint(mating_pool[i][1]) ) \n",
    "            elif crossover == \"uniform\":# cruzamiento uniforme\n",
    "                offspring_population.extend( mating_pool[i][0].crossover_uniform(mating_pool[i][1]) ) \n",
    "           \n",
    "\n",
    "        ## Aplica el operador de mutacion con probabilidad pmut en cada hijo generado\n",
    "        for i in range(len(offspring_population)):\n",
    "            if random.uniform(0, 1) < pmut: \n",
    "                if mutation == \"position\":\n",
    "                    offspring_population[i] = offspring_population[i].mutate_position()   # mutacion de una posicion\n",
    "                elif mutation == \"allpositions\":\n",
    "                    offspring_population[i] = offspring_population[i].mutate_allpositions() # mutacion de todas las posiciones\n",
    "        \n",
    "        ## Evalua la poblacion descendencia creada\n",
    "        evaluate_population(offspring_population, fitness_fn)  \n",
    "        \n",
    "        ## Selecciona popsize individuos para la sgte. generación de la union de la pob. actual y  pob. descendencia\n",
    "        population = select_survivors(population, offspring_population, popsize)\n",
    "\n",
    "        ## Almacena la historia del fitness del mejor individuo\n",
    "        ibest = sorted(range(len(population)), key=lambda i: population[i].fitness)[:1]\n",
    "        bestfitness.append(population[ibest[0]].fitness)\n",
    "        print(\"generacion {}, best_fitness = {}, best_chromosoma = {}\".format(g, population[ibest[0]].fitness,population[ibest[0]].chromosome))\n",
    "    \n",
    "    return population[ibest[0]], bestfitness, population[ibest[0]].chromosome"
   ]
  },
  {
   "cell_type": "markdown",
   "metadata": {},
   "source": [
    "## Probando el Algoritmo genetico"
   ]
  },
  {
   "cell_type": "code",
   "execution_count": 20,
   "metadata": {},
   "outputs": [
    {
     "name": "stdout",
     "output_type": "stream",
     "text": [
      "Poblacion inicial, best_fitness = 0.017037533012925866\n",
      "generacion 0, best_fitness = 0.030824646901145305, best_chromosoma = [2.099014178382142, 4.935975792309806]\n",
      "generacion 1, best_fitness = 0.08955568956001098, best_chromosoma = [-2.076938280695614, -1.1356380501222225]\n",
      "generacion 2, best_fitness = 0.13748558127025906, best_chromosoma = [-0.06965685386949527, 0.17206314756293908]\n",
      "generacion 3, best_fitness = 0.1578683068676339, best_chromosoma = [1.9081059653389147, 0.019120183109967853]\n",
      "generacion 4, best_fitness = 0.4102043508139485, best_chromosoma = [-0.08025744847346153, -0.030718511411949492]\n",
      "generacion 5, best_fitness = 0.4824639736224441, best_chromosoma = [-0.061924818437883514, -0.040358526087238784]\n",
      "generacion 6, best_fitness = 0.49697977104346275, best_chromosoma = [-0.06951310029809304, -0.018602467753108178]\n",
      "generacion 7, best_fitness = 0.5289520931804769, best_chromosoma = [-0.06649654396390173, -0.01142950768951817]\n",
      "generacion 8, best_fitness = 0.5648017672988034, best_chromosoma = [-0.06017860282329128, -0.017477253795829827]\n",
      "generacion 9, best_fitness = 0.6950986591360054, best_chromosoma = [-0.0136481948266928, -0.04514868362401554]\n",
      "generacion 10, best_fitness = 0.8878757574969877, best_chromosoma = [-0.017345358806831343, -0.01833959745482235]\n",
      "generacion 11, best_fitness = 0.9044895409245887, best_chromosoma = [-0.012066692305947821, -0.019677750752737463]\n",
      "generacion 12, best_fitness = 0.9222255682912374, best_chromosoma = [-0.01148080019093665, -0.017135189930311427]\n",
      "generacion 13, best_fitness = 0.9459112315785835, best_chromosoma = [-0.011373809581314877, -0.012609497717242216]\n",
      "generacion 14, best_fitness = 0.9550520466694993, best_chromosoma = [-0.013957661994736897, -0.0065220966602776796]\n",
      "generacion 15, best_fitness = 0.961548366618391, best_chromosoma = [-0.012162446935603788, -0.0073295897578745705]\n",
      "generacion 16, best_fitness = 0.9666761332048499, best_chromosoma = [-0.01024126179737564, -0.008302301187424414]\n",
      "generacion 17, best_fitness = 0.9688339158158614, best_chromosoma = [-0.011635502521312869, -0.0051792168625311935]\n",
      "generacion 18, best_fitness = 0.9704569340373399, best_chromosoma = [-0.010306889088509187, -0.0068744499069156575]\n",
      "generacion 19, best_fitness = 0.9723865690299995, best_chromosoma = [-0.010757531545703289, -0.00524027802937113]\n",
      "generacion 20, best_fitness = 0.9761726275314785, best_chromosoma = [-0.009808647861975772, -0.005182382938388537]\n",
      "generacion 21, best_fitness = 0.9785707332290062, best_chromosoma = [-0.007954747757454386, -0.006864579422632176]\n",
      "generacion 22, best_fitness = 0.9801796324195541, best_chromosoma = [-0.008496125193867879, -0.00545536759592785]\n",
      "generacion 23, best_fitness = 0.9809754032701646, best_chromosoma = [-0.008309837137794896, -0.005358970570280363]\n",
      "generacion 24, best_fitness = 0.9832705858761362, best_chromosoma = [-0.007973550175672606, -0.004711375227444389]\n",
      "generacion 25, best_fitness = 0.9852808214869273, best_chromosoma = [-0.00708756010446413, -0.005007748090660583]\n",
      "generacion 26, best_fitness = 0.9863047203421021, best_chromosoma = [-0.007340704803877961, -0.004014264379678592]\n",
      "generacion 27, best_fitness = 0.9877547811187996, best_chromosoma = [-0.0068099082093773374, -0.004015037682898851]\n",
      "generacion 28, best_fitness = 0.988395860247394, best_chromosoma = [-0.0067640219102861835, -0.0036651187528403254]\n",
      "generacion 29, best_fitness = 0.9893770811744724, best_chromosoma = [-0.005968971932213551, -0.004300771324729732]\n",
      "generacion 30, best_fitness = 0.9904455657046666, best_chromosoma = [-0.005659840923422979, -0.004073620801535365]\n",
      "generacion 31, best_fitness = 0.9911393180790526, best_chromosoma = [-0.005971799975756735, -0.003066563455366527]\n",
      "generacion 32, best_fitness = 0.991816111332751, best_chromosoma = [-0.005739896138341357, -0.002940893377731941]\n",
      "generacion 33, best_fitness = 0.9926502588025063, best_chromosoma = [-0.005755206617534301, -0.002049899500060234]\n",
      "generacion 34, best_fitness = 0.9930466773878448, best_chromosoma = [-0.005416431481579874, -0.0024411061563510577]\n",
      "generacion 35, best_fitness = 0.993764464812859, best_chromosoma = [-0.005250377191233529, -0.0020158516310819882]\n",
      "generacion 36, best_fitness = 0.9943475630955046, best_chromosoma = [-0.005111717495049261, -0.0015892771636619514]\n",
      "generacion 37, best_fitness = 0.9949587402988891, best_chromosoma = [-0.00458126677622967, -0.0021337392760826523]\n",
      "generacion 38, best_fitness = 0.9952821425670184, best_chromosoma = [-0.004586524911441573, -0.0016906983257628028]\n",
      "generacion 39, best_fitness = 0.9955044726719403, best_chromosoma = [-0.0043411670825038995, -0.001979297978464959]\n",
      "generacion 40, best_fitness = 0.9957842557741363, best_chromosoma = [-0.004080447310181389, -0.002165744527872731]\n",
      "generacion 41, best_fitness = 0.9961751817200213, best_chromosoma = [-0.004350459859487797, -0.0006540496997150234]\n",
      "generacion 42, best_fitness = 0.9963727390364604, best_chromosoma = [-0.004093726436701496, -0.0012618183749385466]\n",
      "generacion 43, best_fitness = 0.9968757403372266, best_chromosoma = [-0.00394347697038806, -0.0004970316232970067]\n",
      "generacion 44, best_fitness = 0.9971790303621051, best_chromosoma = [-0.003636925342196071, -0.001016237936361009]\n",
      "generacion 45, best_fitness = 0.9974910703613407, best_chromosoma = [-0.003503922273669628, -0.0006333641798867106]\n",
      "generacion 46, best_fitness = 0.9977097498143831, best_chromosoma = [-0.0032068339931002067, -0.0011345161505625081]\n",
      "generacion 47, best_fitness = 0.9978987280851949, best_chromosoma = [-0.003200913060659812, -0.0006068878018842445]\n",
      "generacion 48, best_fitness = 0.9980665108228689, best_chromosoma = [-0.003047668929150781, -0.0006904164988060473]\n",
      "generacion 49, best_fitness = 0.9981971654120058, best_chromosoma = [-0.00298738971443977, -0.00042356361551324244]\n",
      "generacion 50, best_fitness = 0.9983087853294113, best_chromosoma = [-0.0028462269890237586, -0.0006620091968689559]\n",
      "generacion 51, best_fitness = 0.9984546439353917, best_chromosoma = [-0.0027776148946169277, -0.00029412597759129763]\n",
      "generacion 52, best_fitness = 0.9985241131330398, best_chromosoma = [-0.002706595640177856, -0.00035320536728801304]\n",
      "generacion 53, best_fitness = 0.9986223269612425, best_chromosoma = [-0.0025486496788204318, -0.0006769764323483295]\n",
      "generacion 54, best_fitness = 0.9987309314803665, best_chromosoma = [-0.0025138424505712575, -0.00029261739784851055]\n",
      "generacion 55, best_fitness = 0.9987873895963953, best_chromosoma = [-0.0024613513769496677, -0.0002479548339539448]\n",
      "generacion 56, best_fitness = 0.9988968602656259, best_chromosoma = [-0.002356246974146939, 0.00012142331353073323]\n",
      "generacion 57, best_fitness = 0.9989860467888758, best_chromosoma = [-0.0022616971254572566, -2.9227895368668852e-05]\n",
      "generacion 58, best_fitness = 0.9990397792570505, best_chromosoma = [-0.002195731439935171, -0.00015331923556359184]\n",
      "generacion 59, best_fitness = 0.999126284360478, best_chromosoma = [-0.002084932587683519, -0.00024688753769015254]\n",
      "generacion 60, best_fitness = 0.999174891937145, best_chromosoma = [-0.0019439917023845355, -0.0006191563492761338]\n",
      "generacion 61, best_fitness = 0.9992252851514615, best_chromosoma = [-0.001972871279074097, -0.00012579570018913052]\n",
      "generacion 62, best_fitness = 0.9993032692439575, best_chromosoma = [-0.0018530004871267255, -0.00028419036881588324]\n",
      "generacion 63, best_fitness = 0.9993751140843812, best_chromosoma = [-0.0017437248893090852, -0.00033342987063255655]\n",
      "generacion 64, best_fitness = 0.9994337620560514, best_chromosoma = [-0.0016886983147258172, 6.385429621816804e-05]\n",
      "generacion 65, best_fitness = 0.9994777991812718, best_chromosoma = [-0.0016065315647093006, -0.00022938816047556092]\n",
      "generacion 66, best_fitness = 0.9995377112206255, best_chromosoma = [-0.0015004610144993447, -0.00028264565759452537]\n",
      "generacion 67, best_fitness = 0.9995755886051533, best_chromosoma = [-0.0014628222213714348, -1.8168515259542572e-05]\n",
      "generacion 68, best_fitness = 0.9996143754124295, best_chromosoma = [-0.0013767734468128352, -0.0002213737170735223]\n",
      "generacion 69, best_fitness = 0.9996582310584518, best_chromosoma = [-0.0013117941919534015, -4.989056099880565e-05]\n",
      "generacion 70, best_fitness = 0.9996742558276613, best_chromosoma = [-0.001281515810144344, 1.3500467471481761e-05]\n",
      "generacion 71, best_fitness = 0.9997040287783827, best_chromosoma = [-0.0012188520763496502, 8.184400131427906e-05]\n",
      "generacion 72, best_fitness = 0.9997246182969088, best_chromosoma = [-0.0011780456823442108, -2.5787582100779087e-05]\n",
      "generacion 73, best_fitness = 0.9997507047648624, best_chromosoma = [-0.001120009559298551, -4.975529016551878e-05]\n",
      "generacion 74, best_fitness = 0.9997735164776012, best_chromosoma = [-0.0010634849441964584, -0.00010420225405078122]\n",
      "generacion 75, best_fitness = 0.9997928320084423, best_chromosoma = [-0.0010076887311656106, -0.00017034765827842748]\n",
      "generacion 76, best_fitness = 0.9998020806901253, best_chromosoma = [-0.0009950109969430355, 8.815192542303764e-05]\n",
      "generacion 77, best_fitness = 0.9998209969465167, best_chromosoma = [-0.0009469457035697459, -7.567772740521804e-05]\n",
      "generacion 78, best_fitness = 0.99982912194358, best_chromosoma = [-0.0009250453790124075, 7.586516513573134e-05]\n",
      "generacion 79, best_fitness = 0.999843717848313, best_chromosoma = [-0.0008856015878935027, -5.982343199797268e-05]\n",
      "generacion 80, best_fitness = 0.9998528280637368, best_chromosoma = [-0.0008520524473186032, 0.00012625831250589835]\n",
      "generacion 81, best_fitness = 0.9998661964875641, best_chromosoma = [-0.0008050779937787522, 0.000162421725228748]\n",
      "generacion 82, best_fitness = 0.9998754768449561, best_chromosoma = [-0.0007922982413044366, -2.203523023052601e-06]\n",
      "generacion 83, best_fitness = 0.9998941369783435, best_chromosoma = [-0.0007220065312670823, 0.00011121605973111812]\n",
      "generacion 84, best_fitness = 0.9999040638613501, best_chromosoma = [-0.0006950869342078309, -2.167219942548461e-05]\n",
      "generacion 85, best_fitness = 0.9999105232596375, best_chromosoma = [-0.0006712532752041116, -2.167219942548461e-05]\n",
      "generacion 86, best_fitness = 0.9999185040647643, best_chromosoma = [-0.0006404980936952954, 2.405008966661221e-05]\n",
      "generacion 87, best_fitness = 0.9999241654727993, best_chromosoma = [-0.0006182229697240446, 8.69200051484191e-06]\n",
      "generacion 88, best_fitness = 0.9999299819546693, best_chromosoma = [-0.0005940852553099248, 3.929312980665479e-06]\n",
      "generacion 89, best_fitness = 0.9999365944668057, best_chromosoma = [-0.0005634388400066609, 4.6415028497350084e-05]\n",
      "generacion 90, best_fitness = 0.9999415821624209, best_chromosoma = [-0.0005333360138869852, 0.00010013317356131897]\n",
      "generacion 91, best_fitness = 0.9999470758490059, best_chromosoma = [-0.0005164991585158052, 2.8987807333774036e-06]\n",
      "generacion 92, best_fitness = 0.9999507607700806, best_chromosoma = [-0.0004951571724455723, 5.4984477333066927e-05]\n",
      "generacion 93, best_fitness = 0.9999547851595375, best_chromosoma = [-0.0004771167680919251, 1.662932599375202e-05]\n",
      "generacion 94, best_fitness = 0.99995652892285, best_chromosoma = [-0.0004471870496353557, 0.00013838493529420498]\n",
      "generacion 95, best_fitness = 0.9999594988746476, best_chromosoma = [-0.00044353464926965154, 8.621071909951239e-05]\n",
      "generacion 96, best_fitness = 0.9999621117091895, best_chromosoma = [-0.00043410271495661893, -5.03885785928318e-05]\n",
      "generacion 97, best_fitness = 0.9999637747865255, best_chromosoma = [-0.00042727642148221256, -5.968803470732619e-06]\n",
      "generacion 98, best_fitness = 0.999967213553691, best_chromosoma = [-0.0003998398470922933, -7.344695374027992e-05]\n",
      "generacion 99, best_fitness = 0.999968433832075, best_chromosoma = [-0.00039574777679057794, 4.9988140962297786e-05]\n"
     ]
    },
    {
     "data": {
      "image/png": "[encoded data removed]",
      "text/plain": [
       "<Figure size 432x288 with 1 Axes>"
      ]
     },
     "metadata": {
      "needs_background": "light"
     },
     "output_type": "display_data"
    }
   ],
   "source": [
    "fitness_fn=[Rastrigin, Rosenbrock, Ackley]\n",
    "rst=[5.12, 2.048, 32.768]  # Para restringir el espacio de busqueda de la poblacion entre [-rst,rst] \n",
    "\n",
    "\n",
    "# parametros del AG\n",
    "num_individuals=20\n",
    "ngen = 100 #Max NumGenerations\n",
    "pmut   = 0.9 #prb. mutation\n",
    "metodoSeleccion=['roulette','torneo'] \n",
    "crossover=['onepoint','uniform']\n",
    "mutation=['position','allpositions']\n",
    "size_torneo = int(5*num_individuals/100) #tamaño del torneo como 5% del tamaño de la poblacion\n",
    "\n",
    "\n",
    "# Inicializa una poblacion inicial de forma aleatoria\n",
    "population = init_population(num_individuals, rst[0])\n",
    "\n",
    "# Ejecuta la optimizacion con el AG\n",
    "best_ind, best_fitness, best_chromosoma = genetic_algorithm(population, fitness_fn[0],  # Rastrigin\n",
    "                                                            ngen, metodoSeleccion[0],   # ruleta\n",
    "                                                            size_torneo, pmut,\n",
    "                                                            crossover[1], mutation[1])  # crossover uniform, muation position\n",
    "                                                            \n",
    "plt.plot(best_fitness)                \n",
    "plt.show()"
   ]
  },
  {
   "cell_type": "code",
   "execution_count": null,
   "metadata": {},
   "outputs": [],
   "source": [
    "print(\" best_fitness = {}, best_chromosoma = {}\".format(best_ind.fitness,best_ind.chromosome))"
   ]
  }
 ],
 "metadata": {
  "kernelspec": {
   "display_name": "Python 3",
   "language": "python",
   "name": "python3"
  },
  "language_info": {
   "codemirror_mode": {
    "name": "ipython",
    "version": 3
   },
   "file_extension": ".py",
   "mimetype": "text/x-python",
   "name": "python",
   "nbconvert_exporter": "python",
   "pygments_lexer": "ipython3",
   "version": "3.7.3"
  },
  "toc": {
   "base_numbering": 1,
   "nav_menu": {},
   "number_sections": true,
   "sideBar": true,
   "skip_h1_title": false,
   "title_cell": "Table of Contents",
   "title_sidebar": "Contents",
   "toc_cell": false,
   "toc_position": {},
   "toc_section_display": true,
   "toc_window_display": false
  }
 },
 "nbformat": 4,
 "nbformat_minor": 2
}
