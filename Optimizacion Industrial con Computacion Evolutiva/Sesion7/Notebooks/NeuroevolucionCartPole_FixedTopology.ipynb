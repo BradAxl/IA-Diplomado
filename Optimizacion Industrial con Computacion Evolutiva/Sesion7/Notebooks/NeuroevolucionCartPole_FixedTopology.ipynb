{
 "cells": [
  {
   "cell_type": "markdown",
   "metadata": {},
   "source": [
    "# Optimización industrial con Computación Evolutiva \n",
    "Dr. Edwin Villanueva Talavera (ervillanueva@pucp.edu.pe)\n",
    "Dra. Soledad Espezua Llerena (sespezua@pucp.edu.pe )\n"
   ]
  },
  {
   "cell_type": "markdown",
   "metadata": {},
   "source": [
    "## Neuroevolucion con Topologia Fija: Entorno de Cart-Pole"
   ]
  },
  {
   "cell_type": "code",
   "execution_count": 1,
   "metadata": {},
   "outputs": [
    {
     "name": "stderr",
     "output_type": "stream",
     "text": [
      "Using TensorFlow backend.\n"
     ]
    }
   ],
   "source": [
    "import gym\n",
    "import random\n",
    "import numpy as np\n",
    "import pandas as pd\n",
    "import matplotlib.pyplot as plt\n",
    "from functools import reduce\n",
    "from operator import add\n",
    "from statistics import median, mean\n",
    "from collections import Counter\n",
    "from copy import deepcopy\n",
    "from keras.models import Sequential # cria uma pilha de camadas de redes neurais\n",
    "from keras.layers import Dense, Activation"
   ]
  },
  {
   "cell_type": "markdown",
   "metadata": {},
   "source": [
    "### Funciones que implementan un AG para evoluir los pesos de una red neuronal que controla el Cart-Pole\n",
    "\n",
    "La función del AG es encontrar pesos optimos para la Red Neuronal mostrada abajo para que equilibren el pendulo en el carrito. Un individuo es una Red Neuronal con pesos específicos. La funcion de fitness (reward en el caso de Aprendizaje por refuerzo) será el promedio del numero de time-steps que la red neuronal consiga mantener al pendulo en equilibrio en (promedio de 10 intentos)\n",
    "\n",
    "<img src=\"https://vtoliveira.github.io/assets/images/nn.jpg\">  \n",
    "\n",
    "Imagen fuente: https://github.com/vtoliveira/Neuroevolucao-CartPole-OpenGymAI"
   ]
  },
  {
   "cell_type": "markdown",
   "metadata": {},
   "source": [
    "### Define la estructura de un individuo en el AG con sus operadores genéticos "
   ]
  },
  {
   "cell_type": "code",
   "execution_count": 2,
   "metadata": {},
   "outputs": [],
   "source": [
    "class Individual:\n",
    "    \"\"\" Un individuo es una red neuronal feed-forward con topologia pre-especificada [INPUT_DIM, HIDDEN_DIM, OUTPUT_DIM].\n",
    "       se le puede pasar pesos iniciales en el constructor. Si no se pasa pesos se asume pesos aleatorios  \"\"\"\n",
    "\n",
    "    def __init__(self, input_dim, hidden_dim, output_dim, weights='random'):  # constructor recibe dimensiones de la red y pesos\n",
    "        self.model = Sequential()\n",
    "        self.model.add(Dense(units=hidden_dim, input_dim=input_dim))\n",
    "        self.model.add(Activation(\"relu\"))\n",
    "        self.model.add(Dense(units=output_dim))\n",
    "        self.model.add(Activation(\"softmax\"))\n",
    "        \n",
    "        if weights != 'random':   # si se han pasado pesos, entonces se setea esos pesos en la red neuronal\n",
    "            self.model.set_weights(weights)\n",
    "        \n",
    "        self.fitness = -1  # -1 indica que el individuo no ha sido evaluado aun\n",
    "\n",
    "    def crossover(self, other):\n",
    "        \"Retorna dos nuevos individuos del cruzamiento de self y other \"\n",
    "        w_self  = self.model.get_weights()\n",
    "        w_other = other.model.get_weights()\n",
    "        \n",
    "        for _ in range(4):   # repite 4 veces el intercambio de pesos\n",
    "            cx_array = random.sample([0,1,2,3], 1)[0]   # escoge uno de los 4 arrays de pesos para cruzar\n",
    "            \n",
    "            if cx_array == 0 or cx_array == 2: # crossover ocurrirá en las matrizes de pesos (matrices de 4x4)\n",
    "                cx_row = random.sample([0,1,2,3], 1)[0] # escoge la fila de la matriz de pesos a intercambiar\n",
    "                # print (\"WEIGHTS CX, cx_array={}, cx_row={}\".format(cx_array, cx_row))\n",
    "                # Intercambia las filas escogidas de la matriz de pesos\n",
    "                row_self = deepcopy( w_self[cx_array][cx_row] )\n",
    "                w_self[cx_array][cx_row] =  deepcopy( w_other[cx_array][cx_row] )\n",
    "                w_other[cx_array][cx_row] = row_self\n",
    "\n",
    "            else: # crossover ocurrirá en los vectores de bias (vectores de 1x4)\n",
    "                # print (\"BIAS CX,  cx_array={}\".format(cx_array))\n",
    "                row_self = deepcopy( w_self[cx_array] )\n",
    "                w_self[cx_array] =  deepcopy( w_other[cx_array] )\n",
    "                w_other[cx_array] = row_self        \n",
    "            \n",
    "        ind1 = Individual(INPUT_DIM, HIDDEN_DIM, OUTPUT_DIM, w_self)\n",
    "        ind2 = Individual(INPUT_DIM, HIDDEN_DIM, OUTPUT_DIM, w_other)\n",
    "        return [ind1, ind2]   \n",
    "    \n",
    "\n",
    "    def mutate(self):\n",
    "        \"Realiza mutacion en un vector de pesos\"\n",
    "        mx_array = random.sample([0,1,2,3], 1)[0]   # escoge uno de los 4 arrays de pesos para mutar\n",
    "        mx_delta = random.uniform(-0.50,0.50)   # escoge un valor aleatorio con el que se alterará los pesos escogidos \n",
    "        w_self  = self.model.get_weights()   # obtiene los pesos de self\n",
    "        \n",
    "        if mx_array == 0 or mx_array == 2: # mutacion ocurrirá en alguna de las matrizes de pesos (matrices de 4x4)\n",
    "            mx_row = random.sample([0,1,2,3], 1)[0]   # escoge la fila de la matriz de pesos a mutar\n",
    "            w_self[mx_array][mx_row] += mx_delta      # muta\n",
    "            # print (\"WEIGHTS MX, cx_array={}, mx_row={}\".format(mx_array, mx_row))\n",
    "            \n",
    "        else:   # mutacion ocurrirá en un vector de Bias\n",
    "            w_self[mx_array] += mx_delta      # muta\n",
    "            # print (\"BIAS MX,  mx_array={}\".format(mx_array))\n",
    "            \n",
    "        self.model.set_weights(w_self)\n",
    "  "
   ]
  },
  {
   "cell_type": "markdown",
   "metadata": {},
   "source": [
    "### Funcion para inicializar una población de individuos (redes neuronales)"
   ]
  },
  {
   "cell_type": "code",
   "execution_count": 3,
   "metadata": {},
   "outputs": [],
   "source": [
    "def init_population(pop_size, input_dim, hidden_dim, output_dim):\n",
    "    \"\"\"Inicializa una poblacion de pop_size individuos, \n",
    "       Cada individuo tiene la misma topologia de red neuronal y pesos aleatorios\"\"\"\n",
    "    population = []\n",
    "    for i in range(pop_size):\n",
    "        population.append( Individual(input_dim, hidden_dim, output_dim) )\n",
    "        \n",
    "    return population"
   ]
  },
  {
   "cell_type": "markdown",
   "metadata": {},
   "source": [
    "### Funcion para obtener el fitness de un individuo (red neuronal) en el entorno"
   ]
  },
  {
   "cell_type": "code",
   "execution_count": 4,
   "metadata": {},
   "outputs": [],
   "source": [
    "def get_fitness(ind, env, env_trials, env_frames ):\n",
    "    \"\"\"Retorna el fitness de un individuo (red neuronal) en el entorno pasado (env). \n",
    "       El fitness es la media del score del individuo obtenido en env_trials corridas del entorno\n",
    "       Cada trial se ejecuta con un máximo de env_frames pasos \"\"\"\n",
    "\n",
    "    current_state = []\n",
    "    scores = []\n",
    "    \n",
    "    for _ in range(env_trials):  # ejecuta env_trials  corridas del entorno\n",
    "        env.reset()  # reinicializa el entorno\n",
    "        score = 0\n",
    "        for _ in range(env_frames):  # en cada trial ejecuta env_frames  pasos\n",
    "            if len(current_state) == 0:    # si es el primer movimiento  -> escoge una accion aleatoria\n",
    "                action = random.randrange(0,2)\n",
    "            else:\n",
    "                action = np.argmax( ind.model.predict(current_state.reshape(1, 4)) ) # infiere la accion con la red neuronal\n",
    "\n",
    "            new_state, reward, done, info = env.step(action)  # corre el entorno un step ejecutando la accion inferida\n",
    "            score += reward   # acumula el reward (reward=1 en cualquier estado no terminal)\n",
    "            current_state = new_state\n",
    "            if done: break   # si es estado terminal termina el trial\n",
    "        scores.append(score)\n",
    "    \n",
    "    return sum(scores) /float(env_trials)    # retorna la media de los scores de todas las corridas"
   ]
  },
  {
   "cell_type": "markdown",
   "metadata": {},
   "source": [
    "### Funcion para evaluar una población de individuos "
   ]
  },
  {
   "cell_type": "code",
   "execution_count": 5,
   "metadata": {},
   "outputs": [],
   "source": [
    "def evaluate_population(population, env, env_trials, env_frames ):\n",
    "    \"\"\" Evalua una poblacion de individuos con la funcion get_fitness \"\"\"\n",
    "    pop_size = len(population)\n",
    "    for i in range(pop_size):\n",
    "        if population[i].fitness == -1:    # si el individuo no esta evaluado entonces lo evalua\n",
    "            population[i].fitness = get_fitness(population[i], env, env_trials, env_frames)"
   ]
  },
  {
   "cell_type": "markdown",
   "metadata": {},
   "source": [
    "### Funcion que escoge una pareja de individuos para cruzamiento  (metodo de ruleta)"
   ]
  },
  {
   "cell_type": "code",
   "execution_count": 6,
   "metadata": {},
   "outputs": [],
   "source": [
    "def select_parents_roulette(population):\n",
    "    pop_size = len(population)\n",
    "    \n",
    "    # Escoje el primer padre\n",
    "    sumfitness = sum([indiv.fitness for indiv in population])  # suma total del fitness de la poblacion\n",
    "    pickfitness = random.uniform(0, sumfitness)   # escoge un numero aleatorio entre 0 y sumfitness\n",
    "    cumfitness = 0     # fitness acumulado\n",
    "    for i in range(pop_size):\n",
    "        cumfitness += population[i].fitness\n",
    "        if cumfitness > pickfitness: \n",
    "            iParent1 = i\n",
    "            break\n",
    "    \n",
    "    # Escoje el segundo padre, desconsiderando el primer padre\n",
    "    sumfitness = sumfitness - population[iParent1].fitness # retira el fitness del padre ya escogido\n",
    "    pickfitness = random.uniform(0, sumfitness)   # escoge un numero aleatorio entre 0 y sumfitness\n",
    "    cumfitness = 0     # fitness acumulado\n",
    "    for i in range(pop_size):\n",
    "        if i == iParent1: continue   # si es el primer padre \n",
    "        cumfitness += population[i].fitness\n",
    "        if cumfitness > pickfitness: \n",
    "            iParent2 = i\n",
    "            break        \n",
    "    return (population[iParent1], population[iParent2])"
   ]
  },
  {
   "cell_type": "markdown",
   "metadata": {},
   "source": [
    "### Funcion que selecciona la poblacion de la sgte generacion, dada la poblacion actual y poblacion de hijos"
   ]
  },
  {
   "cell_type": "code",
   "execution_count": 7,
   "metadata": {},
   "outputs": [],
   "source": [
    "def select_survivors(population, offspring_population, numsurvivors):\n",
    "    next_population = []\n",
    "    population.extend(offspring_population) # une las dos poblaciones\n",
    "    isurvivors = sorted(range(len(population)), key=lambda i: population[i].fitness, reverse=True)[:numsurvivors]\n",
    "    for i in range(numsurvivors):\n",
    "        next_population.append(population[isurvivors[i]])\n",
    "    return next_population"
   ]
  },
  {
   "cell_type": "markdown",
   "metadata": {},
   "source": [
    "### Algoritmo Genetico para encontrar Individuos (redes neuronales de topologia fija) capaces de jugar CartPool\n"
   ]
  },
  {
   "cell_type": "code",
   "execution_count": 8,
   "metadata": {},
   "outputs": [],
   "source": [
    "def genetic_algorithm(population, env, env_trials, env_frames, ngen=100, pmut=0.1):\n",
    "    \"\"\"Algoritmo Genetico para el problema de la mochila\n",
    "        population:  Poblacion inicial de individuos (de la clase Individual)\n",
    "        env:        Entorno donde actuaran los individuos\n",
    "        env_trials: numero de corridas del entorno para evaluar un individuo\n",
    "        env_frames: maximo numero de pasos en cada corrida del entorno \n",
    "        ngen:       maximo numero de generaciones \n",
    "        pmut:       taza de mutacion\n",
    "    \"\"\"\n",
    "    \n",
    "    pop_size = len(population)\n",
    "    evaluate_population(population, env, env_trials, env_frames) # evalua la poblacion inicial\n",
    "    ibest = sorted(range(len(population)), key=lambda i: population[i].fitness, reverse=True)[:1]  # mejor individuo\n",
    "    bestfitness = [population[ibest[0]].fitness]  # fitness del mejor individuo\n",
    "    print(\"Poblacion inicial, best_fitness = {}\".format(population[ibest[0]].fitness))\n",
    "    \n",
    "    for g in range(ngen):   # Por cada generacion\n",
    "\n",
    "        ## Selecciona parejas de individuos (mating_pool) para cruzamiento con el metodo de la ruleta\n",
    "        mating_pool = []\n",
    "        for i in range(int(pop_size/2)): mating_pool.append(select_parents_roulette(population)) \n",
    "        \n",
    "        ## Crea la poblacion descendencia cruzando las parejas del mating pool \n",
    "        offspring_population = []\n",
    "        for i in range(len(mating_pool)): \n",
    "            offspring_population.extend( mating_pool[i][0].crossover(mating_pool[i][1]) ) # cruzamiento \n",
    "\n",
    "        ## Aplica el operador de mutacion con probabilidad pmut en cada hijo generado\n",
    "        for i in range(len(offspring_population)):\n",
    "            if random.uniform(0, 1) < pmut: \n",
    "                    offspring_population[i].mutate() \n",
    "        \n",
    "        ## Evalua la poblacion descendencia creada\n",
    "        evaluate_population(offspring_population, env, env_trials, env_frames)   # evalua la poblacion descendencia\n",
    "        \n",
    "        ## Selecciona pop_size individuos para la sgte. generación de la union de la pob. actual y  pob. descendencia\n",
    "        population = select_survivors(population, offspring_population, pop_size)\n",
    "\n",
    "        ## Almacena la historia del fitness del mejor individuo\n",
    "        ibest = sorted(range(len(population)), key=lambda i: population[i].fitness, reverse=True)[:1]\n",
    "        bestfitness.append(population[ibest[0]].fitness)\n",
    "        \n",
    "        \n",
    "        print(\"generacion {}, Mejor fitness = {})\".format(g, population[ibest[0]].fitness))\n",
    "        \n",
    "    print(\"Fitness de mejor individuo en ultima generacion = {})\".format(population[ibest[0]].fitness))\n",
    "    return population[ibest[0]], bestfitness  # devuelve el mejor individuo y la lista de mejores fitness x gen"
   ]
  },
  {
   "cell_type": "markdown",
   "metadata": {},
   "source": [
    "### Prueba La neuroevolucion en busca de una Inteligencia capaz de jugar CartPool\n"
   ]
  },
  {
   "cell_type": "code",
   "execution_count": 9,
   "metadata": {},
   "outputs": [],
   "source": [
    "## Hiperparametros de los modelos neuronales\n",
    "INPUT_DIM = 4   # numero de entradas de la Red Neuronal (= numero de features del estado)\n",
    "HIDDEN_DIM = 4  # numero de neuronas ocultas\n",
    "OUTPUT_DIM = 2  # numero de neuronas de dalida (= numero de acciones)"
   ]
  },
  {
   "cell_type": "code",
   "execution_count": 10,
   "metadata": {},
   "outputs": [],
   "source": [
    "## Hiperparametros del algoritmo genetico\n",
    "POP_SIZE = 10       # numero de individuos\n",
    "GENERATIONS = 15   # numero de generaciones\n",
    "TRIALS_ENV = 5    # numero de corridas del entorno  para evaluar un individuo\n",
    "FRAMES_ENV = 400   # numero de time steps para evaluar una corrida del entorno\n",
    "PMUT = 0.3         # taza de mutacion"
   ]
  },
  {
   "cell_type": "code",
   "execution_count": 11,
   "metadata": {},
   "outputs": [
    {
     "name": "stdout",
     "output_type": "stream",
     "text": [
      "WARNING:tensorflow:From C:\\ProgramData\\Anaconda3\\lib\\site-packages\\tensorflow\\python\\framework\\op_def_library.py:263: colocate_with (from tensorflow.python.framework.ops) is deprecated and will be removed in a future version.\n",
      "Instructions for updating:\n",
      "Colocations handled automatically by placer.\n",
      "Poblacion inicial, best_fitness = 301.4\n",
      "generacion 0, Mejor fitness = 355.6)\n",
      "generacion 1, Mejor fitness = 396.0)\n",
      "generacion 2, Mejor fitness = 400.0)\n",
      "generacion 3, Mejor fitness = 400.0)\n",
      "generacion 4, Mejor fitness = 400.0)\n",
      "generacion 5, Mejor fitness = 400.0)\n",
      "generacion 6, Mejor fitness = 400.0)\n",
      "generacion 7, Mejor fitness = 400.0)\n",
      "generacion 8, Mejor fitness = 400.0)\n",
      "generacion 9, Mejor fitness = 400.0)\n",
      "generacion 10, Mejor fitness = 400.0)\n",
      "generacion 11, Mejor fitness = 400.0)\n",
      "generacion 12, Mejor fitness = 400.0)\n",
      "generacion 13, Mejor fitness = 400.0)\n",
      "generacion 14, Mejor fitness = 400.0)\n",
      "Fitness de mejor individuo en ultima generacion = 400.0)\n"
     ]
    },
    {
     "data": {
      "image/png": "[encoded data removed]",
      "text/plain": [
       "<Figure size 432x288 with 1 Axes>"
      ]
     },
     "metadata": {
      "needs_background": "light"
     },
     "output_type": "display_data"
    }
   ],
   "source": [
    "# carga el entorno Cartpole de gym\n",
    "env = gym.make('CartPole-v1')  \n",
    "\n",
    "## Inicializa una poblacion inicial de forma aleatoria\n",
    "population = init_population(POP_SIZE, INPUT_DIM, HIDDEN_DIM, OUTPUT_DIM)\n",
    "\n",
    "# realiza la neuroevolucion con el algoritmo genetico \n",
    "best_ind, bestfitness = genetic_algorithm(population, env, TRIALS_ENV, FRAMES_ENV, GENERATIONS, PMUT)\n",
    "\n",
    "# muestra la evolucion del mejor fitness\n",
    "plt.plot(bestfitness)\n",
    "plt.show()"
   ]
  },
  {
   "cell_type": "code",
   "execution_count": 12,
   "metadata": {},
   "outputs": [],
   "source": [
    "def play_CartPole(ind, trials = 1):\n",
    "    env = gym.make('CartPole-v1')  \n",
    "    scores = []\n",
    "    for each_game in range(trials):\n",
    "        score = 0\n",
    "        game_memory = []\n",
    "        current_state = []\n",
    "        env.reset()\n",
    "        for _ in range(500): # en cada trial ejecuta 500  pasos\n",
    "            env.render()\n",
    "\n",
    "            if len(current_state) == 0:    # si es el primer movimiento  -> escoge una accion aleatoria\n",
    "                action = random.randrange(0,2)\n",
    "            else:\n",
    "                action = np.argmax( ind.model.predict(current_state.reshape(1, 4)) ) # infiere la accion con la red neuronal\n",
    "\n",
    "            new_state, reward, done, info = env.step(action)  # corre el entorno un step ejecutando la accion inferida\n",
    "            score += reward   # acumula el reward (reward=1 en cualquier estado no terminal)\n",
    "            current_state = new_state\n",
    "            game_memory.append([new_state, action])\n",
    "            if done: break\n",
    "        scores.append(score)\n",
    "    env.close()\n",
    " \n",
    "    print(\"Score medio = {}\".format(sum(scores) /float(trials)) )\n",
    "    \n",
    "    "
   ]
  },
  {
   "cell_type": "code",
   "execution_count": 13,
   "metadata": {},
   "outputs": [
    {
     "name": "stdout",
     "output_type": "stream",
     "text": [
      "Score medio = 500.0\n"
     ]
    }
   ],
   "source": [
    "play_CartPole(best_ind,5)"
   ]
  },
  {
   "cell_type": "code",
   "execution_count": null,
   "metadata": {},
   "outputs": [],
   "source": []
  }
 ],
 "metadata": {
  "kernelspec": {
   "display_name": "Python 3",
   "language": "python",
   "name": "python3"
  },
  "language_info": {
   "codemirror_mode": {
    "name": "ipython",
    "version": 3
   },
   "file_extension": ".py",
   "mimetype": "text/x-python",
   "name": "python",
   "nbconvert_exporter": "python",
   "pygments_lexer": "ipython3",
   "version": "3.7.3"
  }
 },
 "nbformat": 4,
 "nbformat_minor": 2
}
