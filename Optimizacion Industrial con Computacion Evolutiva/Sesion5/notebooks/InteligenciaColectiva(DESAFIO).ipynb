{
 "cells": [
  {
   "cell_type": "markdown",
   "metadata": {
    "collapsed": true
   },
   "source": [
    "# Optimización industrial con Computación Evolutiva \n",
    "Dr. Edwin Villanueva Talavera (ervillanueva@pucp.edu.pe)\n",
    "Dra. Soledad Espezua Llerena (sespezua@pucp.edu.pe )"
   ]
  },
  {
   "cell_type": "markdown",
   "metadata": {},
   "source": [
    "## DESAFIO 4:  Experimentacion de Algoritmos de Inteligencia Colectiva PSO y ABC\n",
    "\n",
    "En este notebook se presenta la implementación de dos algoritmos de Inteligencia Colectiva para minimizar funciones continuas no convexas: el Algoritmo PSO y el Algoritmo ABC.  \n",
    "\n",
    "Al final de este notebook encontrará las preguntas que serán evaluadas\n"
   ]
  },
  {
   "cell_type": "markdown",
   "metadata": {},
   "source": [
    "### PARTICLE SWARM OPTIMIZATION (PSO) \n"
   ]
  },
  {
   "cell_type": "markdown",
   "metadata": {},
   "source": [
    "<b> Define clase Particle. Un Objeto de esta clase almacena informacion de una particula (solucion candidata) en PSO </b>"
   ]
  },
  {
   "cell_type": "code",
   "execution_count": 1,
   "metadata": {},
   "outputs": [],
   "source": [
    "class Particle(object):\n",
    "    \"\"\"Clase Particle para almacenar informacion de una particula en PSO \"\"\"\n",
    "    \n",
    "    def __init__(self, initial_position, initial_velocity, fitness): #constructor recibe posicion y velocidad inicial y fitness\n",
    "        self.position = initial_position\n",
    "        self.velocity = initial_velocity\n",
    "        self.fitness = fitness\n",
    "        self.best_position = initial_position\n",
    "        self.best_fitness = fitness"
   ]
  },
  {
   "cell_type": "markdown",
   "metadata": {},
   "source": [
    "<b> Define clase PSO. Un Objeto de esta clase instancia un optimizador PSO para un problema dado </b>"
   ]
  },
  {
   "cell_type": "code",
   "execution_count": 2,
   "metadata": {},
   "outputs": [],
   "source": [
    "class PSO:\n",
    "    \"\"\" Clase que implementa el optimizador PSO. El constructor puede recibir:\n",
    "        fn: La funcion a ser minimizada\n",
    "        PN: numero de particulas (\n",
    "        Xmin: vector con los limites inferiores para delimitar el espacio de busqueda\n",
    "        Xmax: vector con los limites superiores para delimitar el espacio de busqueda\n",
    "        w: factor de inercia de la particula\n",
    "        phi1: peso de aprendizaje cognitivo\n",
    "        phi2: peso de aprendizaje social\n",
    "        max_iter: número total de iteraciones que ejecutará PSO \"\"\"\n",
    "\n",
    "    def __init__(self, fn, PN, Xmin, Xmax, w, phi1, phi2, max_iter):  \n",
    "        self.fn = fn\n",
    "        self.PN = PN\n",
    "        self.Xmin = np.array(Xmin)\n",
    "        self.Xmax = np.array(Xmax)\n",
    "        self.w = w\n",
    "        self.phi1 = phi1\n",
    "        self.phi2 = phi2\n",
    "        self.max_iter = max_iter\n",
    "        self.particles = []\n",
    "        self.best_position_swarm = []\n",
    "        self.best_fitness_swarm = []\n",
    "        \n",
    "    def fitness(self, position):  \n",
    "        # el fitness para fn positivos es trasladado a valores entre [0,1]: 0 para fn=inf y 1 para fn=0. \n",
    "        # el fitness para fn negativos es trasladado a valores entre ]1,inf]: 1 para fn=-0 y inf para fn=-inf    \n",
    "        result = self.fn(position)\n",
    "        if result >= 0:\n",
    "            fitness = 1 / (1 + result)\n",
    "        else:\n",
    "            fitness = 1 + abs(result)\n",
    "        return fitness\n",
    "        \n",
    "    def create_particle(self):   # Instancia una particula aleatoria dentro de los limites de busqueda,\n",
    "        position = self.Xmin + rand.random()*(self.Xmax - self.Xmin)\n",
    "        Vmin = -1*(self.Xmax - self.Xmin)\n",
    "        Vmax = (self.Xmax - self.Xmin)\n",
    "        velocity = Vmin + rand.random()*(Vmax - Vmin)\n",
    "        fitness = self.fitness(position)\n",
    "        return Particle(position, velocity,fitness) \n",
    "    \n",
    "    def initialize_particles(self):  # crea las SN particles de PSO\n",
    "        self.particles = [self.create_particle() for i in range(self.PN)]\n",
    "    \n",
    "    def get_bestparticle(self):\n",
    "        best = max(self.particles, key=attrgetter('fitness'))\n",
    "        return best\n",
    "        \n",
    "    def optimize(self):\n",
    "        start_time = time.time()\n",
    "        print ('Iniciando optimizacion con Algoritmo PSO')\n",
    "        self.initialize_particles() # inicializa el swarm de particulas\n",
    "        \n",
    "        history_bestfitness = []\n",
    "        best_particle = self.get_bestparticle()\n",
    "        self.best_position_swarm, self.best_fitness_swarm = deepcopy(best_particle.position), best_particle.fitness \n",
    "        history_bestfitness.append(self.best_fitness_swarm)  # almacena la historia de mejores fitness en cada ciclo\n",
    "        print(\"Mejor solucion inicial = {}, fitness = {}\".format(self.best_position_swarm, self.best_fitness_swarm))\n",
    "\n",
    "        for g in range(self.max_iter):  # For each cycle\n",
    "\n",
    "            for i in range(self.PN): # por cada particula en el swarm\n",
    "\n",
    "                # si la particula i es mejor que la mejor posicion que ya vió la particula\n",
    "                if self.particles[i].fitness > self.particles[i].best_fitness: \n",
    "                    self.particles[i].best_position = deepcopy(self.particles[i].position)\n",
    "                    self.particles[i].best_fitness =  self.particles[i].fitness\n",
    "                \n",
    "                # si la mejor posicion que ya vió la particula i es mejor que la mejor position de todo el swarm\n",
    "                if self.particles[i].best_fitness > self.best_fitness_swarm:\n",
    "                    self.best_position_swarm = deepcopy(self.particles[i].best_position)\n",
    "                    self.best_fitness_swarm  = self.particles[i].best_fitness\n",
    "                    \n",
    "            # Actualiza la velocidad y position de cada particula en el swarm\n",
    "            for i in range(self.PN): \n",
    "                r1 = rand.random()\n",
    "                r2 = rand.random()\n",
    "                self.particles[i].velocity = self.w*self.particles[i].velocity + \\\n",
    "                                           self.phi1*r1*(self.particles[i].best_position - self.particles[i].position) + \\\n",
    "                                        self.phi2*r2*(self.best_position_swarm - self.particles[i].position) \n",
    "                self.particles[i].position = self.particles[i].position + self.particles[i].velocity\n",
    "                self.particles[i].fitness  = self.fitness(self.particles[i].position)\n",
    "                \n",
    "             ## Obtiene la mejor posicion encontrada en este ciclo\n",
    "            best_particle = self.get_bestparticle()  # mejor posicion del presente ciclo \n",
    "            history_bestfitness.append ( best_particle.fitness )\n",
    "                \n",
    "            if (g % 5 == 0): # muestra resultados cada 5 ciclos\n",
    "                print(\"Ciclo {}, Mejor solucion del ciclo = {} (fitness = {}))\".format(g, best_particle.position, best_particle.fitness ))\n",
    "        \n",
    "        end_time = time.time()\n",
    "        print(\"Mejor solucion encontrada por PSO: {}, fitness = {}. Tomo {} seg \".format(self.best_position_swarm, self.best_fitness_swarm, end_time-start_time))\n",
    "        return self.best_position_swarm, self.best_fitness_swarm, history_bestfitness\n",
    "    "
   ]
  },
  {
   "cell_type": "markdown",
   "metadata": {},
   "source": [
    "### ARTIFICIAL BEE COLONY (ABC) \n"
   ]
  },
  {
   "cell_type": "markdown",
   "metadata": {},
   "source": [
    "<b> Define clase FoodSource. Un Objeto de esta clase almacena informacion de una fuente de comida (solucion candidata) en ABC </b>\n"
   ]
  },
  {
   "cell_type": "code",
   "execution_count": 5,
   "metadata": {},
   "outputs": [],
   "source": [
    "class FoodSource(object):\n",
    "    \"\"\"Clase FoodSource para almacenar informacion de una fuente de comida en ABC \"\"\"\n",
    "    \n",
    "    def __init__(self, solution, fitness):  # el constructor recibe una posible solucion (localizacion) y su fitness\n",
    "        self.solution = solution\n",
    "        self.fitness = fitness\n",
    "        self.trials = 0  # esta informacion almacena las veces que la fuente se ha intentado mejorar sin exito  "
   ]
  },
  {
   "cell_type": "markdown",
   "metadata": {},
   "source": [
    "<b> Define clase ABC. Un Objeto de esta clase instancia un optimizador ABC para un problema dado </b>"
   ]
  },
  {
   "cell_type": "code",
   "execution_count": 11,
   "metadata": {},
   "outputs": [],
   "source": [
    "import numpy as np\n",
    "import time\n",
    "import random as rand\n",
    "from operator import attrgetter\n",
    "from copy import deepcopy\n",
    "import matplotlib.pyplot as plt\n",
    "\n",
    "class ABC:\n",
    "    \"\"\" Clase que implementa el optimizador ABC. El constructor puede recibir:\n",
    "        fn: La funcion a ser minimizada\n",
    "        SN: numero de fuentes de comida (Source Number)\n",
    "        Xmin: vector con los limites inferiores para delimitar el espacio de busqueda\n",
    "        Xmax: vector con los limites superiores para delimitar el espacio de busqueda\n",
    "        limit: numero de ciclos que será conservada una solución sin mejorar antes de ser reemplazada \n",
    "        max_iter: número total de iteraciones que ejecutará ABC \"\"\"\n",
    "\n",
    "    def __init__(self, fn, SN, Xmin, Xmax, limit, max_iter ):  \n",
    "        self.fn = fn\n",
    "        self.SN = SN\n",
    "        self.Xmin = np.array(Xmin)\n",
    "        self.Xmax = np.array(Xmax)\n",
    "        self.limit = limit\n",
    "        self.max_iter = max_iter\n",
    "        self.foodsources = []\n",
    "    \n",
    "    def fitness(self, solution):  \n",
    "        # el fitness para fn positivos es trasladado a valores entre [0,1]: 0 para fn=inf y 1 para fn=0. \n",
    "        # el fitness para fn negativos es trasladado a valores entre ]1,inf]: 1 para fn=-0 y inf para fn=-inf    \n",
    "            \n",
    "        #return -1*self.fn(solution)\n",
    "        result = self.fn(solution)\n",
    "        if result >= 0:\n",
    "            fitness = 1 / (1 + result)\n",
    "        else:\n",
    "            fitness = 1 + abs(result)\n",
    "        return fitness\n",
    "        \n",
    "    def get_randomsolution(self, Xmin, Xmax):  # retorna una solucion generada aleatoriamente dentro de los limites Xmin y Xmax  \n",
    "        r = rand.random()\n",
    "        return  Xmin + r*(Xmax - Xmin)\n",
    "        \n",
    "    def create_foodsource(self):   # Instancia una fuente de comida aleatoria dentro de los limites de busqueda,\n",
    "        solution = self.get_randomsolution(self.Xmin, self.Xmax)\n",
    "        fitness = self.fitness(solution)\n",
    "        return FoodSource(solution, fitness)   \n",
    "    \n",
    "    def initialize_foodsources(self):  # crea las SN fuentes de comida\n",
    "        self.foodsources = [self.create_foodsource() for i in range(self.SN)]\n",
    "\n",
    "    def produce_neighboursolution(self, foodsource_index):  # genera una solucion candidata en la vecindad de la fuente foodsource_index\n",
    "        Xi = self.foodsources[foodsource_index].solution  # solucion de la fuente pasada\n",
    "        other_source_indexes = list(range(self.SN)) \n",
    "        del(other_source_indexes[foodsource_index]) # remueve la fuente pasada para no ser seleccionada\n",
    "        k = rand.choice(other_source_indexes)  # escoje aleatoriamente otra fuente para generar una solucion candidata \n",
    "        Xk = self.foodsources[k].solution  # solucion de la otra fuente\n",
    "        r = rand.uniform(-1, 1)\n",
    "        return  Xi + r * (Xi - Xk)\n",
    "     \n",
    "    def get_bestsolution(self, X, V):  # devuelve la solucion con mejor fitness entre la solucion actual X y una solucion candidata V \n",
    "        if self.fitness(V) > self.fitness(X):\n",
    "            return V\n",
    "        else:\n",
    "            return X        \n",
    "\n",
    "    def get_probs_foodsources(self): # calcula las probabilidades de las fuentes de comida\n",
    "        fitness_sum = sum([fs.fitness for fs in self.foodsources])\n",
    "        return [fs.fitness/fitness_sum  for fs in self.foodsources]\n",
    "    \n",
    "    def update_solution_foodsource(self, foodsource, new_solution):  # actualiza la solucion de la fuente de comida\n",
    "        if np.array_equal(new_solution, foodsource.solution): # si es la misma solucion entonces solo aumenta trials de la fuente\n",
    "            foodsource.trials += 1\n",
    "        else: # si la nueva solucion es mejor que la actual de la fuente de comida -> actualiza solucion y fitness\n",
    "            foodsource.solution = new_solution\n",
    "            foodsource.fitness = self.fitness(new_solution)\n",
    "            foodsource.trials = 0\n",
    "\n",
    "    def selection(self, probabilities):  # selecciona una fuente de comida basada en sus probabilidades\n",
    "        return rand.choices(range(self.SN), probabilities)[0]\n",
    "    \n",
    "    def get_bestfoodsource(self):\n",
    "        best = max(self.foodsources, key=attrgetter('fitness'))\n",
    "        return best\n",
    "        \n",
    "    def optimize(self):\n",
    "        start_time = time.time()\n",
    "        print ('Iniciando optimizacion con Algoritmo ABC')\n",
    "        self.initialize_foodsources() # inicializa la poblacion de fuentes de comida\n",
    "        \n",
    "        history_bestfitness = []\n",
    "        best_foodsource = self.get_bestfoodsource()\n",
    "        best_solution, best_fitness = deepcopy(best_foodsource.solution), best_foodsource.fitness \n",
    "        history_bestfitness.append(best_fitness)  # almacena la historia de mejores fitness en cada ciclo\n",
    "        print(\"Mejor solucion inicial = {}, fitness = {}\".format(best_solution, best_fitness))\n",
    "\n",
    "        for g in range(self.max_iter):  # For each cycle\n",
    "            \n",
    "            ## Etapa de Abejas empleadas (Employed bee)\n",
    "            for i in range(self.SN): # por cada abeja empleada\n",
    "                foodsource = self.foodsources[i]\n",
    "                Vi = self.produce_neighboursolution(i)  # produce una solucion en la vecindad de foodsource \n",
    "                solution = self.get_bestsolution(foodsource.solution, Vi) # selecciona la mejor solucion entre la actual y la candidata\n",
    "                self.update_solution_foodsource(foodsource, solution) # actualiza la solucion en la fuente escogida\n",
    "            \n",
    "            ## Etapa de Abejas Observadoras (Onlooker bee)\n",
    "            for i in range(self.SN): # por cada abeja observadora\n",
    "                probabilities = self.get_probs_foodsources()   # calcula las probabilidades de todas las fuentes de comida \n",
    "                index_foodsource = self.selection(probabilities) # selecciona una fuente de comida en base a las probabilidades (metodo ruleta)\n",
    "                foodsource = self.foodsources[index_foodsource]\n",
    "                Vi = self.produce_neighboursolution(index_foodsource)  # produce una solucion en la vecindad de selected_foodsource \n",
    "                solution = self.get_bestsolution(foodsource.solution, Vi) # selecciona la mejor solucion entre la fuente seleccionada actual y la candidata\n",
    "                self.update_solution_foodsource(foodsource, solution)  # actualiza la solucion en la fuente escogida        \n",
    "            \n",
    "            ## Etapa de Abejas exploradoras (Scout bee)\n",
    "            for i in range(self.SN): # por cada fuente de comida\n",
    "                foodsource = self.foodsources[i]\n",
    "                if foodsource.trials > self.limit:  # si el numero de veces que se intento mejorar la fuente excede el limite entonces abandona \n",
    "                    self.foodsources[i] = self.create_foodsource() # reemplaza la fuente de comida i  por una nueva \n",
    "            \n",
    "             ## Memoriza la mejor solucion alcanzada hasta ahora \n",
    "            best_foodsource = self.get_bestfoodsource()  # mejor fuente del presente ciclo \n",
    "            history_bestfitness.append ( best_foodsource.fitness )\n",
    "            if best_foodsource.fitness >  best_fitness:  # si la mejor solucion del ciclo es mejor que la mejor solucion histórica\n",
    "                best_solution, best_fitness = deepcopy(best_foodsource.solution), best_foodsource.fitness\n",
    "                \n",
    "            if (g % 5 == 0): # muestra resultados cada 5 ciclos\n",
    "                print(\"Ciclo {}, Mejor solucion del ciclo = {} (fitness = {}))\".format(g, best_foodsource.solution, best_foodsource.fitness ))\n",
    "        \n",
    "        end_time = time.time()\n",
    "        print(\"Mejor solucion encontrada por ABC: {}, fitness = {}. Tomo {} seg \".format(best_solution, best_fitness, end_time-start_time))\n",
    "        return best_solution, best_fitness, history_bestfitness\n",
    "    "
   ]
  },
  {
   "cell_type": "markdown",
   "metadata": {},
   "source": [
    " ### Funciones benchmark para evaluar el algoritmo ABC y PSO\n",
    "  "
   ]
  },
  {
   "cell_type": "markdown",
   "metadata": {},
   "source": [
    "<b>Define 3 funciones benchmark para probar el algoritmo ABC para encontrar sus minimos globales. </b> El fitness del optimo global en todos los casos es 0"
   ]
  },
  {
   "cell_type": "code",
   "execution_count": 6,
   "metadata": {},
   "outputs": [],
   "source": [
    "def ackley(d, *, a=20, b=0.2, c=2*np.pi):\n",
    "    sum_part1 = np.sum([x**2 for x in d])\n",
    "    part1 = -1.0 * a * np.exp(-1.0 * b * np.sqrt((1.0/len(d)) * sum_part1))\n",
    "    sum_part2 = np.sum([np.cos(c * x) for x in d])\n",
    "    part2 = -1.0 * np.exp((1.0 / len(d)) * sum_part2)\n",
    "\n",
    "    return a + np.exp(1) + part1 + part2\n",
    "\n",
    "def rastrigin(d):\n",
    "    sum_i = np.sum([x**2 - 10*np.cos(2 * np.pi * x) for x in d])\n",
    "    return 10 * len(d) + sum_i\n",
    "\n",
    " \n",
    "def rosenbrock(d, a=1, b=100):\n",
    "    return (a - d[0])**2 + b * (d[1] - d[0]**2)**2"
   ]
  },
  {
   "cell_type": "markdown",
   "metadata": {},
   "source": [
    " ## Probando el algoritmo PSO\n",
    " \n",
    " los parametros que se pasan a PSO son (fn, PN, Xmin, Xmax, w, phi1, phi2, max_iter):\n",
    " \n",
    "        fn: La funcion a ser minimizada\n",
    "        PN: numero de particulas (\n",
    "        Xmin: vector con los limites inferiores para delimitar el espacio de busqueda\n",
    "        Xmax: vector con los limites superiores para delimitar el espacio de busqueda\n",
    "        w: factor de inercia de la particula\n",
    "        phi1: peso de aprendizaje cognitivo\n",
    "        phi2: peso de aprendizaje social\n",
    "        max_iter: número total de iteraciones que ejecutará PSO"
   ]
  },
  {
   "cell_type": "markdown",
   "metadata": {},
   "source": [
    "<b> Optimizacion PSO en la funcion Ackley </b>"
   ]
  },
  {
   "cell_type": "code",
   "execution_count": 9,
   "metadata": {},
   "outputs": [
    {
     "name": "stdout",
     "output_type": "stream",
     "text": [
      "Iniciando optimizacion con Algoritmo PSO\n",
      "Mejor solucion inicial = [5.86801034 5.86801034], fitness = 0.06423234145615091\n",
      "Ciclo 0, Mejor solucion del ciclo = [-1.8761764 -1.8761764] (fitness = 0.12599176659576225))\n",
      "Ciclo 5, Mejor solucion del ciclo = [-0.04545542 -0.04545542] (fitness = 0.7758487990852131))\n",
      "Ciclo 10, Mejor solucion del ciclo = [-0.00011015 -0.00011015] (fitness = 0.9995589492975308))\n",
      "Ciclo 15, Mejor solucion del ciclo = [-4.28609385e-05 -4.28609385e-05] (fitness = 0.999828487831571))\n",
      "Ciclo 20, Mejor solucion del ciclo = [-4.2775814e-05 -4.2775814e-05] (fitness = 0.9998288286009172))\n",
      "Ciclo 25, Mejor solucion del ciclo = [-4.2775814e-05 -4.2775814e-05] (fitness = 0.9998288286009172))\n",
      "Ciclo 30, Mejor solucion del ciclo = [-4.27758137e-05 -4.27758137e-05] (fitness = 0.9998288286021264))\n",
      "Ciclo 35, Mejor solucion del ciclo = [-4.27758137e-05 -4.27758137e-05] (fitness = 0.99982882860213))\n",
      "Ciclo 40, Mejor solucion del ciclo = [-4.27758137e-05 -4.27758137e-05] (fitness = 0.9998288286021335))\n",
      "Ciclo 45, Mejor solucion del ciclo = [-4.27758137e-05 -4.27758137e-05] (fitness = 0.9998288286021371))\n",
      "Ciclo 50, Mejor solucion del ciclo = [-4.27758137e-05 -4.27758137e-05] (fitness = 0.9998288286021371))\n",
      "Ciclo 55, Mejor solucion del ciclo = [-4.27758137e-05 -4.27758137e-05] (fitness = 0.9998288286021371))\n",
      "Ciclo 60, Mejor solucion del ciclo = [-4.27758137e-05 -4.27758137e-05] (fitness = 0.9998288286021371))\n",
      "Ciclo 65, Mejor solucion del ciclo = [-4.27758137e-05 -4.27758137e-05] (fitness = 0.9998288286021371))\n",
      "Ciclo 70, Mejor solucion del ciclo = [-4.27758137e-05 -4.27758137e-05] (fitness = 0.9998288286021371))\n",
      "Ciclo 75, Mejor solucion del ciclo = [-4.27758137e-05 -4.27758137e-05] (fitness = 0.9998288286021371))\n",
      "Ciclo 80, Mejor solucion del ciclo = [-4.27758137e-05 -4.27758137e-05] (fitness = 0.9998288286021371))\n",
      "Ciclo 85, Mejor solucion del ciclo = [-4.27758137e-05 -4.27758137e-05] (fitness = 0.9998288286021371))\n",
      "Ciclo 90, Mejor solucion del ciclo = [-4.27758137e-05 -4.27758137e-05] (fitness = 0.9998288286021371))\n",
      "Ciclo 95, Mejor solucion del ciclo = [-4.27758137e-05 -4.27758137e-05] (fitness = 0.9998288286021371))\n",
      "Mejor solucion encontrada por PSO: [-4.27758137e-05 -4.27758137e-05], fitness = 0.9998288286021371. Tomo 0.05485200881958008 seg \n"
     ]
    },
    {
     "data": {
      "image/png": "[encoded data removed]",
      "text/plain": [
       "<Figure size 432x288 with 1 Axes>"
      ]
     },
     "metadata": {
      "needs_background": "light"
     },
     "output_type": "display_data"
    },
    {
     "name": "stdout",
     "output_type": "stream",
     "text": [
      "Minimo encontrado con PSO en funcion Ackley: [-4.27758137e-05 -4.27758137e-05], fn=0.00017120070252651942\n"
     ]
    }
   ],
   "source": [
    "# instancia optimizador PSO para minimizar la funcion ackley\n",
    "pso_optimizer_ackley = PSO(ackley, 5, [-20, -20], [20, 20], 0.01, 1, 1, 100)\n",
    "best_solution, best_fitness, history_bestfitness = pso_optimizer_ackley.optimize()\n",
    "\n",
    "# muestra la evolucion del mejor fitness\n",
    "plt.plot(history_bestfitness)\n",
    "plt.show()\n",
    "\n",
    "ackley_best_solution = ackley(best_solution)\n",
    "print(\"Minimo encontrado con PSO en funcion Ackley: {}, fn={}\".format(best_solution, ackley_best_solution))"
   ]
  },
  {
   "cell_type": "markdown",
   "metadata": {},
   "source": [
    " ## Probando el algoritmo ABC\n",
    " \n",
    " los parametros que se pasan a ABC son (fn, SN, Xmin, Xmax, limit, max_iter):\n",
    " \n",
    "        fn: La funcion a ser minimizada\n",
    "        SN: numero de fuentes de comida (Source Number)\n",
    "        Xmin: vector con los limites inferiores para delimitar el espacio de busqueda\n",
    "        Xmax: vector con los limites superiores para delimitar el espacio de busqueda\n",
    "        limit: numero de ciclos que será conservada una solución sin mejorar antes de ser reemplazada \n",
    "        max_iter: número total de iteraciones que ejecutará ABC"
   ]
  },
  {
   "cell_type": "markdown",
   "metadata": {},
   "source": [
    "<b> Optimizacion ABC en la funcion Ackley </b>"
   ]
  },
  {
   "cell_type": "code",
   "execution_count": 12,
   "metadata": {},
   "outputs": [
    {
     "name": "stdout",
     "output_type": "stream",
     "text": [
      "Iniciando optimizacion con Algoritmo ABC\n",
      "Mejor solucion inicial = [1.61588587 1.61588587], fitness = 0.11406008967872946\n",
      "Ciclo 0, Mejor solucion del ciclo = [-0.81504653 -0.81504653] (fitness = 0.19088919878964108))\n",
      "Ciclo 5, Mejor solucion del ciclo = [0.04133574 0.04133574] (fitness = 0.7972475032898637))\n",
      "Ciclo 10, Mejor solucion del ciclo = [-0.01384447 -0.01384447] (fitness = 0.9384738734864368))\n",
      "Ciclo 15, Mejor solucion del ciclo = [-8.17634084e-05 -8.17634084e-05] (fitness = 0.9996726974936943))\n",
      "Ciclo 20, Mejor solucion del ciclo = [-6.27752647e-05 -6.27752647e-05] (fitness = 0.9997487522121078))\n",
      "Ciclo 25, Mejor solucion del ciclo = [-1.97596617e-06 -1.97596617e-06] (fitness = 0.99999209598985))\n",
      "Ciclo 30, Mejor solucion del ciclo = [-2.2145959e-08 -2.2145959e-08] (fitness = 0.9999999114161467))\n",
      "Ciclo 35, Mejor solucion del ciclo = [-1.4734803e-08 -1.4734803e-08] (fitness = 0.9999999410607815))\n",
      "Ciclo 40, Mejor solucion del ciclo = [3.38172713e-10 3.38172713e-10] (fitness = 0.9999999986473083))\n",
      "Ciclo 45, Mejor solucion del ciclo = [-1.23422116e-11 -1.23422116e-11] (fitness = 0.9999999999506319))\n",
      "Mejor solucion encontrada por ABC: [-3.59990228e-12 -3.59990228e-12], fitness = 0.9999999999856013. Tomo 0.0777902603149414 seg \n"
     ]
    },
    {
     "data": {
      "image/png": "[encoded data removed]",
      "text/plain": [
       "<Figure size 432x288 with 1 Axes>"
      ]
     },
     "metadata": {
      "needs_background": "light"
     },
     "output_type": "display_data"
    },
    {
     "name": "stdout",
     "output_type": "stream",
     "text": [
      "Minimo encontrado con ABC en funcion Ackley: [-3.59990228e-12 -3.59990228e-12], fn=1.439870445096858e-11\n"
     ]
    }
   ],
   "source": [
    "# instancia optimizador ABC para minimizar la funcion ackley\n",
    "abc_optimizer_ackley = ABC(ackley, 5, [-20, -20], [20, 20],25, 50)\n",
    "best_solution, best_fitness, history_bestfitness = abc_optimizer_ackley.optimize()\n",
    "\n",
    "# muestra la evolucion del mejor fitness\n",
    "plt.plot(history_bestfitness)\n",
    "plt.show()\n",
    "\n",
    "ackley_best_solution = ackley(best_solution)\n",
    "print(\"Minimo encontrado con ABC en funcion Ackley: {}, fn={}\".format(best_solution, ackley_best_solution))"
   ]
  },
  {
   "cell_type": "markdown",
   "metadata": {},
   "source": [
    "<b> Optimizacion ABC en la funcion Rastrigin </b>"
   ]
  },
  {
   "cell_type": "code",
   "execution_count": null,
   "metadata": {},
   "outputs": [],
   "source": [
    "# instancia optimizador ABC para minimizar la funcion Rastrigin \n",
    "abc_optimizer_rastrigin = ABC(rastrigin, 5, [-5, -5], [5, 5], 25, 50)\n",
    "best_solution, best_fitness, history_bestfitness = abc_optimizer_rastrigin.optimize()\n",
    "\n",
    "# muestra la evolucion del mejor fitness\n",
    "plt.plot(history_bestfitness)\n",
    "plt.show()\n",
    "\n",
    "rastrigin_best_solution = rastrigin(best_solution)\n",
    "print(\"Minimo encontrado con ABC en funcion Rastrigin : {}, fn={}\".format(best_solution, rastrigin_best_solution))"
   ]
  },
  {
   "cell_type": "markdown",
   "metadata": {},
   "source": [
    "<b> Optimizacion ABC en la funcion Rosenbrock </b>"
   ]
  },
  {
   "cell_type": "code",
   "execution_count": null,
   "metadata": {},
   "outputs": [],
   "source": [
    "# instancia optimizador ABC para minimizar la funcion Rosenbrock \n",
    "abc_optimizer_rosenbrock = ABC(rosenbrock, 5, [-3, -3], [3, 3], 25, 50)\n",
    "best_solution, best_fitness, history_bestfitness = abc_optimizer_rosenbrock.optimize()\n",
    "\n",
    "# muestra la evolucion del mejor fitness\n",
    "plt.plot(history_bestfitness)\n",
    "plt.show()\n",
    "\n",
    "rosenbrock_best_solution = rosenbrock(best_solution)\n",
    "print(\"Minimo encontrado con ABC en funcion Rosenbrock : {}, fn={}\".format(best_solution, rosenbrock_best_solution))"
   ]
  },
  {
   "cell_type": "markdown",
   "metadata": {},
   "source": [
    "# Tareas y cuestiones:\n",
    "\n",
    "<b>1) Ejecutar 10 veces ABC en funcion ACkley paraca cada valor indicado del parametro limit y los sgtes parametros</b>\n",
    "\n",
    "      - SN = 5 (para todas las funciones)\n",
    "      - limit = {1,10,25, 50 }\n",
    "      - max_iter = 50\n",
    "      - Xmin = [-20, -20]   \n",
    "      - Xmax = [20, 20]\n",
    "      \n",
    "      Registre la media del fitness de la mejor solucion encontrada para cada valor del parametro limit\n",
    "      En base a los resultados obtenidos comente que efecto tiene el parámetro limit en la capacidad de ABC de encontrar optimos. Relacione con qué rol está asociado dicho parámetro (exploracion o explotacion?) \n",
    "\n",
    "\n",
    "<b>2) Ejecute 10 veces PSO en la funcion ACkley para cada combinacion de parametros:</b>\n",
    "\n",
    "      - PN = 5 \n",
    "      - max_iter = 50\n",
    "      - Xmin = [-20, -20]   \n",
    "      - Xmax = [20, 20]   \n",
    "      - w  = {0.01, 0.1, 1}\n",
    "      - phi1 = {0.1, 2, 10}\n",
    "      - phi2 = {0.1, 2, 10}\n",
    "      \n",
    "      Registre la media del fitness de la mejor solucion encontrada en cada combinacion de parametros y analise los resultados y explique en terminos de como influye \"la fuerza inercial\", \"el aprendizaje cognitivo\" y \"el aprendizaje social\" en la busqueda de optimos. ¿Qué configuracion tiende a ofrecer mejores resultados?\n",
    " \n",
    "      Compare los resultados contra los encontrados por ABC en dicha funcion (ACkley)\n",
    "      \n",
    "       \n",
    "        \n"
   ]
  },
  {
   "cell_type": "code",
   "execution_count": null,
   "metadata": {},
   "outputs": [],
   "source": []
  }
 ],
 "metadata": {
  "kernelspec": {
   "display_name": "Python 3",
   "language": "python",
   "name": "python3"
  },
  "language_info": {
   "codemirror_mode": {
    "name": "ipython",
    "version": 3
   },
   "file_extension": ".py",
   "mimetype": "text/x-python",
   "name": "python",
   "nbconvert_exporter": "python",
   "pygments_lexer": "ipython3",
   "version": "3.7.3"
  }
 },
 "nbformat": 4,
 "nbformat_minor": 2
}
