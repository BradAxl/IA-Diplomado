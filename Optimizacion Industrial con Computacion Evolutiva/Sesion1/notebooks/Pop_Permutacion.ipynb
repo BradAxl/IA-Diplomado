{
 "cells": [
  {
   "cell_type": "markdown",
   "metadata": {},
   "source": [
    "## Poblacion tipo permutacion"
   ]
  },
  {
   "cell_type": "code",
   "execution_count": null,
   "metadata": {},
   "outputs": [],
   "source": [
    "class Individual:   \n",
    "    def __init__(self, chromosome):  # el constructor recibe el cromosoma  y el pool de alelos posibles\n",
    "        self.chromosome = chromosome[:]\n",
    "        self.fitness = -1  # -1 indica que el individuo no ha sido evaluado\n"
   ]
  },
  {
   "cell_type": "code",
   "execution_count": null,
   "metadata": {},
   "outputs": [],
   "source": [
    "class Board:\n",
    "    def __init__(self, genes, size):\n",
    "        board = [['.'] * size for _ in range(size)]\n",
    "        for index in range(0, len(genes), 1):\n",
    "            row = index\n",
    "            column = genes[index ]\n",
    "            board[column-1][row] = 'Q'\n",
    "        self._board = board\n",
    "\n",
    "    def get(self, row, column):\n",
    "        return self._board[column][row]\n",
    "\n",
    "    def print(self):\n",
    "        # 0,0 imprime desde abajo comenzando en el extremo izquierdo\n",
    "        for i in reversed(range(len(self._board))):\n",
    "            print(' '.join(self._board[i]))\n",
    "      "
   ]
  },
  {
   "cell_type": "code",
   "execution_count": null,
   "metadata": {},
   "outputs": [],
   "source": [
    "#Crea poblacion#\n",
    "import random\n",
    "population = []\n",
    "num_queens=10\n",
    "popsize=10\n",
    "\n",
    "## Crea la poblacion inicial con los siguientes cromosomas    \n",
    "'''\n",
    "chromosomes = [[1,3,1,3,1,3,1,3,1,3],\n",
    "               [2,4,2,4,2,4,2,4,2,4],\n",
    "               [3,5,3,5,3,5,3,5,3,5],\n",
    "               [4,6,4,6,4,6,4,6,4,6],\n",
    "               [5,7,5,7,5,7,5,7,5,7],\n",
    "               [6,8,6,8,6,8,6,8,6,8],\n",
    "               [7,9,7,9,7,9,7,9,7,9],\n",
    "               [8,10,8,10,8,10,8,10,8,10],\n",
    "               [9,1,9,1,9,1,9,1,9,1],\n",
    "               [10,2,10,2,10,2,10,2,10,2] ]   \n",
    "for i in range(popsize):\n",
    "    population.append( Individual(chromosomes[i]) ) \n",
    "'''\n",
    "## Crea la poblacion inicial con cromosomas aleatorios\n",
    "for i in range(popsize):\n",
    "    chromosome = [j for j in range(1,num_queens+1)]\n",
    "    random.shuffle(chromosome)\n",
    "    population.append( Individual(chromosome) )"
   ]
  },
  {
   "cell_type": "markdown",
   "metadata": {},
   "source": [
    "Muestra los 3 primeros individuos"
   ]
  },
  {
   "cell_type": "code",
   "execution_count": null,
   "metadata": {},
   "outputs": [],
   "source": [
    "for i in range(3):\n",
    "    candidato=population[i].chromosome\n",
    "    board = Board(candidato, num_queens)\n",
    "    board.print()\n",
    "    print(candidato)"
   ]
  }
 ],
 "metadata": {
  "kernelspec": {
   "display_name": "Python 3",
   "language": "python",
   "name": "python3"
  },
  "language_info": {
   "codemirror_mode": {
    "name": "ipython",
    "version": 3
   },
   "file_extension": ".py",
   "mimetype": "text/x-python",
   "name": "python",
   "nbconvert_exporter": "python",
   "pygments_lexer": "ipython3",
   "version": "3.7.3"
  },
  "toc": {
   "base_numbering": 1,
   "nav_menu": {},
   "number_sections": true,
   "sideBar": true,
   "skip_h1_title": false,
   "title_cell": "Table of Contents",
   "title_sidebar": "Contents",
   "toc_cell": false,
   "toc_position": {},
   "toc_section_display": true,
   "toc_window_display": false
  }
 },
 "nbformat": 4,
 "nbformat_minor": 2
}
