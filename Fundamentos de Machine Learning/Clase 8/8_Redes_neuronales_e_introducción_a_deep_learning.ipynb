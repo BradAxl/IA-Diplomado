{
  "nbformat": 4,
  "nbformat_minor": 0,
  "metadata": {
    "kernelspec": {
      "name": "python3",
      "display_name": "Python 3"
    },
    "language_info": {
      "codemirror_mode": {
        "name": "ipython",
        "version": 3
      },
      "file_extension": ".py",
      "mimetype": "text/x-python",
      "name": "python",
      "nbconvert_exporter": "python",
      "pygments_lexer": "ipython3",
      "version": "3.5.5"
    },
    "colab": {
      "name": "8. Redes neuronales e introducción a deep learning",
      "provenance": [],
      "collapsed_sections": [],
      "toc_visible": true
    },
    "accelerator": "GPU"
  },
  "cells": [
    {
      "cell_type": "markdown",
      "metadata": {
        "id": "vwK0hayrXEsU",
        "colab_type": "text"
      },
      "source": [
        "# Clase 8: Redes neuronales e Introducción a Deep Learning "
      ]
    },
    {
      "cell_type": "markdown",
      "metadata": {
        "id": "elWK4To5XUB4",
        "colab_type": "text"
      },
      "source": [
        "El **MNIST** es un conjunto de datos **desarrollado por Yann LeCun, Corinna Cortes y Christopher Burges** para la evaluación de modelos de aprendizaje de máquinas sobre el problema de la clasificación de los dígitos escritos a mano. La base de datos se construyó a partir de varios conjuntos de datos de documentos escaneados disponibles en la carpeta Instituto Nacional de Estándares y Tecnología (NIST).\n",
        "\n",
        "Las imágenes de los dígitos fueron tomadas de una variedad de documentos escaneados, normalizados en tamaño y centrado. Esto lo convierte en un excelente conjunto de datos para evaluar modelos, permitiendo al desarrollador centrar el aprendizaje de la máquina con muy poca limpieza de datos. **Cada imagen tiene 28 x 28 píxeles cuadrados (784 píxeles en total)**. Se utiliza una división estándar del conjunto de datos para evaluar y comparar modelos, en la que **se utilizan 60.000 imágenes para formar un modelo y un conjunto separado de 10.000 imágenes para probarlo**.\n",
        "\n",
        "Es una tarea de reconocimiento de dígitos. Como tal, **hay 10 dígitos (0 a 9) o 10 clases para predecir**. Los resultados se informan utilizando el error de predicción. Excelentes resultados consiguen un error de predicción inferior al 1%. Una predicción de aproximadamente 0.2% se puede lograr con Redes Neuronales Convolucionales grandes."
      ]
    },
    {
      "cell_type": "code",
      "metadata": {
        "id": "EALDqrLhrpUi",
        "colab_type": "code",
        "colab": {}
      },
      "source": [
        "import warnings\n",
        "warnings.filterwarnings(\"ignore\")"
      ],
      "execution_count": 0,
      "outputs": []
    },
    {
      "cell_type": "markdown",
      "metadata": {
        "id": "D7RwRoDnayUL",
        "colab_type": "text"
      },
      "source": [
        "## ANN - Backpropagation"
      ]
    },
    {
      "cell_type": "code",
      "metadata": {
        "id": "uYjYBEEqa3q8",
        "colab_type": "code",
        "colab": {
          "base_uri": "https://localhost:8080/",
          "height": 35
        },
        "outputId": "3196c5b7-ae3b-427b-8b1b-fe5c524fd2fb"
      },
      "source": [
        "import numpy as np\n",
        "import pandas as pd\n",
        "import matplotlib.pyplot as plt\n",
        "from scipy.io import loadmat\n",
        "from keras.datasets import mnist\n",
        "import seaborn as sns\n",
        "\n",
        "%matplotlib inline\n"
      ],
      "execution_count": 2,
      "outputs": [
        {
          "output_type": "stream",
          "text": [
            "Using TensorFlow backend.\n"
          ],
          "name": "stderr"
        }
      ]
    },
    {
      "cell_type": "code",
      "metadata": {
        "id": "_aJHPdoG6Z4-",
        "colab_type": "code",
        "colab": {}
      },
      "source": [
        "(train_images, train_labels), (test_images, test_labels) = mnist.load_data()"
      ],
      "execution_count": 0,
      "outputs": []
    },
    {
      "cell_type": "code",
      "metadata": {
        "id": "VOb5SatuIBGp",
        "colab_type": "code",
        "outputId": "00049593-ab3a-44b7-cbcc-2134538798d9",
        "colab": {
          "base_uri": "https://localhost:8080/",
          "height": 35
        }
      },
      "source": [
        "test_labels"
      ],
      "execution_count": 4,
      "outputs": [
        {
          "output_type": "execute_result",
          "data": {
            "text/plain": [
              "array([7, 2, 1, ..., 4, 5, 6], dtype=uint8)"
            ]
          },
          "metadata": {
            "tags": []
          },
          "execution_count": 4
        }
      ]
    },
    {
      "cell_type": "code",
      "metadata": {
        "id": "VhgFuUOda3zO",
        "colab_type": "code",
        "outputId": "8729dd68-8654-4d71-b475-bf763d5f08e1",
        "colab": {
          "base_uri": "https://localhost:8080/",
          "height": 35
        }
      },
      "source": [
        "X = train_images.reshape(-1,784)\n",
        "y = train_labels.reshape(train_labels.shape[0],1)\n",
        "X_test  = test_images.reshape(-1,784)\n",
        "y_test = test_labels.reshape(test_labels.shape[0],1)\n",
        "\n",
        "X.shape, y.shape"
      ],
      "execution_count": 5,
      "outputs": [
        {
          "output_type": "execute_result",
          "data": {
            "text/plain": [
              "((60000, 784), (60000, 1))"
            ]
          },
          "metadata": {
            "tags": []
          },
          "execution_count": 5
        }
      ]
    },
    {
      "cell_type": "markdown",
      "metadata": {
        "id": "3N5oKT5t2hXx",
        "colab_type": "text"
      },
      "source": [
        "### Visualización de datos"
      ]
    },
    {
      "cell_type": "code",
      "metadata": {
        "id": "8PpZmujnsVoe",
        "colab_type": "code",
        "outputId": "0ef79956-c4c4-4893-dcf5-18fc2c3adbe9",
        "colab": {
          "base_uri": "https://localhost:8080/",
          "height": 242
        }
      },
      "source": [
        "sample = np.random.choice(X.shape[0], 8)\n",
        "\n",
        "# plot sample images as gray scale\n",
        "for (i,s) in enumerate(sample):\n",
        "  plt.subplot(241+i)\n",
        "  plt.axis('off')\n",
        "  plt.imshow(train_images[s], cmap=plt.get_cmap('gray'))\n",
        "\n",
        "# show the plot\n",
        "\n",
        "plt.show()"
      ],
      "execution_count": 6,
      "outputs": [
        {
          "output_type": "display_data",
          "data": {
            "image/png": "[encoded data removed]",
            "text/plain": [
              "<Figure size 432x288 with 8 Axes>"
            ]
          },
          "metadata": {
            "tags": []
          }
        }
      ]
    },
    {
      "cell_type": "code",
      "metadata": {
        "id": "saTS5ekC76fz",
        "colab_type": "code",
        "colab": {
          "base_uri": "https://localhost:8080/",
          "height": 287
        },
        "outputId": "51e6af71-c05c-4877-8799-b1915ac99321"
      },
      "source": [
        "sns.countplot(train_labels)"
      ],
      "execution_count": 7,
      "outputs": [
        {
          "output_type": "execute_result",
          "data": {
            "text/plain": [
              "<matplotlib.axes._subplots.AxesSubplot at 0x7f0903f4e978>"
            ]
          },
          "metadata": {
            "tags": []
          },
          "execution_count": 7
        },
        {
          "output_type": "display_data",
          "data": {
            "image/png": "[encoded data removed]",
            "text/plain": [
              "<Figure size 432x288 with 1 Axes>"
            ]
          },
          "metadata": {
            "tags": []
          }
        }
      ]
    },
    {
      "cell_type": "markdown",
      "metadata": {
        "id": "KWB95_gk2OLh",
        "colab_type": "text"
      },
      "source": [
        "### Data normalization"
      ]
    },
    {
      "cell_type": "markdown",
      "metadata": {
        "id": "sk88mwzp2W6r",
        "colab_type": "text"
      },
      "source": [
        "Normalizamos nuestros datos en el dominio de [0.01, 0.99], de manera que nos facilita las operaciones logarítimicas."
      ]
    },
    {
      "cell_type": "code",
      "metadata": {
        "id": "iAh6TOcR2YRh",
        "colab_type": "code",
        "colab": {}
      },
      "source": [
        "X = np.asfarray(X) / 255.0\n",
        "X_test = np.asfarray(X_test) / 255.0"
      ],
      "execution_count": 0,
      "outputs": []
    },
    {
      "cell_type": "markdown",
      "metadata": {
        "id": "ADQkfG7S2p7r",
        "colab_type": "text"
      },
      "source": [
        "### Representación One-Hot"
      ]
    },
    {
      "cell_type": "markdown",
      "metadata": {
        "id": "RJRs1wxN2t6y",
        "colab_type": "text"
      },
      "source": [
        "Podemos verificar que las salidas actuales de las etiquetas son de un solo dígito, sin embargo el número de nodos de salida de la red es de 10, por ello que las etiquetas deben ser transformadas en vectores de salida. Para ello aplicamos la transformación One-Hot-Encoder."
      ]
    },
    {
      "cell_type": "code",
      "metadata": {
        "id": "19Z2eLXda36i",
        "colab_type": "code",
        "outputId": "91bc0e26-28cd-48c1-c140-940dceb7d968",
        "colab": {
          "base_uri": "https://localhost:8080/",
          "height": 300
        }
      },
      "source": [
        "#Transformamos nuestros labels en vectores usando el método de one hot encoding\n",
        "\n",
        "from sklearn.preprocessing import OneHotEncoder\n",
        "encoder = OneHotEncoder(sparse=False)\n",
        "y_onehot = encoder.fit_transform(y)\n",
        "\n",
        "print(y_onehot.shape)\n",
        "print(y_onehot[0]) #one hot encoding del número 5\n",
        "\n",
        "plt.axis('off')\n",
        "plt.imshow(train_images[0], cmap=plt.get_cmap('gray'))\n",
        "plt.show()"
      ],
      "execution_count": 9,
      "outputs": [
        {
          "output_type": "stream",
          "text": [
            "(60000, 10)\n",
            "[0. 0. 0. 0. 0. 1. 0. 0. 0. 0.]\n"
          ],
          "name": "stdout"
        },
        {
          "output_type": "display_data",
          "data": {
            "image/png": "[encoded data removed]",
            "text/plain": [
              "<Figure size 432x288 with 1 Axes>"
            ]
          },
          "metadata": {
            "tags": []
          }
        }
      ]
    },
    {
      "cell_type": "markdown",
      "metadata": {
        "id": "M9ZVydLcwOE7",
        "colab_type": "text"
      },
      "source": [
        "### Función sigmoide como función de activación\n",
        "\n",
        "![Función Sigmoide](https://miro.medium.com/max/606/1*Xu7B5y9gp0iL5ooBj7LtWw.png)\n"
      ]
    },
    {
      "cell_type": "code",
      "metadata": {
        "id": "J0U1xnG7a3xg",
        "colab_type": "code",
        "colab": {}
      },
      "source": [
        "def sigmoid(z):\n",
        "    return 1 / (1 + np.exp(-z))"
      ],
      "execution_count": 0,
      "outputs": []
    },
    {
      "cell_type": "markdown",
      "metadata": {
        "id": "el_APea421L7",
        "colab_type": "text"
      },
      "source": [
        "### Forward propagation"
      ]
    },
    {
      "cell_type": "code",
      "metadata": {
        "id": "xW8vmtVma3vs",
        "colab_type": "code",
        "colab": {}
      },
      "source": [
        "#Definimos la función de forward propagation de la ANN\n",
        "\n",
        "def forward_propagate(X, theta1, theta2):\n",
        "    m = X.shape[0]\n",
        "    \n",
        "    #input layer\n",
        "    a1 = np.insert(X, 0, values=np.ones(m), axis=1) #insertamos el bias\n",
        "    \n",
        "    #un hidden layer\n",
        "    z2 = a1 * theta1.T\n",
        "    a2 = np.insert(sigmoid(z2), 0, values=np.ones(m), axis=1)\n",
        "    \n",
        "    #output layer\n",
        "    z3 = a2 * theta2.T\n",
        "    h = sigmoid(z3)\n",
        "    \n",
        "    return a1, z2, a2, z3, h"
      ],
      "execution_count": 0,
      "outputs": []
    },
    {
      "cell_type": "markdown",
      "metadata": {
        "id": "vb1i0tSg3GyA",
        "colab_type": "text"
      },
      "source": [
        "### Función de costo"
      ]
    },
    {
      "cell_type": "code",
      "metadata": {
        "id": "aW0Ax0fTx3R3",
        "colab_type": "code",
        "colab": {}
      },
      "source": [
        "def cost(params, input_size, hidden_size, num_labels, X, y, learning_rate):\n",
        "    m = X.shape[0]\n",
        "    X = np.matrix(X)\n",
        "    y = np.matrix(y)\n",
        "    \n",
        "    # reshape the parameter array into parameter matrices for each layer\n",
        "    theta1 = np.matrix(np.reshape(params[:hidden_size * (input_size + 1)], (hidden_size, (input_size + 1))))\n",
        "    theta2 = np.matrix(np.reshape(params[hidden_size * (input_size + 1):], (num_labels, (hidden_size + 1))))\n",
        "    \n",
        "    # run the feed-forward pass\n",
        "    a1, z2, a2, z3, h = forward_propagate(X, theta1, theta2)\n",
        "    \n",
        "    # compute the cost\n",
        "    J = 0\n",
        "    for i in range(m):\n",
        "        first_term = np.multiply(-y[i,:], np.log(h[i,:]))\n",
        "        second_term = np.multiply((1 - y[i,:]), np.log(1 - h[i,:]))\n",
        "        J += np.sum(first_term - second_term)\n",
        "    \n",
        "    J = J / m\n",
        "    \n",
        "    return J"
      ],
      "execution_count": 0,
      "outputs": []
    },
    {
      "cell_type": "markdown",
      "metadata": {
        "id": "wkF5YNfS3Mcf",
        "colab_type": "text"
      },
      "source": [
        "### Inicialización de parámetros"
      ]
    },
    {
      "cell_type": "code",
      "metadata": {
        "id": "WBpkIudPyQCk",
        "colab_type": "code",
        "colab": {
          "base_uri": "https://localhost:8080/",
          "height": 35
        },
        "outputId": "487b4b12-5a8d-4dad-f9d5-820eb0872a97"
      },
      "source": [
        "# initial setup\n",
        "input_size = 784\n",
        "hidden_size = 25\n",
        "num_labels = 10\n",
        "learning_rate = 0.1\n",
        "\n",
        "# randomly initialize a parameter array of the size of the full network's parameters\n",
        "params = (np.random.random(size=hidden_size * (input_size + 1) + num_labels * (hidden_size + 1)) - 0.5) * 0.25\n",
        "\n",
        "m = X.shape[0]\n",
        "X = np.matrix(X)\n",
        "y = np.matrix(y)\n",
        "\n",
        "# unravel the parameter array into parameter matrices for each layer\n",
        "theta1 = np.matrix(np.reshape(params[:hidden_size * (input_size + 1)], (hidden_size, (input_size + 1))))\n",
        "theta2 = np.matrix(np.reshape(params[hidden_size * (input_size + 1):], (num_labels, (hidden_size + 1))))\n",
        "\n",
        "theta1.shape, theta2.shape"
      ],
      "execution_count": 13,
      "outputs": [
        {
          "output_type": "execute_result",
          "data": {
            "text/plain": [
              "((25, 785), (10, 26))"
            ]
          },
          "metadata": {
            "tags": []
          },
          "execution_count": 13
        }
      ]
    },
    {
      "cell_type": "code",
      "metadata": {
        "id": "ATgT-ReQ3U5g",
        "colab_type": "code",
        "colab": {
          "base_uri": "https://localhost:8080/",
          "height": 35
        },
        "outputId": "1e1705c0-9330-41ec-f3b1-87463f1314ec"
      },
      "source": [
        "a1, z2, a2, z3, h = forward_propagate(X, theta1, theta2)\n",
        "a1.shape, z2.shape, a2.shape, z3.shape, h.shape"
      ],
      "execution_count": 14,
      "outputs": [
        {
          "output_type": "execute_result",
          "data": {
            "text/plain": [
              "((60000, 785), (60000, 25), (60000, 26), (60000, 10), (60000, 10))"
            ]
          },
          "metadata": {
            "tags": []
          },
          "execution_count": 14
        }
      ]
    },
    {
      "cell_type": "code",
      "metadata": {
        "id": "57_xYVTrx3iT",
        "colab_type": "code",
        "colab": {
          "base_uri": "https://localhost:8080/",
          "height": 35
        },
        "outputId": "74fa36e5-f7ba-4b07-e706-bc18a3fadf67"
      },
      "source": [
        "cost(params, input_size, hidden_size, num_labels, X, y_onehot, learning_rate)"
      ],
      "execution_count": 15,
      "outputs": [
        {
          "output_type": "execute_result",
          "data": {
            "text/plain": [
              "7.494712153053436"
            ]
          },
          "metadata": {
            "tags": []
          },
          "execution_count": 15
        }
      ]
    },
    {
      "cell_type": "markdown",
      "metadata": {
        "id": "eqoWBpCu3dVB",
        "colab_type": "text"
      },
      "source": [
        "### Backpropagation"
      ]
    },
    {
      "cell_type": "markdown",
      "metadata": {
        "id": "HTBIlJxk3hlz",
        "colab_type": "text"
      },
      "source": [
        "El proceso de backpropagation tiene como objeto el cálculo de las gradientes en cada nodo de la red, esta matriz de gradiente posteriormente será usada para optimizar la función de costo y así encontrar los mejores parámetros de la red. Comenzamos encontrando la gradiente de la función de activación y luego el proceso mismo de backpropagation"
      ]
    },
    {
      "cell_type": "code",
      "metadata": {
        "id": "IfnHJiugx3gf",
        "colab_type": "code",
        "colab": {}
      },
      "source": [
        "def sigmoid_gradient(z):\n",
        "    return np.multiply(sigmoid(z), (1 - sigmoid(z)))"
      ],
      "execution_count": 0,
      "outputs": []
    },
    {
      "cell_type": "code",
      "metadata": {
        "id": "gIAEpVnAx3ew",
        "colab_type": "code",
        "colab": {}
      },
      "source": [
        "def backprop(params, input_size, hidden_size, num_labels, X, y, learning_rate):\n",
        "    m = X.shape[0]\n",
        "    X = np.matrix(X)\n",
        "    y = np.matrix(y)\n",
        "    \n",
        "    # reshape the parameter array into parameter matrices for each layer\n",
        "    theta1 = np.matrix(np.reshape(params[:hidden_size * (input_size + 1)], (hidden_size, (input_size + 1))))\n",
        "    theta2 = np.matrix(np.reshape(params[hidden_size * (input_size + 1):], (num_labels, (hidden_size + 1))))\n",
        "    \n",
        "    # run the feed-forward pass\n",
        "    a1, z2, a2, z3, h = forward_propagate(X, theta1, theta2)\n",
        "    \n",
        "    # initializations\n",
        "    J = 0\n",
        "    delta1 = np.zeros(theta1.shape)  # (25, 401)\n",
        "    delta2 = np.zeros(theta2.shape)  # (10, 26)\n",
        "    \n",
        "    # compute the cost\n",
        "    for i in range(m):\n",
        "        first_term = np.multiply(-y[i,:], np.log(h[i,:]))\n",
        "        second_term = np.multiply((1 - y[i,:]), np.log(1 - h[i,:]))\n",
        "        J += np.sum(first_term - second_term)\n",
        "    \n",
        "    J = J / m\n",
        "    \n",
        "    # add the cost regularization term\n",
        "    J += (float(learning_rate) / (2 * m)) * (np.sum(np.power(theta1[:,1:], 2)) + np.sum(np.power(theta2[:,1:], 2)))\n",
        "    \n",
        "    # perform backpropagation\n",
        "    for t in range(m):\n",
        "        a1t = a1[t,:]  # (1, 401)\n",
        "        z2t = z2[t,:]  # (1, 25)\n",
        "        a2t = a2[t,:]  # (1, 26)\n",
        "        ht = h[t,:]  # (1, 10)\n",
        "        yt = y[t,:]  # (1, 10)\n",
        "        \n",
        "        d3t = ht - yt  # (1, 10)\n",
        "        \n",
        "        z2t = np.insert(z2t, 0, values=np.ones(1))  # (1, 26)\n",
        "        d2t = np.multiply((theta2.T * d3t.T).T, sigmoid_gradient(z2t))  # (1, 26)\n",
        "        \n",
        "        delta1 = delta1 + (d2t[:,1:]).T * a1t\n",
        "        delta2 = delta2 + d3t.T * a2t\n",
        "        \n",
        "    delta1 = delta1 / m\n",
        "    delta2 = delta2 / m\n",
        "    \n",
        "    # add the gradient regularization term\n",
        "    delta1[:,1:] = delta1[:,1:] + (theta1[:,1:] * learning_rate) / m\n",
        "    delta2[:,1:] = delta2[:,1:] + (theta2[:,1:] * learning_rate) / m\n",
        "    \n",
        "    # unravel the gradient matrices into a single array\n",
        "    grad = np.concatenate((np.ravel(delta1), np.ravel(delta2)))\n",
        "    \n",
        "    return J, grad"
      ],
      "execution_count": 0,
      "outputs": []
    },
    {
      "cell_type": "code",
      "metadata": {
        "id": "A5MdpFLIx3co",
        "colab_type": "code",
        "colab": {
          "base_uri": "https://localhost:8080/",
          "height": 35
        },
        "outputId": "df858235-4306-4150-b476-6847dce344c6"
      },
      "source": [
        "# Probamos el modelo\n",
        "J, grad = backprop(params, input_size, hidden_size, num_labels, X, y_onehot, learning_rate)\n",
        "J, grad.shape"
      ],
      "execution_count": 18,
      "outputs": [
        {
          "output_type": "execute_result",
          "data": {
            "text/plain": [
              "(7.494797978901636, (19885,))"
            ]
          },
          "metadata": {
            "tags": []
          },
          "execution_count": 18
        }
      ]
    },
    {
      "cell_type": "markdown",
      "metadata": {
        "id": "PN96EVVU3s0s",
        "colab_type": "text"
      },
      "source": [
        "### Minimización de la función de costo basado en el cálculo de gradientes"
      ]
    },
    {
      "cell_type": "markdown",
      "metadata": {
        "id": "z3d8Btxp3yum",
        "colab_type": "text"
      },
      "source": [
        "Con las gradientes halladas podemos utilizar una función de optimización, en clase aprendimos gradiente descendente, pero existen otras técnicas mucho más rápidas como el método de Newton, que es el que usamos en la función de minimización.\n",
        "\n",
        "NOTA: Antes de ejecutar la instrucción, verifica que no estes realizando otras tareas en tu computador, este proceso demandará algunos minutos, dependiendo de las capacidades de máquina, en promedio 10 minutos."
      ]
    },
    {
      "cell_type": "code",
      "metadata": {
        "id": "Nc2j7D5Qx3a-",
        "colab_type": "code",
        "outputId": "af43a8e2-2669-4cf9-fab4-f918796fdb49",
        "colab": {
          "base_uri": "https://localhost:8080/",
          "height": 195
        }
      },
      "source": [
        "from scipy.optimize import minimize\n",
        "\n",
        "# minimize the objective function\n",
        "fmin = minimize(fun=backprop, x0=params, args=(input_size, hidden_size, num_labels, X, y_onehot, learning_rate), \n",
        "                method='TNC', jac=True, options={'maxiter': 100})\n",
        "fmin"
      ],
      "execution_count": 19,
      "outputs": [
        {
          "output_type": "execute_result",
          "data": {
            "text/plain": [
              "     fun: 0.907103632358216\n",
              "     jac: array([-5.69509464e-04, -1.42002263e-07,  9.63455402e-08, ...,\n",
              "        1.14414953e-02,  1.75226719e-04,  6.29372886e-03])\n",
              " message: 'Max. number of function evaluations reached'\n",
              "    nfev: 100\n",
              "     nit: 10\n",
              "  status: 3\n",
              " success: False\n",
              "       x: array([ 0.16784545, -0.08520136,  0.05780732, ..., -0.68569967,\n",
              "       -0.41873154, -0.83548194])"
            ]
          },
          "metadata": {
            "tags": []
          },
          "execution_count": 19
        }
      ]
    },
    {
      "cell_type": "markdown",
      "metadata": {
        "id": "zkJhUAYI34PW",
        "colab_type": "text"
      },
      "source": [
        "### Prueba del modelo"
      ]
    },
    {
      "cell_type": "markdown",
      "metadata": {
        "id": "ue1m1xaF36ZU",
        "colab_type": "text"
      },
      "source": [
        "Con los pesos de los parámetros calculados, podemos realizar nuestra predicciones con el conjunto de prueba y verificar la tasa de acierto del modelo entrenado."
      ]
    },
    {
      "cell_type": "code",
      "metadata": {
        "id": "0OzMTthfx3Yn",
        "colab_type": "code",
        "outputId": "4e18a369-0e2b-4898-ac87-0bc0efbd05d5",
        "colab": {
          "base_uri": "https://localhost:8080/",
          "height": 141
        }
      },
      "source": [
        "X_test = np.matrix(X_test)\n",
        "theta1 = np.matrix(np.reshape(fmin.x[:hidden_size * (input_size + 1)], (hidden_size, (input_size + 1))))\n",
        "theta2 = np.matrix(np.reshape(fmin.x[hidden_size * (input_size + 1):], (num_labels, (hidden_size + 1))))\n",
        "\n",
        "a1, z2, a2, z3, h = forward_propagate(X_test, theta1, theta2)\n",
        "y_pred = np.array(np.argmax(h, axis=1))\n",
        "y_pred"
      ],
      "execution_count": 20,
      "outputs": [
        {
          "output_type": "execute_result",
          "data": {
            "text/plain": [
              "array([[7],\n",
              "       [2],\n",
              "       [1],\n",
              "       ...,\n",
              "       [4],\n",
              "       [8],\n",
              "       [6]])"
            ]
          },
          "metadata": {
            "tags": []
          },
          "execution_count": 20
        }
      ]
    },
    {
      "cell_type": "code",
      "metadata": {
        "id": "2rPFFJrax3Wm",
        "colab_type": "code",
        "outputId": "ac57c7d2-5b54-41a4-c03e-c362bf6936ad",
        "colab": {
          "base_uri": "https://localhost:8080/",
          "height": 35
        }
      },
      "source": [
        "correct = [1 if a == b else 0 for (a, b) in zip(y_pred, y_test)]\n",
        "accuracy = (sum(map(int, correct)) / float(len(correct)))\n",
        "print ('accuracy = {0}%'.format(accuracy * 100))"
      ],
      "execution_count": 21,
      "outputs": [
        {
          "output_type": "stream",
          "text": [
            "accuracy = 86.42%\n"
          ],
          "name": "stdout"
        }
      ]
    },
    {
      "cell_type": "markdown",
      "metadata": {
        "id": "PHLc0g5kberz",
        "colab_type": "text"
      },
      "source": [
        "## ANN - Keras implementation"
      ]
    },
    {
      "cell_type": "markdown",
      "metadata": {
        "id": "CItSBY2Has4U",
        "colab_type": "text"
      },
      "source": [
        "**Keras** es una biblioteca de Redes Neuronales de Código Abierto escrita en Python. Es capaz de ejecutarse sobre TensorFlow entre otros frameworks. \n",
        "\n",
        "Está especialmente diseñada para posibilitar la experimentación en más o menos poco tiempo con redes de **Aprendizaje Profundo**. Sus fuertes se centran en ser **amigable para el usuario, modular y extensible**."
      ]
    },
    {
      "cell_type": "code",
      "metadata": {
        "id": "Hv8Cu--Ybkb1",
        "colab_type": "code",
        "colab": {}
      },
      "source": [
        "import numpy as np\n",
        "import keras\n",
        "from keras.datasets import mnist\n",
        "from keras.models import Sequential\n",
        "from keras.layers import Dense\n",
        "from keras.utils import to_categorical\n",
        "import seaborn as sns\n",
        "from sklearn.metrics import confusion_matrix\n",
        "from sklearn.model_selection import train_test_split\n",
        "import matplotlib.pyplot as plt \n",
        "import itertools\n",
        "\n",
        "(train_images, train_labels), (test_images, test_labels) = mnist.load_data()\n",
        "\n",
        "# Normalize the images.\n",
        "train_images = (train_images / 255.0) \n",
        "test_images = (test_images / 255.0) \n",
        "\n",
        "# Flatten the images.\n",
        "train_images = train_images.reshape((-1, 784))\n",
        "test_images = test_images.reshape((-1, 784))\n",
        "\n",
        "# Build the model.\n",
        "model = Sequential([\n",
        "  Dense(64, activation='relu', input_shape=(784,)),\n",
        "  Dense(64, activation='relu'),\n",
        "  Dense(10, activation='softmax'),\n",
        "])\n",
        "\n",
        "# Compile the model.\n",
        "model.compile(\n",
        "  optimizer='adam',\n",
        "  loss='categorical_crossentropy',\n",
        "  metrics=['accuracy'],\n",
        ")\n"
      ],
      "execution_count": 0,
      "outputs": []
    },
    {
      "cell_type": "code",
      "metadata": {
        "id": "d1JU7BPLTJnD",
        "colab_type": "code",
        "colab": {
          "base_uri": "https://localhost:8080/",
          "height": 212
        },
        "outputId": "789adfe6-70a1-4ee0-f40e-30d8c46325a3"
      },
      "source": [
        "num_classes = 10\n",
        "train_labels = keras.utils.to_categorical(train_labels, num_classes)\n",
        "Train_images, Val_images, Train_labels, Val_labels = train_test_split(train_images, train_labels, test_size = 0.1, random_state=42)\n",
        "\n",
        "# Train the model.\n",
        "h = model.fit(\n",
        "  Train_images,\n",
        "  Train_labels,\n",
        "  validation_data=(Val_images, Val_labels),\n",
        "  epochs=5,\n",
        "  batch_size=32,\n",
        ")"
      ],
      "execution_count": 31,
      "outputs": [
        {
          "output_type": "stream",
          "text": [
            "Train on 54000 samples, validate on 6000 samples\n",
            "Epoch 1/5\n",
            "54000/54000 [==============================] - 7s 121us/step - loss: 0.2906 - acc: 0.9145 - val_loss: 0.1521 - val_acc: 0.9547\n",
            "Epoch 2/5\n",
            "54000/54000 [==============================] - 6s 115us/step - loss: 0.1288 - acc: 0.9613 - val_loss: 0.1093 - val_acc: 0.9665\n",
            "Epoch 3/5\n",
            "54000/54000 [==============================] - 6s 113us/step - loss: 0.0935 - acc: 0.9725 - val_loss: 0.1131 - val_acc: 0.9672\n",
            "Epoch 4/5\n",
            "54000/54000 [==============================] - 6s 117us/step - loss: 0.0760 - acc: 0.9765 - val_loss: 0.0945 - val_acc: 0.9693\n",
            "Epoch 5/5\n",
            "54000/54000 [==============================] - 6s 115us/step - loss: 0.0587 - acc: 0.9814 - val_loss: 0.0905 - val_acc: 0.9735\n"
          ],
          "name": "stdout"
        }
      ]
    },
    {
      "cell_type": "markdown",
      "metadata": {
        "id": "F-t4jaNvR8nS",
        "colab_type": "text"
      },
      "source": [
        "### Evaluación del modelo"
      ]
    },
    {
      "cell_type": "code",
      "metadata": {
        "id": "QiwRatPuR7hU",
        "colab_type": "code",
        "colab": {
          "base_uri": "https://localhost:8080/",
          "height": 311
        },
        "outputId": "e4531544-50be-4a90-ffd6-bea032ece362"
      },
      "source": [
        "# Look at confusion matrix \n",
        "#Note, this code is taken straight from the SKLEARN website, an nice way of viewing confusion matrix.\n",
        "def plot_confusion_matrix(cm, classes,\n",
        "                          normalize=False,\n",
        "                          title='Confusion matrix',\n",
        "                          cmap=plt.cm.Blues):\n",
        "    \"\"\"\n",
        "    This function prints and plots the confusion matrix.\n",
        "    Normalization can be applied by setting `normalize=True`.\n",
        "    \"\"\"\n",
        "    plt.imshow(cm, interpolation='nearest', cmap=cmap)\n",
        "    plt.title(title)\n",
        "    plt.colorbar()\n",
        "    tick_marks = np.arange(len(classes))\n",
        "    plt.xticks(tick_marks, classes, rotation=45)\n",
        "    plt.yticks(tick_marks, classes)\n",
        "\n",
        "    if normalize:\n",
        "        cm = cm.astype('float') / cm.sum(axis=1)[:, np.newaxis]\n",
        "\n",
        "    thresh = cm.max() / 2.\n",
        "    for i, j in itertools.product(range(cm.shape[0]), range(cm.shape[1])):\n",
        "        plt.text(j, i, cm[i, j],\n",
        "                 horizontalalignment=\"center\",\n",
        "                 color=\"white\" if cm[i, j] > thresh else \"black\")\n",
        "\n",
        "    plt.tight_layout()\n",
        "    plt.ylabel('True label')\n",
        "    plt.xlabel('Predicted label')\n",
        "\n",
        "# Predict the values from the validation dataset\n",
        "Y_pred = model.predict(Val_images)\n",
        "# Convert predictions classes to one hot vectors \n",
        "Y_pred_classes = np.argmax(Y_pred, axis = 1) \n",
        "# Convert validation observations to one hot vectors\n",
        "Y_true = np.argmax(Val_labels, axis = 1) \n",
        "# compute the confusion matrix\n",
        "confusion_mtx = confusion_matrix(Y_true, Y_pred_classes) \n",
        "# plot the confusion matrix\n",
        "plot_confusion_matrix(confusion_mtx, classes = range(10))"
      ],
      "execution_count": 32,
      "outputs": [
        {
          "output_type": "display_data",
          "data": {
            "image/png": "[encoded data removed]",
            "text/plain": [
              "<Figure size 432x288 with 2 Axes>"
            ]
          },
          "metadata": {
            "tags": []
          }
        }
      ]
    },
    {
      "cell_type": "code",
      "metadata": {
        "id": "OrqttgdpUfKz",
        "colab_type": "code",
        "colab": {
          "base_uri": "https://localhost:8080/",
          "height": 563
        },
        "outputId": "3b6765ec-8e4c-4582-e00d-577ceaf999a6"
      },
      "source": [
        "print(h.history.keys())\n",
        "accuracy = h.history['acc']\n",
        "val_accuracy = h.history['val_acc']\n",
        "loss = h.history['loss']\n",
        "val_loss = h.history['val_loss']\n",
        "epochs = range(len(accuracy))\n",
        "plt.plot(epochs, accuracy, 'bo', label='Training accuracy')\n",
        "plt.plot(epochs, val_accuracy, 'b', label='Validation accuracy')\n",
        "plt.title('Training and validation accuracy')\n",
        "plt.legend()\n",
        "plt.show()\n",
        "plt.figure()\n",
        "plt.plot(epochs, loss, 'bo', label='Training loss')\n",
        "plt.plot(epochs, val_loss, 'b', label='Validation loss')\n",
        "plt.title('Training and validation loss')\n",
        "plt.legend()\n",
        "plt.show()\n"
      ],
      "execution_count": 33,
      "outputs": [
        {
          "output_type": "stream",
          "text": [
            "dict_keys(['val_loss', 'val_acc', 'loss', 'acc'])\n"
          ],
          "name": "stdout"
        },
        {
          "output_type": "display_data",
          "data": {
            "image/png": "[encoded data removed]",
            "text/plain": [
              "<Figure size 432x288 with 1 Axes>"
            ]
          },
          "metadata": {
            "tags": []
          }
        },
        {
          "output_type": "display_data",
          "data": {
            "image/png": "[encoded data removed]",
            "text/plain": [
              "<Figure size 432x288 with 1 Axes>"
            ]
          },
          "metadata": {
            "tags": []
          }
        }
      ]
    },
    {
      "cell_type": "markdown",
      "metadata": {
        "id": "KqY4Uvj9YjFh",
        "colab_type": "text"
      },
      "source": [
        "### Ejemplos de predicción"
      ]
    },
    {
      "cell_type": "code",
      "metadata": {
        "id": "HJLldkzcYigt",
        "colab_type": "code",
        "colab": {
          "base_uri": "https://localhost:8080/",
          "height": 52
        },
        "outputId": "1ebfa35e-d371-477d-b98e-a5b707fd667f"
      },
      "source": [
        "# Predict on the first 5 test images.\n",
        "predictions = model.predict(test_images[:5])\n",
        "\n",
        "# Print our model's predictions.\n",
        "print(np.argmax(predictions, axis=1)) # [7, 2, 1, 0, 4]\n",
        "\n",
        "# Check our predictions against the ground truths.\n",
        "print(test_labels[:5]) # [7, 2, 1, 0, 4]\n"
      ],
      "execution_count": 34,
      "outputs": [
        {
          "output_type": "stream",
          "text": [
            "[7 2 1 0 4]\n",
            "[7 2 1 0 4]\n"
          ],
          "name": "stdout"
        }
      ]
    },
    {
      "cell_type": "markdown",
      "metadata": {
        "id": "d4cEzjRQQrGy",
        "colab_type": "text"
      },
      "source": [
        "### Reporte de clasificación"
      ]
    },
    {
      "cell_type": "code",
      "metadata": {
        "id": "EuYjwPTJQtbs",
        "colab_type": "code",
        "colab": {}
      },
      "source": [
        "#get the predictions for the test data\n",
        "predicted_classes = model.predict_classes(test_images)\n",
        "\n",
        "#get the indices to be plotted\n",
        "y_true = test_labels\n",
        "correct = np.nonzero(predicted_classes==y_true)[0]\n",
        "incorrect = np.nonzero(predicted_classes!=y_true)[0]"
      ],
      "execution_count": 0,
      "outputs": []
    },
    {
      "cell_type": "code",
      "metadata": {
        "id": "rU3sKAvTQ5j8",
        "colab_type": "code",
        "colab": {
          "base_uri": "https://localhost:8080/",
          "height": 319
        },
        "outputId": "e6fb4586-9292-47b2-cd7f-fb5d1e3785d4"
      },
      "source": [
        "from sklearn.metrics import classification_report\n",
        "target_names = [\"Class {}\".format(i) for i in range(num_classes)]\n",
        "print(classification_report(y_true, predicted_classes, target_names=target_names))"
      ],
      "execution_count": 36,
      "outputs": [
        {
          "output_type": "stream",
          "text": [
            "              precision    recall  f1-score   support\n",
            "\n",
            "     Class 0       0.98      0.99      0.99       980\n",
            "     Class 1       0.99      0.98      0.99      1135\n",
            "     Class 2       0.97      0.98      0.97      1032\n",
            "     Class 3       0.96      0.98      0.97      1010\n",
            "     Class 4       0.95      0.99      0.97       982\n",
            "     Class 5       0.98      0.97      0.97       892\n",
            "     Class 6       0.97      0.98      0.98       958\n",
            "     Class 7       0.99      0.94      0.96      1028\n",
            "     Class 8       0.97      0.97      0.97       974\n",
            "     Class 9       0.97      0.97      0.97      1009\n",
            "\n",
            "    accuracy                           0.97     10000\n",
            "   macro avg       0.97      0.97      0.97     10000\n",
            "weighted avg       0.97      0.97      0.97     10000\n",
            "\n"
          ],
          "name": "stdout"
        }
      ]
    },
    {
      "cell_type": "markdown",
      "metadata": {
        "id": "-b5TxmzQblbD",
        "colab_type": "text"
      },
      "source": [
        "## Aplicación de CNN (Convolutional Neural Network)"
      ]
    },
    {
      "cell_type": "code",
      "metadata": {
        "id": "wTdIAr9ZPeBO",
        "colab_type": "code",
        "colab": {}
      },
      "source": [
        "# Plot ad hoc mnist instances\n",
        "import numpy as np # linear algebra\n",
        "import pandas as pd # data processing, CSV file I/O (e.g. pd.read_csv)\n",
        "import matplotlib.pyplot as plt #for plotting\n",
        "from collections import Counter\n",
        "from sklearn.metrics import confusion_matrix\n",
        "import itertools\n",
        "import seaborn as sns\n",
        "from subprocess import check_output\n",
        "from keras.datasets import mnist\n",
        "\n",
        "# load (downloaded if needed) the MNIST dataset\n",
        "(X_train, y_train), (X_test, y_test) = mnist.load_data()"
      ],
      "execution_count": 0,
      "outputs": []
    },
    {
      "cell_type": "code",
      "metadata": {
        "id": "bcYZJGTJPeBS",
        "colab_type": "code",
        "outputId": "b9bab4fb-4c67-4736-a0d6-0e89079b0580",
        "colab": {
          "base_uri": "https://localhost:8080/",
          "height": 123
        }
      },
      "source": [
        "# plot 4 images as gray scale\n",
        "\n",
        "plt.subplot(241)\n",
        "plt.axis('off')\n",
        "plt.imshow(X_train[0])\n",
        "\n",
        "plt.subplot(242)\n",
        "plt.axis('off')\n",
        "plt.imshow(X_train[0], cmap=plt.get_cmap('gray'))\n",
        "\n",
        "# show the plot\n",
        "plt.show()"
      ],
      "execution_count": 38,
      "outputs": [
        {
          "output_type": "display_data",
          "data": {
            "image/png": "[encoded data removed]",
            "text/plain": [
              "<Figure size 432x288 with 2 Axes>"
            ]
          },
          "metadata": {
            "tags": []
          }
        }
      ]
    },
    {
      "cell_type": "markdown",
      "metadata": {
        "id": "HId_HfkvPeBV",
        "colab_type": "text"
      },
      "source": [
        "### Normalization"
      ]
    },
    {
      "cell_type": "code",
      "metadata": {
        "id": "P3szcwuvPeBW",
        "colab_type": "code",
        "colab": {}
      },
      "source": [
        "X_norm_train = X_train/255.0\n",
        "X_norm_test = X_test/255.0"
      ],
      "execution_count": 0,
      "outputs": []
    },
    {
      "cell_type": "markdown",
      "metadata": {
        "id": "iZ4Br5ytPeBY",
        "colab_type": "text"
      },
      "source": [
        "### Reshape"
      ]
    },
    {
      "cell_type": "code",
      "metadata": {
        "id": "s72KFfdIPeBZ",
        "colab_type": "code",
        "colab": {}
      },
      "source": [
        "X_rshp_train = X_norm_train.reshape(X_norm_train.shape[0], 28, 28,1)\n",
        "X_rshp_test = X_norm_test.reshape(X_norm_test.shape[0], 28, 28,1)\n"
      ],
      "execution_count": 0,
      "outputs": []
    },
    {
      "cell_type": "markdown",
      "metadata": {
        "id": "3Zr0DK6aPeBd",
        "colab_type": "text"
      },
      "source": [
        "### Model"
      ]
    },
    {
      "cell_type": "code",
      "metadata": {
        "id": "zuXRt4tsPeBe",
        "colab_type": "code",
        "colab": {}
      },
      "source": [
        "X_train = X_rshp_train\n",
        "X_test = X_rshp_test"
      ],
      "execution_count": 0,
      "outputs": []
    },
    {
      "cell_type": "code",
      "metadata": {
        "id": "OOApqPrXPeBg",
        "colab_type": "code",
        "colab": {}
      },
      "source": [
        "import keras\n",
        "from keras.models import Sequential\n",
        "from keras.layers import Dense, Dropout, Flatten, Conv2D, MaxPool2D\n",
        "from keras.layers.normalization import BatchNormalization\n",
        "from keras.preprocessing.image import ImageDataGenerator\n",
        "from keras.callbacks import ReduceLROnPlateau\n",
        "from sklearn.model_selection import train_test_split\n",
        "batch_size = 200\n",
        "num_classes = 10\n",
        "epochs = 5\n",
        "input_shape = (28, 28, 1)"
      ],
      "execution_count": 0,
      "outputs": []
    },
    {
      "cell_type": "code",
      "metadata": {
        "id": "LetEI3M9PeBj",
        "colab_type": "code",
        "colab": {}
      },
      "source": [
        "y_train = keras.utils.to_categorical(y_train, num_classes)\n",
        "X_train, X_val, Y_train, Y_val = train_test_split(X_train, y_train, test_size = 0.1, random_state=42)"
      ],
      "execution_count": 0,
      "outputs": []
    },
    {
      "cell_type": "code",
      "metadata": {
        "id": "VRhGceNdPeBm",
        "colab_type": "code",
        "colab": {
          "base_uri": "https://localhost:8080/",
          "height": 126
        },
        "outputId": "d268061b-afb3-4fb9-9424-e4e4ab6713a0"
      },
      "source": [
        "model = Sequential()\n",
        "model.add(Conv2D(32, kernel_size=(3, 3),activation='relu',kernel_initializer='he_normal',input_shape=input_shape))\n",
        "model.add(Conv2D(32, kernel_size=(3, 3),activation='relu',kernel_initializer='he_normal'))\n",
        "model.add(MaxPool2D((2, 2)))\n",
        "model.add(Dropout(0.20))\n",
        "model.add(Conv2D(64, (3, 3), activation='relu',padding='same',kernel_initializer='he_normal'))\n",
        "model.add(Conv2D(64, (3, 3), activation='relu',padding='same',kernel_initializer='he_normal'))\n",
        "model.add(MaxPool2D(pool_size=(2, 2)))\n",
        "model.add(Dropout(0.25))\n",
        "model.add(Conv2D(128, (3, 3), activation='relu',padding='same',kernel_initializer='he_normal'))\n",
        "model.add(Dropout(0.25))\n",
        "model.add(Flatten())\n",
        "model.add(Dense(128, activation='relu'))\n",
        "model.add(BatchNormalization())\n",
        "model.add(Dropout(0.25))\n",
        "model.add(Dense(num_classes, activation='softmax'))\n",
        "\n",
        "model.compile(loss=keras.losses.categorical_crossentropy,\n",
        "              optimizer=keras.optimizers.RMSprop(),\n",
        "              metrics=['accuracy'])\n",
        "\n",
        "learning_rate_reduction = ReduceLROnPlateau(monitor='val_acc', \n",
        "                                            patience=3, \n",
        "                                            verbose=1, \n",
        "                                            factor=0.5, \n",
        "                                            min_lr=0.0001)\n",
        "\n",
        "datagen = ImageDataGenerator(\n",
        "        featurewise_center=False,  # set input mean to 0 over the dataset\n",
        "        samplewise_center=False,  # set each sample mean to 0\n",
        "        featurewise_std_normalization=False,  # divide inputs by std of the dataset\n",
        "        samplewise_std_normalization=False,  # divide each input by its std\n",
        "        zca_whitening=False,  # apply ZCA whitening\n",
        "        rotation_range=15, # randomly rotate images in the range (degrees, 0 to 180)\n",
        "        zoom_range = 0.1, # Randomly zoom image \n",
        "        width_shift_range=0.1,  # randomly shift images horizontally (fraction of total width)\n",
        "        height_shift_range=0.1,  # randomly shift images vertically (fraction of total height)\n",
        "        horizontal_flip=False,  # randomly flip images\n",
        "        vertical_flip=False)  # randomly flip images"
      ],
      "execution_count": 44,
      "outputs": [
        {
          "output_type": "stream",
          "text": [
            "WARNING:tensorflow:From /usr/local/lib/python3.6/dist-packages/keras/backend/tensorflow_backend.py:4267: The name tf.nn.max_pool is deprecated. Please use tf.nn.max_pool2d instead.\n",
            "\n",
            "WARNING:tensorflow:From /usr/local/lib/python3.6/dist-packages/keras/backend/tensorflow_backend.py:3733: calling dropout (from tensorflow.python.ops.nn_ops) with keep_prob is deprecated and will be removed in a future version.\n",
            "Instructions for updating:\n",
            "Please use `rate` instead of `keep_prob`. Rate should be set to `rate = 1 - keep_prob`.\n"
          ],
          "name": "stdout"
        }
      ]
    },
    {
      "cell_type": "code",
      "metadata": {
        "id": "eif6VE_BPeBo",
        "colab_type": "code",
        "outputId": "667899a8-7ba0-4e23-e8fd-88e6284d4a04",
        "colab": {
          "base_uri": "https://localhost:8080/",
          "height": 195
        }
      },
      "source": [
        "datagen.fit(X_train)\n",
        "h = model.fit_generator(datagen.flow(X_train,Y_train, batch_size=batch_size),\n",
        "                              epochs = epochs, validation_data = (X_val,Y_val),\n",
        "                              verbose = 1, steps_per_epoch=X_train.shape[0] // batch_size\n",
        "                              , callbacks=[learning_rate_reduction],)"
      ],
      "execution_count": 45,
      "outputs": [
        {
          "output_type": "stream",
          "text": [
            "Epoch 1/5\n",
            "270/270 [==============================] - 14s 52ms/step - loss: 0.3577 - acc: 0.8859 - val_loss: 0.0481 - val_acc: 0.9845\n",
            "Epoch 2/5\n",
            "270/270 [==============================] - 12s 44ms/step - loss: 0.1042 - acc: 0.9685 - val_loss: 0.0498 - val_acc: 0.9857\n",
            "Epoch 3/5\n",
            "270/270 [==============================] - 12s 43ms/step - loss: 0.0764 - acc: 0.9760 - val_loss: 0.0298 - val_acc: 0.9915\n",
            "Epoch 4/5\n",
            "270/270 [==============================] - 12s 43ms/step - loss: 0.0643 - acc: 0.9801 - val_loss: 0.0319 - val_acc: 0.9903\n",
            "Epoch 5/5\n",
            "270/270 [==============================] - 12s 44ms/step - loss: 0.0548 - acc: 0.9827 - val_loss: 0.0234 - val_acc: 0.9915\n"
          ],
          "name": "stdout"
        }
      ]
    },
    {
      "cell_type": "code",
      "metadata": {
        "id": "JK6pHNkiPeBr",
        "colab_type": "code",
        "outputId": "e20db541-b69c-4203-ce76-8194b7cf0194",
        "colab": {
          "base_uri": "https://localhost:8080/",
          "height": 35
        }
      },
      "source": [
        "final_loss, final_acc = model.evaluate(X_val, Y_val, verbose=0)\n",
        "print(\"Final loss: {0:.6f}, final accuracy: {1:.6f}\".format(final_loss, final_acc))"
      ],
      "execution_count": 46,
      "outputs": [
        {
          "output_type": "stream",
          "text": [
            "Final loss: 0.023375, final accuracy: 0.991500\n"
          ],
          "name": "stdout"
        }
      ]
    },
    {
      "cell_type": "markdown",
      "metadata": {
        "id": "LtAD-uXkMpVL",
        "colab_type": "text"
      },
      "source": [
        "### Evaluación del modelo"
      ]
    },
    {
      "cell_type": "code",
      "metadata": {
        "id": "ALVBTR05PeBt",
        "colab_type": "code",
        "outputId": "77ff4237-8889-4b30-fadb-c69fa2546154",
        "colab": {
          "base_uri": "https://localhost:8080/",
          "height": 311
        }
      },
      "source": [
        "# Look at confusion matrix \n",
        "#Note, this code is taken straight from the SKLEARN website, an nice way of viewing confusion matrix.\n",
        "def plot_confusion_matrix(cm, classes,\n",
        "                          normalize=False,\n",
        "                          title='Confusion matrix',\n",
        "                          cmap=plt.cm.Blues):\n",
        "    \"\"\"\n",
        "    This function prints and plots the confusion matrix.\n",
        "    Normalization can be applied by setting `normalize=True`.\n",
        "    \"\"\"\n",
        "    plt.imshow(cm, interpolation='nearest', cmap=cmap)\n",
        "    plt.title(title)\n",
        "    plt.colorbar()\n",
        "    tick_marks = np.arange(len(classes))\n",
        "    plt.xticks(tick_marks, classes, rotation=45)\n",
        "    plt.yticks(tick_marks, classes)\n",
        "\n",
        "    if normalize:\n",
        "        cm = cm.astype('float') / cm.sum(axis=1)[:, np.newaxis]\n",
        "\n",
        "    thresh = cm.max() / 2.\n",
        "    for i, j in itertools.product(range(cm.shape[0]), range(cm.shape[1])):\n",
        "        plt.text(j, i, cm[i, j],\n",
        "                 horizontalalignment=\"center\",\n",
        "                 color=\"white\" if cm[i, j] > thresh else \"black\")\n",
        "\n",
        "    plt.tight_layout()\n",
        "    plt.ylabel('True label')\n",
        "    plt.xlabel('Predicted label')\n",
        "\n",
        "# Predict the values from the validation dataset\n",
        "Y_pred = model.predict(X_val)\n",
        "# Convert predictions classes to one hot vectors \n",
        "Y_pred_classes = np.argmax(Y_pred, axis = 1) \n",
        "# Convert validation observations to one hot vectors\n",
        "Y_true = np.argmax(Y_val, axis = 1) \n",
        "# compute the confusion matrix\n",
        "confusion_mtx = confusion_matrix(Y_true, Y_pred_classes) \n",
        "# plot the confusion matrix\n",
        "plot_confusion_matrix(confusion_mtx, classes = range(10))\n",
        "\n"
      ],
      "execution_count": 47,
      "outputs": [
        {
          "output_type": "display_data",
          "data": {
            "image/png": "[encoded data removed]",
            "text/plain": [
              "<Figure size 432x288 with 2 Axes>"
            ]
          },
          "metadata": {
            "tags": []
          }
        }
      ]
    },
    {
      "cell_type": "code",
      "metadata": {
        "id": "_0naQAA2PeBw",
        "colab_type": "code",
        "outputId": "246b87ca-2e7d-4bea-f7df-7fea42016f0d",
        "colab": {
          "base_uri": "https://localhost:8080/",
          "height": 563
        }
      },
      "source": [
        "print(h.history.keys())\n",
        "accuracy = h.history['acc']\n",
        "val_accuracy = h.history['val_acc']\n",
        "loss = h.history['loss']\n",
        "val_loss = h.history['val_loss']\n",
        "epochs = range(len(accuracy))\n",
        "plt.plot(epochs, accuracy, 'bo', label='Training accuracy')\n",
        "plt.plot(epochs, val_accuracy, 'b', label='Validation accuracy')\n",
        "plt.title('Training and validation accuracy')\n",
        "plt.legend()\n",
        "plt.show()\n",
        "plt.figure()\n",
        "plt.plot(epochs, loss, 'bo', label='Training loss')\n",
        "plt.plot(epochs, val_loss, 'b', label='Validation loss')\n",
        "plt.title('Training and validation loss')\n",
        "plt.legend()\n",
        "plt.show()\n",
        "\n"
      ],
      "execution_count": 48,
      "outputs": [
        {
          "output_type": "stream",
          "text": [
            "dict_keys(['val_loss', 'val_acc', 'loss', 'acc', 'lr'])\n"
          ],
          "name": "stdout"
        },
        {
          "output_type": "display_data",
          "data": {
            "image/png": "[encoded data removed]",
            "text/plain": [
              "<Figure size 432x288 with 1 Axes>"
            ]
          },
          "metadata": {
            "tags": []
          }
        },
        {
          "output_type": "display_data",
          "data": {
            "image/png": "[encoded data removed]",
            "text/plain": [
              "<Figure size 432x288 with 1 Axes>"
            ]
          },
          "metadata": {
            "tags": []
          }
        }
      ]
    },
    {
      "cell_type": "markdown",
      "metadata": {
        "id": "w3E9GSkcMweH",
        "colab_type": "text"
      },
      "source": [
        "### Ejemplos donde el modelo falló"
      ]
    },
    {
      "cell_type": "code",
      "metadata": {
        "id": "UqOt8PJVPeBy",
        "colab_type": "code",
        "outputId": "2ecc1ac6-2be9-4029-ec19-7960c2ef7937",
        "colab": {
          "base_uri": "https://localhost:8080/",
          "height": 296
        }
      },
      "source": [
        "# Errors are difference between predicted labels and true labels\n",
        "errors = (Y_pred_classes - Y_true != 0)\n",
        "\n",
        "Y_pred_classes_errors = Y_pred_classes[errors]\n",
        "Y_pred_errors = Y_pred[errors]\n",
        "Y_true_errors = Y_true[errors]\n",
        "X_val_errors = X_val[errors]\n",
        "\n",
        "def display_errors(errors_index,img_errors,pred_errors, obs_errors):\n",
        "    \"\"\" This function shows 6 images with their predicted and real labels\"\"\"\n",
        "    n = 0\n",
        "    nrows = 2\n",
        "    ncols = 3\n",
        "    fig, ax = plt.subplots(nrows,ncols,sharex=True,sharey=True)\n",
        "    for row in range(nrows):\n",
        "        for col in range(ncols):\n",
        "            error = errors_index[n]\n",
        "            ax[row,col].imshow((img_errors[error]).reshape((28,28)))\n",
        "            ax[row,col].set_title(\"Predicted label :{}\\nTrue label :{}\".format(pred_errors[error],obs_errors[error]))\n",
        "            n += 1\n",
        "\n",
        "# Probabilities of the wrong predicted numbers\n",
        "Y_pred_errors_prob = np.max(Y_pred_errors,axis = 1)\n",
        "\n",
        "# Predicted probabilities of the true values in the error set\n",
        "true_prob_errors = np.diagonal(np.take(Y_pred_errors, Y_true_errors, axis=1))\n",
        "\n",
        "# Difference between the probability of the predicted label and the true label\n",
        "delta_pred_true_errors = Y_pred_errors_prob - true_prob_errors\n",
        "\n",
        "# Sorted list of the delta prob errors\n",
        "sorted_dela_errors = np.argsort(delta_pred_true_errors)\n",
        "\n",
        "# Top 6 errors \n",
        "most_important_errors = sorted_dela_errors[-6:]\n",
        "\n",
        "# Show the top 6 errors\n",
        "display_errors(most_important_errors, X_val_errors, Y_pred_classes_errors, Y_true_errors)"
      ],
      "execution_count": 52,
      "outputs": [
        {
          "output_type": "display_data",
          "data": {
            "image/png": "[encoded data removed]",
            "text/plain": [
              "<Figure size 432x288 with 6 Axes>"
            ]
          },
          "metadata": {
            "tags": []
          }
        }
      ]
    },
    {
      "cell_type": "markdown",
      "metadata": {
        "id": "ymipjDiXM-J7",
        "colab_type": "text"
      },
      "source": [
        "### Visualización de aprendizaje de características en cada capa"
      ]
    },
    {
      "cell_type": "code",
      "metadata": {
        "id": "i0O6e0MLNVi3",
        "colab_type": "code",
        "outputId": "28ff1ce3-c163-4408-844b-756b10ac7fd2",
        "colab": {
          "base_uri": "https://localhost:8080/",
          "height": 266
        }
      },
      "source": [
        "layer_names = []\n",
        "for layer in model.layers[:-1]:\n",
        "    layer_names.append(layer.name) \n",
        "\n",
        "layer_names"
      ],
      "execution_count": 53,
      "outputs": [
        {
          "output_type": "execute_result",
          "data": {
            "text/plain": [
              "['conv2d_1',\n",
              " 'conv2d_2',\n",
              " 'max_pooling2d_1',\n",
              " 'dropout_1',\n",
              " 'conv2d_3',\n",
              " 'conv2d_4',\n",
              " 'max_pooling2d_2',\n",
              " 'dropout_2',\n",
              " 'conv2d_5',\n",
              " 'dropout_3',\n",
              " 'flatten_1',\n",
              " 'dense_13',\n",
              " 'batch_normalization_1',\n",
              " 'dropout_4']"
            ]
          },
          "metadata": {
            "tags": []
          },
          "execution_count": 53
        }
      ]
    },
    {
      "cell_type": "code",
      "metadata": {
        "id": "GSzgQszSPeB7",
        "colab_type": "code",
        "outputId": "0e927a90-d72b-48f8-9650-32044f36c51f",
        "colab": {
          "base_uri": "https://localhost:8080/",
          "height": 1000
        }
      },
      "source": [
        "from keras import models\n",
        "layer_outputs = [layer.output for layer in model.layers[:8]]\n",
        "activation_model = models.Model(input=model.input, output=layer_outputs)\n",
        "\n",
        "test_im = X_train[154]\n",
        "\n",
        "activations = activation_model.predict(test_im.reshape(1,28,28,1))\n",
        "\n",
        "images_per_row = 16\n",
        "for layer_name, layer_activation in zip(layer_names, activations):\n",
        "    if layer_name.startswith('conv'):\n",
        "        n_features = layer_activation.shape[-1]\n",
        "        size = layer_activation.shape[1]\n",
        "        n_cols = n_features // images_per_row\n",
        "        display_grid = np.zeros((size * n_cols, images_per_row * size))\n",
        "        for col in range(n_cols):\n",
        "            for row in range(images_per_row):\n",
        "                channel_image = layer_activation[0,:, :, col * images_per_row + row]\n",
        "                channel_image -= channel_image.mean()\n",
        "                channel_image /= channel_image.std()\n",
        "                channel_image *= 64\n",
        "                channel_image += 128\n",
        "                channel_image = np.clip(channel_image, 0, 255).astype('uint8')\n",
        "                display_grid[col * size : (col + 1) * size,\n",
        "                             row * size : (row + 1) * size] = channel_image\n",
        "        scale = 1. / size\n",
        "        plt.figure(figsize=(scale * display_grid.shape[1],\n",
        "                            scale * display_grid.shape[0]))\n",
        "        plt.title(layer_name)\n",
        "        plt.grid(False)\n",
        "        plt.imshow(display_grid, aspect='auto', cmap='viridis')\n",
        "    else:\n",
        "        if layer_name.startswith('max'):\n",
        "            n_features = layer_activation.shape[-1]\n",
        "            size = layer_activation.shape[1]\n",
        "            n_cols = n_features // images_per_row\n",
        "            display_grid = np.zeros((size * n_cols, images_per_row * size))\n",
        "            for col in range(n_cols):\n",
        "                for row in range(images_per_row):\n",
        "                    channel_image = layer_activation[0,:, :, col * images_per_row + row]\n",
        "                    channel_image -= channel_image.mean()\n",
        "                    channel_image /= channel_image.std()\n",
        "                    channel_image *= 64\n",
        "                    channel_image += 128\n",
        "                    channel_image = np.clip(channel_image, 0, 255).astype('uint8')\n",
        "                    display_grid[col * size : (col + 1) * size,\n",
        "                                 row * size : (row + 1) * size] = channel_image\n",
        "            scale = 1. / size\n",
        "            plt.figure(figsize=(scale * display_grid.shape[1],\n",
        "                                scale * display_grid.shape[0]))\n",
        "            plt.title(layer_name)\n",
        "            plt.grid(False)\n",
        "            plt.imshow(display_grid, aspect='auto', cmap='viridis')\n"
      ],
      "execution_count": 57,
      "outputs": [
        {
          "output_type": "display_data",
          "data": {
            "image/png": "[encoded data removed]",
            "text/plain": [
              "<Figure size 1152x144 with 1 Axes>"
            ]
          },
          "metadata": {
            "tags": []
          }
        },
        {
          "output_type": "display_data",
          "data": {
            "image/png": "[encoded data removed]",
            "text/plain": [
              "<Figure size 1152x144 with 1 Axes>"
            ]
          },
          "metadata": {
            "tags": []
          }
        },
        {
          "output_type": "display_data",
          "data": {
            "image/png": "[encoded data removed]",
            "text/plain": [
              "<Figure size 1152x144 with 1 Axes>"
            ]
          },
          "metadata": {
            "tags": []
          }
        },
        {
          "output_type": "display_data",
          "data": {
            "image/png": "[encoded data removed]",
            "text/plain": [
              "<Figure size 1152x288 with 1 Axes>"
            ]
          },
          "metadata": {
            "tags": []
          }
        },
        {
          "output_type": "display_data",
          "data": {
            "image/png": "[encoded data removed]",
            "text/plain": [
              "<Figure size 1152x288 with 1 Axes>"
            ]
          },
          "metadata": {
            "tags": []
          }
        },
        {
          "output_type": "display_data",
          "data": {
            "image/png": "[encoded data removed]",
            "text/plain": [
              "<Figure size 1152x288 with 1 Axes>"
            ]
          },
          "metadata": {
            "tags": []
          }
        }
      ]
    },
    {
      "cell_type": "markdown",
      "metadata": {
        "id": "XlkZh5JwPeCC",
        "colab_type": "text"
      },
      "source": [
        "### Report de clasificación "
      ]
    },
    {
      "cell_type": "code",
      "metadata": {
        "id": "2Bf3OD2GPeCD",
        "colab_type": "code",
        "colab": {}
      },
      "source": [
        "#get the predictions for the test data\n",
        "predicted_classes = model.predict_classes(X_test)\n",
        "\n",
        "#get the indices to be plotted\n",
        "y_true = y_test\n",
        "correct = np.nonzero(predicted_classes==y_true)[0]\n",
        "incorrect = np.nonzero(predicted_classes!=y_true)[0]"
      ],
      "execution_count": 0,
      "outputs": []
    },
    {
      "cell_type": "code",
      "metadata": {
        "id": "L9GSnNmVPeCG",
        "colab_type": "code",
        "outputId": "bf762c63-c29d-4cd4-9f4b-6362f081b19d",
        "colab": {
          "base_uri": "https://localhost:8080/",
          "height": 319
        }
      },
      "source": [
        "from sklearn.metrics import classification_report\n",
        "target_names = [\"Class {}\".format(i) for i in range(num_classes)]\n",
        "print(classification_report(y_true, predicted_classes, target_names=target_names))"
      ],
      "execution_count": 59,
      "outputs": [
        {
          "output_type": "stream",
          "text": [
            "              precision    recall  f1-score   support\n",
            "\n",
            "     Class 0       1.00      1.00      1.00       980\n",
            "     Class 1       1.00      1.00      1.00      1135\n",
            "     Class 2       0.99      1.00      0.99      1032\n",
            "     Class 3       0.99      1.00      0.99      1010\n",
            "     Class 4       1.00      0.99      0.99       982\n",
            "     Class 5       1.00      0.99      0.99       892\n",
            "     Class 6       1.00      0.99      1.00       958\n",
            "     Class 7       1.00      0.99      0.99      1028\n",
            "     Class 8       0.99      1.00      0.99       974\n",
            "     Class 9       0.99      1.00      0.99      1009\n",
            "\n",
            "    accuracy                           0.99     10000\n",
            "   macro avg       0.99      0.99      0.99     10000\n",
            "weighted avg       0.99      0.99      0.99     10000\n",
            "\n"
          ],
          "name": "stdout"
        }
      ]
    }
  ]
}