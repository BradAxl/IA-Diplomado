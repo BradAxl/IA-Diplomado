{
  "nbformat": 4,
  "nbformat_minor": 0,
  "metadata": {
    "colab": {
      "name": "kNN.ipynb",
      "version": "0.3.2",
      "provenance": []
    },
    "kernelspec": {
      "name": "python3",
      "display_name": "Python 3"
    }
  },
  "cells": [
    {
      "cell_type": "markdown",
      "metadata": {
        "id": "2ZymtxSdljwt",
        "colab_type": "text"
      },
      "source": [
        "# CLASE 4: k Nearest Neighbors\n",
        "\n",
        "El objetivo de este ejercicio es aplicar el clasificador kNN en situaciones reales con conjuntos de múltiples clases y múltiples características.\n",
        "\n",
        "**Ejemplo 1: Clasificación multiclase con dos características.**\n",
        "\n",
        "Adaptado de https://www.aprendemachinelearning.com/clasificar-con-k-nearest-neighbor-ejemplo-en-python/"
      ]
    },
    {
      "cell_type": "code",
      "metadata": {
        "id": "Ug19m4FSaOdE",
        "colab_type": "code",
        "colab": {}
      },
      "source": [
        "import pandas as pd\n",
        "import numpy as np\n",
        "import matplotlib.pyplot as plt\n",
        "from matplotlib.colors import ListedColormap\n",
        "import matplotlib.patches as mpatches\n",
        "import seaborn as sns\n",
        " \n",
        "%matplotlib inline\n",
        "plt.rcParams['figure.figsize'] = (16, 9)\n",
        "plt.style.use('ggplot')\n",
        " \n",
        "from sklearn.model_selection import train_test_split\n",
        "from sklearn.preprocessing import MinMaxScaler\n",
        "from sklearn.neighbors import KNeighborsClassifier\n",
        "from sklearn.metrics import classification_report\n",
        "from sklearn.metrics import confusion_matrix"
      ],
      "execution_count": 0,
      "outputs": []
    },
    {
      "cell_type": "markdown",
      "metadata": {
        "id": "DwYoht-jl2Dd",
        "colab_type": "text"
      },
      "source": [
        "Descarga y exploración de los datos"
      ]
    },
    {
      "cell_type": "code",
      "metadata": {
        "id": "G_I8AE1latze",
        "colab_type": "code",
        "colab": {}
      },
      "source": [
        "!wget http://www.aprendemachinelearning.com/wp-content/uploads/2018/07/reviews_sentiment.csv"
      ],
      "execution_count": 0,
      "outputs": []
    },
    {
      "cell_type": "code",
      "metadata": {
        "id": "YO2psphWaQ6C",
        "colab_type": "code",
        "colab": {}
      },
      "source": [
        "dataframe = pd.read_csv(r\"reviews_sentiment.csv\",sep=';')\n",
        "dataframe.head(10)"
      ],
      "execution_count": 0,
      "outputs": []
    },
    {
      "cell_type": "code",
      "metadata": {
        "id": "QUMOgwkibAe9",
        "colab_type": "code",
        "colab": {}
      },
      "source": [
        "dataframe.describe()"
      ],
      "execution_count": 0,
      "outputs": []
    },
    {
      "cell_type": "markdown",
      "metadata": {
        "id": "OATipCrVmXoF",
        "colab_type": "text"
      },
      "source": [
        "Revisión de las características a utilizar"
      ]
    },
    {
      "cell_type": "code",
      "metadata": {
        "id": "7H0MawS9bF0u",
        "colab_type": "code",
        "colab": {}
      },
      "source": [
        "dataframe.hist()\n",
        "plt.show()"
      ],
      "execution_count": 0,
      "outputs": []
    },
    {
      "cell_type": "code",
      "metadata": {
        "id": "cr3VCtjabI8Q",
        "colab_type": "code",
        "colab": {}
      },
      "source": [
        "print(dataframe.groupby('Star Rating').size())"
      ],
      "execution_count": 0,
      "outputs": []
    },
    {
      "cell_type": "code",
      "metadata": {
        "id": "Eo8bX2nTbSSm",
        "colab_type": "code",
        "colab": {}
      },
      "source": [
        "sns.catplot('Star Rating',data=dataframe,kind=\"count\", aspect=3)"
      ],
      "execution_count": 0,
      "outputs": []
    },
    {
      "cell_type": "code",
      "metadata": {
        "id": "8dV5Kz03bdUw",
        "colab_type": "code",
        "colab": {}
      },
      "source": [
        "sns.catplot('wordcount',data=dataframe,kind=\"count\", aspect=3)"
      ],
      "execution_count": 0,
      "outputs": []
    },
    {
      "cell_type": "markdown",
      "metadata": {
        "id": "EzrTruucmah0",
        "colab_type": "text"
      },
      "source": [
        "Separación de datos en conjuntos de entrenamiento y validación. Se escala los conjuntos de entrenamiento."
      ]
    },
    {
      "cell_type": "code",
      "metadata": {
        "id": "FbDDa-d_bfQ0",
        "colab_type": "code",
        "colab": {}
      },
      "source": [
        "X = dataframe[['wordcount','sentimentValue']].values\n",
        "y = dataframe['Star Rating'].values\n",
        " \n",
        "X_train, X_test, y_train, y_test = train_test_split(X, y, random_state=0)\n",
        "scaler = MinMaxScaler()\n",
        "X_train = scaler.fit_transform(X_train)\n",
        "X_test = scaler.transform(X_test)"
      ],
      "execution_count": 0,
      "outputs": []
    },
    {
      "cell_type": "markdown",
      "metadata": {
        "id": "ahiRv6UxmnKL",
        "colab_type": "text"
      },
      "source": [
        "Entrenamiento con los parámetros por defecto y k = 7"
      ]
    },
    {
      "cell_type": "code",
      "metadata": {
        "id": "JTnQLw95gefD",
        "colab_type": "code",
        "colab": {}
      },
      "source": [
        "n_neighbors = 11\n",
        " \n",
        "knn = KNeighborsClassifier(n_neighbors)\n",
        "knn.fit(X_train, y_train)\n",
        "print('Accuracy of K-NN classifier on training set: {:.2f}'\n",
        "     .format(knn.score(X_train, y_train)))\n",
        "print('Accuracy of K-NN classifier on test set: {:.2f}'\n",
        "     .format(knn.score(X_test, y_test)))"
      ],
      "execution_count": 0,
      "outputs": []
    },
    {
      "cell_type": "markdown",
      "metadata": {
        "id": "2cg2LCuqmsab",
        "colab_type": "text"
      },
      "source": [
        "Matriz de confusión y métricas"
      ]
    },
    {
      "cell_type": "code",
      "metadata": {
        "id": "Gfqygls6jn4i",
        "colab_type": "code",
        "colab": {}
      },
      "source": [
        "def print_confusion_matrix(confusion_matrix, class_names, figsize = (10,7), fontsize=14):\n",
        "    \"\"\"Prints a confusion matrix, as returned by sklearn.metrics.confusion_matrix, as a heatmap.\n",
        "    \n",
        "    Arguments\n",
        "    ---------\n",
        "    confusion_matrix: numpy.ndarray\n",
        "        The numpy.ndarray object returned from a call to sklearn.metrics.confusion_matrix. \n",
        "        Similarly constructed ndarrays can also be used.\n",
        "    class_names: list\n",
        "        An ordered list of class names, in the order they index the given confusion matrix.\n",
        "    figsize: tuple\n",
        "        A 2-long tuple, the first value determining the horizontal size of the ouputted figure,\n",
        "        the second determining the vertical size. Defaults to (10,7).\n",
        "    fontsize: int\n",
        "        Font size for axes labels. Defaults to 14.\n",
        "        \n",
        "    Returns\n",
        "    -------\n",
        "    matplotlib.figure.Figure\n",
        "        The resulting confusion matrix figure\n",
        "        \n",
        "    Reference\n",
        "    -------\n",
        "    https://gist.github.com/shaypal5/94c53d765083101efc0240d776a23823\n",
        "    \n",
        "    \"\"\"\n",
        "    df_cm = pd.DataFrame(\n",
        "        confusion_matrix, index=class_names, columns=class_names, \n",
        "    )\n",
        "    fig = plt.figure(figsize=figsize)\n",
        "    try:\n",
        "        heatmap = sns.heatmap(df_cm, annot=True, fmt=\"d\")\n",
        "    except ValueError:\n",
        "        raise ValueError(\"Confusion matrix values must be integers.\")\n",
        "    heatmap.yaxis.set_ticklabels(heatmap.yaxis.get_ticklabels(), rotation=0, ha='right', fontsize=fontsize)\n",
        "    heatmap.xaxis.set_ticklabels(heatmap.xaxis.get_ticklabels(), rotation=45, ha='right', fontsize=fontsize)\n",
        "    plt.ylabel('True label')\n",
        "    plt.xlabel('Predicted label')\n",
        "    print(fig)"
      ],
      "execution_count": 0,
      "outputs": []
    },
    {
      "cell_type": "code",
      "metadata": {
        "id": "JfruDAkJkxNn",
        "colab_type": "code",
        "colab": {}
      },
      "source": [
        "print_confusion_matrix(confusion_matrix(y_test, pred),[\"1\",\"2\",\"3\",\"4\",\"5\"])"
      ],
      "execution_count": 0,
      "outputs": []
    },
    {
      "cell_type": "code",
      "metadata": {
        "id": "Kl0QJOtUgg6u",
        "colab_type": "code",
        "colab": {}
      },
      "source": [
        "pred = knn.predict(X_test)\n",
        "print(classification_report(y_test, pred))"
      ],
      "execution_count": 0,
      "outputs": []
    },
    {
      "cell_type": "markdown",
      "metadata": {
        "id": "Y7WzsCWum6pB",
        "colab_type": "text"
      },
      "source": [
        "Distribución de muestras y clases en el espacio de características."
      ]
    },
    {
      "cell_type": "code",
      "metadata": {
        "id": "ETKmhop5hN_a",
        "colab_type": "code",
        "colab": {}
      },
      "source": [
        "h = .02  # step size in the mesh\n",
        " \n",
        "# Create color maps\n",
        "cmap_light = ListedColormap(['#FFAAAA', '#ffcc99', '#ffffb3','#b3ffff','#c2f0c2'])\n",
        "cmap_bold = ListedColormap(['#FF0000', '#ff9933','#FFFF00','#00ffff','#00FF00'])\n",
        " \n",
        "# we create an instance of Neighbours Classifier and fit the data.\n",
        "clf = KNeighborsClassifier(n_neighbors, weights='distance')\n",
        "clf.fit(X, y)\n",
        " \n",
        "# Plot the decision boundary. For that, we will assign a color to each\n",
        "# point in the mesh [x_min, x_max]x[y_min, y_max].\n",
        "x_min, x_max = X[:, 0].min() - 1, X[:, 0].max() + 1\n",
        "y_min, y_max = X[:, 1].min() - 1, X[:, 1].max() + 1\n",
        "xx, yy = np.meshgrid(np.arange(x_min, x_max, h), np.arange(y_min, y_max, h))\n",
        "Z = clf.predict(np.c_[xx.ravel(), yy.ravel()])\n",
        " \n",
        "# Put the result into a color plot\n",
        "Z = Z.reshape(xx.shape)\n",
        "plt.figure()\n",
        "plt.pcolormesh(xx, yy, Z, cmap=cmap_light)\n",
        " \n",
        "# Plot also the training points\n",
        "plt.scatter(X[:, 0], X[:, 1], c=y, cmap=cmap_bold, edgecolor='k', s=20)\n",
        "plt.xlim(xx.min(), xx.max())\n",
        "plt.ylim(yy.min(), yy.max())\n",
        "    \n",
        "patch0 = mpatches.Patch(color='#FF0000', label='1')\n",
        "patch1 = mpatches.Patch(color='#ff9933', label='2')\n",
        "patch2 = mpatches.Patch(color='#FFFF00', label='3')\n",
        "patch3 = mpatches.Patch(color='#00ffff', label='4')\n",
        "patch4 = mpatches.Patch(color='#00FF00', label='5')\n",
        "plt.legend(handles=[patch0, patch1, patch2, patch3,patch4])\n",
        " \n",
        "    \n",
        "plt.title(\"5-Class classification (k = %i, weights = '%s')\" % (n_neighbors, 'distance'))\n",
        " \n",
        "plt.show()"
      ],
      "execution_count": 0,
      "outputs": []
    },
    {
      "cell_type": "markdown",
      "metadata": {
        "id": "-ZMcKMmUnG3R",
        "colab_type": "text"
      },
      "source": [
        "Grid search para encontrar el mejor k."
      ]
    },
    {
      "cell_type": "code",
      "metadata": {
        "id": "77-xlLq-hgu2",
        "colab_type": "code",
        "colab": {}
      },
      "source": [
        "k_range = range(1, 20)\n",
        "scores = []\n",
        "for k in k_range:\n",
        "    knn = KNeighborsClassifier(n_neighbors = k)\n",
        "    knn.fit(X_train, y_train)\n",
        "    scores.append(knn.score(X_test, y_test))\n",
        "plt.figure()\n",
        "plt.xlabel('k')\n",
        "plt.ylabel('accuracy')\n",
        "plt.scatter(k_range, scores)\n",
        "plt.xticks([0,5,10,15,20])"
      ],
      "execution_count": 0,
      "outputs": []
    },
    {
      "cell_type": "markdown",
      "metadata": {
        "id": "qdgzMOGWnUWF",
        "colab_type": "text"
      },
      "source": [
        "Predicción para nuevos valores"
      ]
    },
    {
      "cell_type": "code",
      "metadata": {
        "id": "LfplPUMhhqzU",
        "colab_type": "code",
        "colab": {}
      },
      "source": [
        "print(clf.predict([[5, 1.0]]))\n",
        "print(clf.predict_proba([[5, 1.0]]))"
      ],
      "execution_count": 0,
      "outputs": []
    },
    {
      "cell_type": "markdown",
      "metadata": {
        "id": "32Vk07sFnlQ1",
        "colab_type": "text"
      },
      "source": [
        "**Ejemplo 2: Clasficiación en dos clases con multiples dimensiones.**\n",
        "\n",
        "Adaptado de https://www.kaggle.com/uciml/pima-indians-diabetes-database/downloads/diabetes.csv/notebook"
      ]
    },
    {
      "cell_type": "markdown",
      "metadata": {
        "colab_type": "text",
        "id": "sXhT5tG8Ky29"
      },
      "source": [
        "Descarga y exploración de los datos"
      ]
    },
    {
      "cell_type": "code",
      "metadata": {
        "id": "YyzrYtgSnmYM",
        "colab_type": "code",
        "colab": {}
      },
      "source": [
        "!wget 'https://drive.google.com/uc?export=download&id=1nHtpFU3BDjAf1KB88fPHlD9iTLC8b4US' -O diabetes.csv"
      ],
      "execution_count": 0,
      "outputs": []
    },
    {
      "cell_type": "code",
      "metadata": {
        "id": "jk0dDqqCuWvK",
        "colab_type": "code",
        "colab": {}
      },
      "source": [
        "diabetes_data = pd.read_csv('diabetes.csv')\n",
        "diabetes_data.head()"
      ],
      "execution_count": 0,
      "outputs": []
    },
    {
      "cell_type": "code",
      "metadata": {
        "id": "hGYc2Owguerl",
        "colab_type": "code",
        "colab": {}
      },
      "source": [
        "diabetes_data.info(verbose=True)"
      ],
      "execution_count": 0,
      "outputs": []
    },
    {
      "cell_type": "code",
      "metadata": {
        "id": "ynnXTlsful7a",
        "colab_type": "code",
        "colab": {}
      },
      "source": [
        "diabetes_data.describe().T"
      ],
      "execution_count": 0,
      "outputs": []
    },
    {
      "cell_type": "markdown",
      "metadata": {
        "id": "vVQ6E55_K4Ll",
        "colab_type": "text"
      },
      "source": [
        "Limpieza de datos faltantes"
      ]
    },
    {
      "cell_type": "code",
      "metadata": {
        "id": "bQ1grtQAut3g",
        "colab_type": "code",
        "colab": {}
      },
      "source": [
        "diabetes_data_copy = diabetes_data.copy(deep = True)\n",
        "diabetes_data_copy[['Glucose','BloodPressure','SkinThickness','Insulin','BMI']] = diabetes_data_copy[['Glucose','BloodPressure','SkinThickness','Insulin','BMI']].replace(0,np.NaN)\n",
        "\n",
        "print(diabetes_data_copy.isnull().sum())"
      ],
      "execution_count": 0,
      "outputs": []
    },
    {
      "cell_type": "code",
      "metadata": {
        "id": "yV3BH17xu0OC",
        "colab_type": "code",
        "colab": {}
      },
      "source": [
        "diabetes_data_copy['Glucose'].fillna(diabetes_data_copy['Glucose'].mean(), inplace = True)\n",
        "diabetes_data_copy['BloodPressure'].fillna(diabetes_data_copy['BloodPressure'].mean(), inplace = True)\n",
        "diabetes_data_copy['SkinThickness'].fillna(diabetes_data_copy['SkinThickness'].median(), inplace = True)\n",
        "diabetes_data_copy['Insulin'].fillna(diabetes_data_copy['Insulin'].median(), inplace = True)\n",
        "diabetes_data_copy['BMI'].fillna(diabetes_data_copy['BMI'].median(), inplace = True)"
      ],
      "execution_count": 0,
      "outputs": []
    },
    {
      "cell_type": "markdown",
      "metadata": {
        "id": "Agvdajf2LPZz",
        "colab_type": "text"
      },
      "source": [
        "Distribución de características y resultado."
      ]
    },
    {
      "cell_type": "code",
      "metadata": {
        "id": "66WVioDmuu5y",
        "colab_type": "code",
        "colab": {}
      },
      "source": [
        "p = diabetes_data.hist(figsize = (20,20))"
      ],
      "execution_count": 0,
      "outputs": []
    },
    {
      "cell_type": "markdown",
      "metadata": {
        "id": "MWuwmZP1LRAs",
        "colab_type": "text"
      },
      "source": [
        "Escalamiento de datos"
      ]
    },
    {
      "cell_type": "code",
      "metadata": {
        "id": "6jEAm1HVvMOb",
        "colab_type": "code",
        "colab": {}
      },
      "source": [
        "from sklearn.preprocessing import StandardScaler\n",
        "sc_X = StandardScaler()\n",
        "X =  pd.DataFrame(sc_X.fit_transform(diabetes_data_copy.drop([\"Outcome\"],axis = 1),),\n",
        "        columns=['Pregnancies', 'Glucose', 'BloodPressure', 'SkinThickness', 'Insulin',\n",
        "       'BMI', 'DiabetesPedigreeFunction', 'Age'])"
      ],
      "execution_count": 0,
      "outputs": []
    },
    {
      "cell_type": "code",
      "metadata": {
        "id": "VXyRCxIjvUX5",
        "colab_type": "code",
        "colab": {}
      },
      "source": [
        "X.head()"
      ],
      "execution_count": 0,
      "outputs": []
    },
    {
      "cell_type": "code",
      "metadata": {
        "id": "MqTmollcvewO",
        "colab_type": "code",
        "colab": {}
      },
      "source": [
        "y = diabetes_data_copy.Outcome"
      ],
      "execution_count": 0,
      "outputs": []
    },
    {
      "cell_type": "markdown",
      "metadata": {
        "id": "lteXpEj8LVk0",
        "colab_type": "text"
      },
      "source": [
        "Separación en conjunto de entrenamiento y validación."
      ]
    },
    {
      "cell_type": "code",
      "metadata": {
        "id": "MdqoT7f3vXlt",
        "colab_type": "code",
        "colab": {}
      },
      "source": [
        "from sklearn.model_selection import train_test_split\n",
        "X_train,X_test,y_train,y_test = train_test_split(X,y,test_size=1/3,random_state=42, stratify=y)"
      ],
      "execution_count": 0,
      "outputs": []
    },
    {
      "cell_type": "markdown",
      "metadata": {
        "id": "X7brcpEULhef",
        "colab_type": "text"
      },
      "source": [
        "Buscar el mejor valor de k"
      ]
    },
    {
      "cell_type": "code",
      "metadata": {
        "id": "jw4dJfuiF1kB",
        "colab_type": "code",
        "colab": {}
      },
      "source": [
        "from sklearn.neighbors import KNeighborsClassifier\n",
        "\n",
        "\n",
        "test_scores = []\n",
        "train_scores = []\n",
        "\n",
        "for i in range(1,30):\n",
        "\n",
        "    knn = KNeighborsClassifier(i,)\n",
        "    knn.fit(X_train,y_train)\n",
        "    \n",
        "    train_scores.append(knn.score(X_train,y_train))\n",
        "    test_scores.append(knn.score(X_test,y_test))"
      ],
      "execution_count": 0,
      "outputs": []
    },
    {
      "cell_type": "code",
      "metadata": {
        "id": "cz3JYDLqGWCC",
        "colab_type": "code",
        "colab": {}
      },
      "source": [
        "plt.figure(figsize=(12,5))\n",
        "p = sns.lineplot(range(1,30),train_scores,marker='*',label='Train Score')\n",
        "p = sns.lineplot(range(1,30),test_scores,marker='o',label='Test Score')"
      ],
      "execution_count": 0,
      "outputs": []
    },
    {
      "cell_type": "markdown",
      "metadata": {
        "id": "Ak4Ab4EALoUZ",
        "colab_type": "text"
      },
      "source": [
        "El valor de k con el mejor score en el conjunto de validación es 11. Se usará este valor para obtener un score en el conjunto de validación."
      ]
    },
    {
      "cell_type": "code",
      "metadata": {
        "id": "AvSsh8FdJNAu",
        "colab_type": "code",
        "colab": {}
      },
      "source": [
        "knn = KNeighborsClassifier(11)\n",
        "\n",
        "knn.fit(X_train,y_train)\n",
        "knn.score(X_test,y_test)"
      ],
      "execution_count": 0,
      "outputs": []
    },
    {
      "cell_type": "code",
      "metadata": {
        "id": "3nwH5q3aHTsh",
        "colab_type": "code",
        "colab": {}
      },
      "source": [
        "from sklearn.metrics import confusion_matrix\n",
        "#let us get the predictions using the classifier we had fit above\n",
        "y_pred = knn.predict(X_test)\n",
        "print_confusion_matrix(confusion_matrix(y_test,y_pred),[\"Healthy\",\"Has diabetes\"])\n"
      ],
      "execution_count": 0,
      "outputs": []
    },
    {
      "cell_type": "code",
      "metadata": {
        "id": "7GlM4AYJJab8",
        "colab_type": "code",
        "colab": {}
      },
      "source": [
        "from sklearn.metrics import classification_report\n",
        "print(classification_report(y_test,y_pred))"
      ],
      "execution_count": 0,
      "outputs": []
    }
  ]
}