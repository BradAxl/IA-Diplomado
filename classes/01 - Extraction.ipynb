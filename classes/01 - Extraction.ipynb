{
 "cells": [
  {
   "cell_type": "code",
   "execution_count": 1,
   "metadata": {},
   "outputs": [],
   "source": [
    "import pandas as pd"
   ]
  },
  {
   "cell_type": "markdown",
   "metadata": {},
   "source": [
    "## Read from csv"
   ]
  },
  {
   "cell_type": "code",
   "execution_count": 4,
   "metadata": {},
   "outputs": [
    {
     "name": "stdout",
     "output_type": "stream",
     "text": [
      "/Users/robert/Documents/repos/python-for-data-science/classes\n"
     ]
    }
   ],
   "source": [
    "!pwd"
   ]
  },
  {
   "cell_type": "code",
   "execution_count": 3,
   "metadata": {},
   "outputs": [
    {
     "name": "stdout",
     "output_type": "stream",
     "text": [
      "01 - Extraction.ipynb\n"
     ]
    }
   ],
   "source": [
    "!ls"
   ]
  },
  {
   "cell_type": "code",
   "execution_count": 6,
   "metadata": {},
   "outputs": [],
   "source": [
    "df = pd.read_csv('../titanic/train.csv')"
   ]
  },
  {
   "cell_type": "code",
   "execution_count": 7,
   "metadata": {},
   "outputs": [
    {
     "data": {
      "text/html": [
       "<div>\n",
       "<style scoped>\n",
       "    .dataframe tbody tr th:only-of-type {\n",
       "        vertical-align: middle;\n",
       "    }\n",
       "\n",
       "    .dataframe tbody tr th {\n",
       "        vertical-align: top;\n",
       "    }\n",
       "\n",
       "    .dataframe thead th {\n",
       "        text-align: right;\n",
       "    }\n",
       "</style>\n",
       "<table border=\"1\" class=\"dataframe\">\n",
       "  <thead>\n",
       "    <tr style=\"text-align: right;\">\n",
       "      <th></th>\n",
       "      <th>PassengerId</th>\n",
       "      <th>Survived</th>\n",
       "      <th>Pclass</th>\n",
       "      <th>Name</th>\n",
       "      <th>Sex</th>\n",
       "      <th>Age</th>\n",
       "      <th>SibSp</th>\n",
       "      <th>Parch</th>\n",
       "      <th>Ticket</th>\n",
       "      <th>Fare</th>\n",
       "      <th>Cabin</th>\n",
       "      <th>Embarked</th>\n",
       "    </tr>\n",
       "  </thead>\n",
       "  <tbody>\n",
       "    <tr>\n",
       "      <th>0</th>\n",
       "      <td>1</td>\n",
       "      <td>0</td>\n",
       "      <td>3</td>\n",
       "      <td>Braund, Mr. Owen Harris</td>\n",
       "      <td>male</td>\n",
       "      <td>22.0</td>\n",
       "      <td>1</td>\n",
       "      <td>0</td>\n",
       "      <td>A/5 21171</td>\n",
       "      <td>7.2500</td>\n",
       "      <td>NaN</td>\n",
       "      <td>S</td>\n",
       "    </tr>\n",
       "    <tr>\n",
       "      <th>1</th>\n",
       "      <td>2</td>\n",
       "      <td>1</td>\n",
       "      <td>1</td>\n",
       "      <td>Cumings, Mrs. John Bradley (Florence Briggs Th...</td>\n",
       "      <td>female</td>\n",
       "      <td>38.0</td>\n",
       "      <td>1</td>\n",
       "      <td>0</td>\n",
       "      <td>PC 17599</td>\n",
       "      <td>71.2833</td>\n",
       "      <td>C85</td>\n",
       "      <td>C</td>\n",
       "    </tr>\n",
       "    <tr>\n",
       "      <th>2</th>\n",
       "      <td>3</td>\n",
       "      <td>1</td>\n",
       "      <td>3</td>\n",
       "      <td>Heikkinen, Miss. Laina</td>\n",
       "      <td>female</td>\n",
       "      <td>26.0</td>\n",
       "      <td>0</td>\n",
       "      <td>0</td>\n",
       "      <td>STON/O2. 3101282</td>\n",
       "      <td>7.9250</td>\n",
       "      <td>NaN</td>\n",
       "      <td>S</td>\n",
       "    </tr>\n",
       "    <tr>\n",
       "      <th>3</th>\n",
       "      <td>4</td>\n",
       "      <td>1</td>\n",
       "      <td>1</td>\n",
       "      <td>Futrelle, Mrs. Jacques Heath (Lily May Peel)</td>\n",
       "      <td>female</td>\n",
       "      <td>35.0</td>\n",
       "      <td>1</td>\n",
       "      <td>0</td>\n",
       "      <td>113803</td>\n",
       "      <td>53.1000</td>\n",
       "      <td>C123</td>\n",
       "      <td>S</td>\n",
       "    </tr>\n",
       "    <tr>\n",
       "      <th>4</th>\n",
       "      <td>5</td>\n",
       "      <td>0</td>\n",
       "      <td>3</td>\n",
       "      <td>Allen, Mr. William Henry</td>\n",
       "      <td>male</td>\n",
       "      <td>35.0</td>\n",
       "      <td>0</td>\n",
       "      <td>0</td>\n",
       "      <td>373450</td>\n",
       "      <td>8.0500</td>\n",
       "      <td>NaN</td>\n",
       "      <td>S</td>\n",
       "    </tr>\n",
       "  </tbody>\n",
       "</table>\n",
       "</div>"
      ],
      "text/plain": [
       "   PassengerId  Survived  Pclass  \\\n",
       "0            1         0       3   \n",
       "1            2         1       1   \n",
       "2            3         1       3   \n",
       "3            4         1       1   \n",
       "4            5         0       3   \n",
       "\n",
       "                                                Name     Sex   Age  SibSp  \\\n",
       "0                            Braund, Mr. Owen Harris    male  22.0      1   \n",
       "1  Cumings, Mrs. John Bradley (Florence Briggs Th...  female  38.0      1   \n",
       "2                             Heikkinen, Miss. Laina  female  26.0      0   \n",
       "3       Futrelle, Mrs. Jacques Heath (Lily May Peel)  female  35.0      1   \n",
       "4                           Allen, Mr. William Henry    male  35.0      0   \n",
       "\n",
       "   Parch            Ticket     Fare Cabin Embarked  \n",
       "0      0         A/5 21171   7.2500   NaN        S  \n",
       "1      0          PC 17599  71.2833   C85        C  \n",
       "2      0  STON/O2. 3101282   7.9250   NaN        S  \n",
       "3      0            113803  53.1000  C123        S  \n",
       "4      0            373450   8.0500   NaN        S  "
      ]
     },
     "execution_count": 7,
     "metadata": {},
     "output_type": "execute_result"
    }
   ],
   "source": [
    "df.head()"
   ]
  },
  {
   "cell_type": "code",
   "execution_count": 18,
   "metadata": {},
   "outputs": [],
   "source": [
    "a = []\n",
    "for x in df.PassengerId:\n",
    "    if x > 10:\n",
    "        a.append(x + 1)"
   ]
  },
  {
   "cell_type": "code",
   "execution_count": 19,
   "metadata": {},
   "outputs": [],
   "source": [
    "# List comprehension\n",
    "a = [x + 1 for x in df.PassengerId if x > 10]"
   ]
  },
  {
   "cell_type": "code",
   "execution_count": 23,
   "metadata": {},
   "outputs": [],
   "source": [
    "a = (df.PassengerId + 1).tolist()"
   ]
  },
  {
   "cell_type": "code",
   "execution_count": 21,
   "metadata": {},
   "outputs": [
    {
     "data": {
      "text/plain": [
       "pandas.core.series.Series"
      ]
     },
     "execution_count": 21,
     "metadata": {},
     "output_type": "execute_result"
    }
   ],
   "source": [
    "type(df['PassengerId'] + 1)"
   ]
  },
  {
   "cell_type": "code",
   "execution_count": 9,
   "metadata": {},
   "outputs": [
    {
     "data": {
      "text/plain": [
       "pandas.core.frame.DataFrame"
      ]
     },
     "execution_count": 9,
     "metadata": {},
     "output_type": "execute_result"
    }
   ],
   "source": [
    "type(df)"
   ]
  },
  {
   "cell_type": "markdown",
   "metadata": {},
   "source": [
    "## Read from excel"
   ]
  },
  {
   "cell_type": "code",
   "execution_count": 24,
   "metadata": {},
   "outputs": [],
   "source": [
    "df = pd.read_excel('../Employee data.xls')"
   ]
  },
  {
   "cell_type": "code",
   "execution_count": 38,
   "metadata": {},
   "outputs": [
    {
     "data": {
      "text/html": [
       "<div>\n",
       "<style scoped>\n",
       "    .dataframe tbody tr th:only-of-type {\n",
       "        vertical-align: middle;\n",
       "    }\n",
       "\n",
       "    .dataframe tbody tr th {\n",
       "        vertical-align: top;\n",
       "    }\n",
       "\n",
       "    .dataframe thead th {\n",
       "        text-align: right;\n",
       "    }\n",
       "</style>\n",
       "<table border=\"1\" class=\"dataframe\">\n",
       "  <thead>\n",
       "    <tr style=\"text-align: right;\">\n",
       "      <th></th>\n",
       "      <th>id</th>\n",
       "      <th>gender</th>\n",
       "      <th>bdate</th>\n",
       "      <th>educ</th>\n",
       "      <th>jobcat</th>\n",
       "      <th>salary</th>\n",
       "      <th>salbegin</th>\n",
       "      <th>jobtime</th>\n",
       "      <th>prevexp</th>\n",
       "      <th>minority</th>\n",
       "    </tr>\n",
       "  </thead>\n",
       "  <tbody>\n",
       "    <tr>\n",
       "      <th>0</th>\n",
       "      <td>1</td>\n",
       "      <td>m</td>\n",
       "      <td>1952-02-03</td>\n",
       "      <td>15</td>\n",
       "      <td>3</td>\n",
       "      <td>57000</td>\n",
       "      <td>27000</td>\n",
       "      <td>98</td>\n",
       "      <td>144</td>\n",
       "      <td>0</td>\n",
       "    </tr>\n",
       "    <tr>\n",
       "      <th>1</th>\n",
       "      <td>2</td>\n",
       "      <td>m</td>\n",
       "      <td>1958-05-23</td>\n",
       "      <td>16</td>\n",
       "      <td>1</td>\n",
       "      <td>40200</td>\n",
       "      <td>18750</td>\n",
       "      <td>98</td>\n",
       "      <td>36</td>\n",
       "      <td>0</td>\n",
       "    </tr>\n",
       "    <tr>\n",
       "      <th>2</th>\n",
       "      <td>3</td>\n",
       "      <td>f</td>\n",
       "      <td>1929-07-26</td>\n",
       "      <td>12</td>\n",
       "      <td>1</td>\n",
       "      <td>21450</td>\n",
       "      <td>12000</td>\n",
       "      <td>98</td>\n",
       "      <td>381</td>\n",
       "      <td>0</td>\n",
       "    </tr>\n",
       "    <tr>\n",
       "      <th>3</th>\n",
       "      <td>4</td>\n",
       "      <td>f</td>\n",
       "      <td>1947-04-15</td>\n",
       "      <td>8</td>\n",
       "      <td>1</td>\n",
       "      <td>21900</td>\n",
       "      <td>13200</td>\n",
       "      <td>98</td>\n",
       "      <td>190</td>\n",
       "      <td>0</td>\n",
       "    </tr>\n",
       "    <tr>\n",
       "      <th>4</th>\n",
       "      <td>5</td>\n",
       "      <td>m</td>\n",
       "      <td>1955-02-09</td>\n",
       "      <td>15</td>\n",
       "      <td>1</td>\n",
       "      <td>45000</td>\n",
       "      <td>21000</td>\n",
       "      <td>98</td>\n",
       "      <td>138</td>\n",
       "      <td>0</td>\n",
       "    </tr>\n",
       "  </tbody>\n",
       "</table>\n",
       "</div>"
      ],
      "text/plain": [
       "   id gender      bdate  educ  jobcat  salary  salbegin  jobtime  prevexp  \\\n",
       "0   1      m 1952-02-03    15       3   57000     27000       98      144   \n",
       "1   2      m 1958-05-23    16       1   40200     18750       98       36   \n",
       "2   3      f 1929-07-26    12       1   21450     12000       98      381   \n",
       "3   4      f 1947-04-15     8       1   21900     13200       98      190   \n",
       "4   5      m 1955-02-09    15       1   45000     21000       98      138   \n",
       "\n",
       "   minority  \n",
       "0         0  \n",
       "1         0  \n",
       "2         0  \n",
       "3         0  \n",
       "4         0  "
      ]
     },
     "execution_count": 38,
     "metadata": {},
     "output_type": "execute_result"
    }
   ],
   "source": [
    "df.head()"
   ]
  },
  {
   "cell_type": "markdown",
   "metadata": {},
   "source": [
    "## Database"
   ]
  },
  {
   "cell_type": "code",
   "execution_count": 27,
   "metadata": {},
   "outputs": [],
   "source": [
    "import sqlite3"
   ]
  },
  {
   "cell_type": "code",
   "execution_count": 40,
   "metadata": {},
   "outputs": [],
   "source": [
    "conn = sqlite3.connect('flights.db')"
   ]
  },
  {
   "cell_type": "code",
   "execution_count": 43,
   "metadata": {},
   "outputs": [],
   "source": [
    "with open('../query.sql') as f:\n",
    "    query = f.read().strip()"
   ]
  },
  {
   "cell_type": "code",
   "execution_count": 44,
   "metadata": {},
   "outputs": [
    {
     "data": {
      "text/plain": [
       "'SELECT * FROM airports'"
      ]
     },
     "execution_count": 44,
     "metadata": {},
     "output_type": "execute_result"
    }
   ],
   "source": [
    "query"
   ]
  },
  {
   "cell_type": "code",
   "execution_count": 42,
   "metadata": {},
   "outputs": [],
   "source": [
    "df = pd.read_sql_query(query, conn)"
   ]
  },
  {
   "cell_type": "code",
   "execution_count": 46,
   "metadata": {},
   "outputs": [],
   "source": [
    "from sqlalchemy import create_engine\n",
    "\n",
    "uri = 'mongodb://ufk2vps0a7j:p7bb9de7d5fa58cb72a105ae756813ba7' \\\n",
    "      '@ec2-38-129-168-191.compute-1.amazonaws.com:5432/deu4neob640'"
   ]
  },
  {
   "cell_type": "code",
   "execution_count": null,
   "metadata": {},
   "outputs": [],
   "source": [
    "engine = create_engine(uri)\n",
    "conn = engine.raw_connection()"
   ]
  },
  {
   "cell_type": "code",
   "execution_count": null,
   "metadata": {},
   "outputs": [],
   "source": [
    "df = pd.read_sql_query(query, conn)"
   ]
  },
  {
   "cell_type": "markdown",
   "metadata": {},
   "source": [
    "## API"
   ]
  },
  {
   "cell_type": "code",
   "execution_count": 20,
   "metadata": {},
   "outputs": [],
   "source": [
    "import requests"
   ]
  },
  {
   "cell_type": "code",
   "execution_count": 51,
   "metadata": {},
   "outputs": [],
   "source": [
    "api_key = '3e354e20d299abac4a6d28b3857a28ce'\n",
    "endpoint = f'''\n",
    "    http://www.apilayer.net/api/live\n",
    "    ? access_key = {api_key}\n",
    "    & source = USD\n",
    "    & format = 1\n",
    "'''"
   ]
  },
  {
   "cell_type": "code",
   "execution_count": 52,
   "metadata": {},
   "outputs": [],
   "source": [
    "endpoint = endpoint.replace(' ', '').replace('\\n','')"
   ]
  },
  {
   "cell_type": "code",
   "execution_count": 56,
   "metadata": {},
   "outputs": [
    {
     "data": {
      "text/plain": [
       "'http://www.apilayer.net/api/live?access_key=3e354e20d299abac4a6d28b3857a28ce&source=USD&format=1'"
      ]
     },
     "execution_count": 56,
     "metadata": {},
     "output_type": "execute_result"
    }
   ],
   "source": [
    "endpoint"
   ]
  },
  {
   "cell_type": "code",
   "execution_count": 53,
   "metadata": {},
   "outputs": [],
   "source": [
    "response = requests.get(endpoint)"
   ]
  },
  {
   "cell_type": "code",
   "execution_count": 54,
   "metadata": {},
   "outputs": [
    {
     "data": {
      "text/plain": [
       "(200, 'OK')"
      ]
     },
     "execution_count": 54,
     "metadata": {},
     "output_type": "execute_result"
    }
   ],
   "source": [
    "response.status_code, response.reason"
   ]
  },
  {
   "cell_type": "code",
   "execution_count": 57,
   "metadata": {},
   "outputs": [],
   "source": [
    "import json\n",
    "data = json.loads(response.content)"
   ]
  },
  {
   "cell_type": "code",
   "execution_count": 92,
   "metadata": {},
   "outputs": [],
   "source": [
    "import pandas as pd\n",
    "df = pd.DataFrame(data).reset_index().rename(columns={'index': 'currency'})"
   ]
  },
  {
   "cell_type": "code",
   "execution_count": 71,
   "metadata": {},
   "outputs": [],
   "source": [
    "df['currency'] = df.index"
   ]
  },
  {
   "cell_type": "code",
   "execution_count": 72,
   "metadata": {},
   "outputs": [
    {
     "data": {
      "text/html": [
       "<div>\n",
       "<style scoped>\n",
       "    .dataframe tbody tr th:only-of-type {\n",
       "        vertical-align: middle;\n",
       "    }\n",
       "\n",
       "    .dataframe tbody tr th {\n",
       "        vertical-align: top;\n",
       "    }\n",
       "\n",
       "    .dataframe thead th {\n",
       "        text-align: right;\n",
       "    }\n",
       "</style>\n",
       "<table border=\"1\" class=\"dataframe\">\n",
       "  <thead>\n",
       "    <tr style=\"text-align: right;\">\n",
       "      <th></th>\n",
       "      <th>success</th>\n",
       "      <th>terms</th>\n",
       "      <th>privacy</th>\n",
       "      <th>timestamp</th>\n",
       "      <th>source</th>\n",
       "      <th>quotes</th>\n",
       "      <th>currency</th>\n",
       "    </tr>\n",
       "  </thead>\n",
       "  <tbody>\n",
       "    <tr>\n",
       "      <th>USDAED</th>\n",
       "      <td>True</td>\n",
       "      <td>https://currencylayer.com/terms</td>\n",
       "      <td>https://currencylayer.com/privacy</td>\n",
       "      <td>1565366886</td>\n",
       "      <td>USD</td>\n",
       "      <td>3.672997</td>\n",
       "      <td>USDAED</td>\n",
       "    </tr>\n",
       "    <tr>\n",
       "      <th>USDAFN</th>\n",
       "      <td>True</td>\n",
       "      <td>https://currencylayer.com/terms</td>\n",
       "      <td>https://currencylayer.com/privacy</td>\n",
       "      <td>1565366886</td>\n",
       "      <td>USD</td>\n",
       "      <td>80.050210</td>\n",
       "      <td>USDAFN</td>\n",
       "    </tr>\n",
       "    <tr>\n",
       "      <th>USDALL</th>\n",
       "      <td>True</td>\n",
       "      <td>https://currencylayer.com/terms</td>\n",
       "      <td>https://currencylayer.com/privacy</td>\n",
       "      <td>1565366886</td>\n",
       "      <td>USD</td>\n",
       "      <td>107.929714</td>\n",
       "      <td>USDALL</td>\n",
       "    </tr>\n",
       "    <tr>\n",
       "      <th>USDAMD</th>\n",
       "      <td>True</td>\n",
       "      <td>https://currencylayer.com/terms</td>\n",
       "      <td>https://currencylayer.com/privacy</td>\n",
       "      <td>1565366886</td>\n",
       "      <td>USD</td>\n",
       "      <td>476.129742</td>\n",
       "      <td>USDAMD</td>\n",
       "    </tr>\n",
       "    <tr>\n",
       "      <th>USDANG</th>\n",
       "      <td>True</td>\n",
       "      <td>https://currencylayer.com/terms</td>\n",
       "      <td>https://currencylayer.com/privacy</td>\n",
       "      <td>1565366886</td>\n",
       "      <td>USD</td>\n",
       "      <td>1.785650</td>\n",
       "      <td>USDANG</td>\n",
       "    </tr>\n",
       "  </tbody>\n",
       "</table>\n",
       "</div>"
      ],
      "text/plain": [
       "        success                            terms  \\\n",
       "USDAED     True  https://currencylayer.com/terms   \n",
       "USDAFN     True  https://currencylayer.com/terms   \n",
       "USDALL     True  https://currencylayer.com/terms   \n",
       "USDAMD     True  https://currencylayer.com/terms   \n",
       "USDANG     True  https://currencylayer.com/terms   \n",
       "\n",
       "                                  privacy   timestamp source      quotes  \\\n",
       "USDAED  https://currencylayer.com/privacy  1565366886    USD    3.672997   \n",
       "USDAFN  https://currencylayer.com/privacy  1565366886    USD   80.050210   \n",
       "USDALL  https://currencylayer.com/privacy  1565366886    USD  107.929714   \n",
       "USDAMD  https://currencylayer.com/privacy  1565366886    USD  476.129742   \n",
       "USDANG  https://currencylayer.com/privacy  1565366886    USD    1.785650   \n",
       "\n",
       "       currency  \n",
       "USDAED   USDAED  \n",
       "USDAFN   USDAFN  \n",
       "USDALL   USDALL  \n",
       "USDAMD   USDAMD  \n",
       "USDANG   USDANG  "
      ]
     },
     "execution_count": 72,
     "metadata": {},
     "output_type": "execute_result"
    }
   ],
   "source": [
    "df.head()"
   ]
  },
  {
   "cell_type": "markdown",
   "metadata": {},
   "source": [
    "# Web Scraping"
   ]
  },
  {
   "cell_type": "markdown",
   "metadata": {},
   "source": [
    "## BeautifulSoup"
   ]
  },
  {
   "cell_type": "code",
   "execution_count": 94,
   "metadata": {},
   "outputs": [],
   "source": [
    "import requests"
   ]
  },
  {
   "cell_type": "code",
   "execution_count": 95,
   "metadata": {},
   "outputs": [],
   "source": [
    "response = requests.get('https://www.cntraveler.com/gallery/best-bars-in-paris')"
   ]
  },
  {
   "cell_type": "code",
   "execution_count": 96,
   "metadata": {},
   "outputs": [
    {
     "data": {
      "text/plain": [
       "200"
      ]
     },
     "execution_count": 96,
     "metadata": {},
     "output_type": "execute_result"
    }
   ],
   "source": [
    "response.status_code"
   ]
  },
  {
   "cell_type": "code",
   "execution_count": 99,
   "metadata": {},
   "outputs": [],
   "source": [
    "from bs4 import BeautifulSoup"
   ]
  },
  {
   "cell_type": "code",
   "execution_count": 102,
   "metadata": {},
   "outputs": [],
   "source": [
    "html = BeautifulSoup(response.content, 'lxml')"
   ]
  },
  {
   "cell_type": "code",
   "execution_count": 150,
   "metadata": {},
   "outputs": [],
   "source": [
    "restaurants = html.find_all('section', {\n",
    "    'class': 'gallery-item'\n",
    "})"
   ]
  },
  {
   "cell_type": "code",
   "execution_count": 154,
   "metadata": {},
   "outputs": [
    {
     "data": {
      "text/plain": [
       "'Bisou'"
      ]
     },
     "execution_count": 154,
     "metadata": {},
     "output_type": "execute_result"
    }
   ],
   "source": [
    "restaurants[0].find('h2').text"
   ]
  },
  {
   "cell_type": "code",
   "execution_count": 145,
   "metadata": {},
   "outputs": [
    {
     "data": {
      "text/plain": [
       "'https://media.cntraveler.com/photos/5a81e9a486e4b63c297d47a9/master/w_820,c_limit/Bisou14-%25C2%25A9-Ronan-Le-May.jpg'"
      ]
     },
     "execution_count": 145,
     "metadata": {},
     "output_type": "execute_result"
    }
   ],
   "source": [
    "restaurants[0].find('source').attrs['srcset']"
   ]
  },
  {
   "cell_type": "code",
   "execution_count": 168,
   "metadata": {},
   "outputs": [
    {
     "name": "stdout",
     "output_type": "stream",
     "text": [
      "None\n"
     ]
    }
   ],
   "source": [
    "print(restaurants[10].find('source'))"
   ]
  },
  {
   "cell_type": "code",
   "execution_count": 190,
   "metadata": {},
   "outputs": [
    {
     "data": {
      "text/plain": [
       "'The outside of this bar is so nondescript—with graffiti and posters covering the doors, which are devoid of any signage—you may walk right past it. But once inside you\\'ll feel as if you\\'ve entered a recording studio circa 1977. There\\'s an unfinished, raw feeling—from exposed sheetrock on the walls to the sound proofing on the ceiling to the gold curtains sectioning the small space. The focus is on drinks made exclusively from French spirits and liqueurs. Case in point: on one visit, the bar was serving \"Drop the Beet,\" made with Normandy Calvados, beet purée, honey syrup, and fresh lemon juice (it\\'s super beet-y and practically a meal in itself!) and the \"Saix en Provence\" made with brandy from Armagnac, spicy watermelon syrup, and lavender essence.'"
      ]
     },
     "execution_count": 190,
     "metadata": {},
     "output_type": "execute_result"
    }
   ],
   "source": [
    "restaurants[-1].find('div', {'class': 'dek'}).text"
   ]
  },
  {
   "cell_type": "code",
   "execution_count": 181,
   "metadata": {},
   "outputs": [],
   "source": [
    "data = []\n",
    "for r in restaurants:\n",
    "    data.append({\n",
    "        'name': r.find('h2').text,\n",
    "        'price': r.find('p', {'class': 'price'}).text,\n",
    "        'description': r.find('div', {'class': 'dek'}).text,\n",
    "        'image_url': r.find('source').attrs['srcset'] if r.find('source') else None\n",
    "    })"
   ]
  },
  {
   "cell_type": "code",
   "execution_count": 188,
   "metadata": {},
   "outputs": [],
   "source": [
    "df = pd.DataFrame(data)"
   ]
  },
  {
   "cell_type": "code",
   "execution_count": 194,
   "metadata": {},
   "outputs": [
    {
     "data": {
      "text/html": [
       "<div>\n",
       "<style scoped>\n",
       "    .dataframe tbody tr th:only-of-type {\n",
       "        vertical-align: middle;\n",
       "    }\n",
       "\n",
       "    .dataframe tbody tr th {\n",
       "        vertical-align: top;\n",
       "    }\n",
       "\n",
       "    .dataframe thead th {\n",
       "        text-align: right;\n",
       "    }\n",
       "</style>\n",
       "<table border=\"1\" class=\"dataframe\">\n",
       "  <thead>\n",
       "    <tr style=\"text-align: right;\">\n",
       "      <th></th>\n",
       "      <th>description</th>\n",
       "      <th>image_url</th>\n",
       "      <th>name</th>\n",
       "      <th>price</th>\n",
       "    </tr>\n",
       "  </thead>\n",
       "  <tbody>\n",
       "    <tr>\n",
       "      <th>0</th>\n",
       "      <td>There's no menu at this small bar off the boul...</td>\n",
       "      <td>https://media.cntraveler.com/photos/5a81e9a486...</td>\n",
       "      <td>Bisou</td>\n",
       "      <td>$$</td>\n",
       "    </tr>\n",
       "    <tr>\n",
       "      <th>1</th>\n",
       "      <td>Located just around the corner from Septime—of...</td>\n",
       "      <td>https://media.cntraveler.com/photos/5cf978fd66...</td>\n",
       "      <td>Septime La Cave</td>\n",
       "      <td>$$</td>\n",
       "    </tr>\n",
       "    <tr>\n",
       "      <th>2</th>\n",
       "      <td>Since opening in the haute Marais in 2013, it’...</td>\n",
       "      <td>https://media.cntraveler.com/photos/5a80a85da2...</td>\n",
       "      <td>Le Mary Celeste</td>\n",
       "      <td>$$</td>\n",
       "    </tr>\n",
       "    <tr>\n",
       "      <th>3</th>\n",
       "      <td>In a time when so many other Parisian bars hav...</td>\n",
       "      <td>None</td>\n",
       "      <td>Au Rendez-Vous des Amis</td>\n",
       "      <td>$$</td>\n",
       "    </tr>\n",
       "    <tr>\n",
       "      <th>4</th>\n",
       "      <td>Despite having received a facelift after a mul...</td>\n",
       "      <td>https://media.cntraveler.com/photos/5ab293f060...</td>\n",
       "      <td>Bar Hemingway</td>\n",
       "      <td>$$</td>\n",
       "    </tr>\n",
       "  </tbody>\n",
       "</table>\n",
       "</div>"
      ],
      "text/plain": [
       "                                         description  \\\n",
       "0  There's no menu at this small bar off the boul...   \n",
       "1  Located just around the corner from Septime—of...   \n",
       "2  Since opening in the haute Marais in 2013, it’...   \n",
       "3  In a time when so many other Parisian bars hav...   \n",
       "4  Despite having received a facelift after a mul...   \n",
       "\n",
       "                                           image_url                     name  \\\n",
       "0  https://media.cntraveler.com/photos/5a81e9a486...                    Bisou   \n",
       "1  https://media.cntraveler.com/photos/5cf978fd66...          Septime La Cave   \n",
       "2  https://media.cntraveler.com/photos/5a80a85da2...          Le Mary Celeste   \n",
       "3                                               None  Au Rendez-Vous des Amis   \n",
       "4  https://media.cntraveler.com/photos/5ab293f060...            Bar Hemingway   \n",
       "\n",
       "  price  \n",
       "0    $$  \n",
       "1    $$  \n",
       "2    $$  \n",
       "3    $$  \n",
       "4    $$  "
      ]
     },
     "execution_count": 194,
     "metadata": {},
     "output_type": "execute_result"
    }
   ],
   "source": [
    "df.head()"
   ]
  },
  {
   "cell_type": "code",
   "execution_count": 187,
   "metadata": {},
   "outputs": [
    {
     "name": "stdout",
     "output_type": "stream",
     "text": [
      "{'description': 'Nico de Soto is something of a cocktail legend: After getting '\n",
      "                'his start with the Experimental Cocktail Group (and winning '\n",
      "                'various awards, including Most Influential Bartender at '\n",
      "                \"Paris's Cocktail & Spirits show in 2014), he opened his own \"\n",
      "                'joint in New York, called Mace. Danico is his first piloted '\n",
      "                \"project back on his home turf and it's a definite winner. \"\n",
      "                'While the menu changes seasonally, its easy-to-digest format '\n",
      "                'does not: Each of the 12 cocktails come with descriptions (in '\n",
      "                'English) that show how the drink is served (shaken, '\n",
      "                'carbonated, stirred, etc.) and how it tastes (\"smoky and '\n",
      "                'silky,\" \"bitter and tropical,\" \"blue and smurfy,\" etc.) The '\n",
      "                'last time we visited, the muralist Supakitch had drawn quirky '\n",
      "                'illustrations to accompany each drink, like one of a young '\n",
      "                'Macaulay Culkin for the Home Alone (made with spiced mulled '\n",
      "                'wine and Prosecco) or Elvis Presley for the Elvis Parsley '\n",
      "                '(with cachaca, rum, banana, parsley and absinthe).',\n",
      " 'image_url': None,\n",
      " 'name': 'Danico',\n",
      " 'price': '$$'}\n"
     ]
    }
   ],
   "source": [
    "pprint(data[10])"
   ]
  },
  {
   "cell_type": "code",
   "execution_count": 193,
   "metadata": {},
   "outputs": [
    {
     "name": "stdout",
     "output_type": "stream",
     "text": [
      "<section class=\"gallery-item gallery-item-venue\" data-reactid=\"528\">\n",
      " <div class=\"gallery-item-image__container\" data-reactid=\"529\">\n",
      "  <div class=\"component-lazy pending\" data-component=\"Lazy\" data-reactid=\"530\">\n",
      "  </div>\n",
      " </div>\n",
      " <p class=\"credit\" data-reactid=\"531\">\n",
      "  Maxime Prangé\n",
      " </p>\n",
      " <div data-reactid=\"532\">\n",
      "  <div class=\"image-content-container\" data-reactid=\"533\">\n",
      "   <p class=\"type\" data-reactid=\"534\">\n",
      "    bar\n",
      "   </p>\n",
      "   <a data-reactid=\"535\" href=\"/bars/paris/little-red-door\">\n",
      "    <h2 class=\"hed\" data-reactid=\"536\">\n",
      "     Little Red Door\n",
      "    </h2>\n",
      "   </a>\n",
      "   <div class=\"ratings\" data-reactid=\"537\">\n",
      "    <p class=\"price\" data-reactid=\"538\">\n",
      "     $$\n",
      "    </p>\n",
      "   </div>\n",
      "   <div class=\"dek\" data-reactid=\"539\">\n",
      "    <div data-reactid=\"540\">\n",
      "     <p data-reactid=\"541\">\n",
      "      Opened by Experimental Cocktail Club protégée Timothée Prangé and Dotan Shalev (who also own the newer Lulu White in Pigalle), the drinks here are beyond clever and well thought-out. The menu itself is an actual work of art with each of the 14 cocktails getting a two-page illustrative treatment by a local artist. Only the drink’s name is listed, though, as they encourage cocktail aficionados to be brave guess the ingredients upon the first taste. (But for those who don’t want to risk it, there is a card that pulls out revealing what’s inside.) They update the menu about twice a year—on a recent visit, when the offerings were part of the \"Evocative Menu,\" you might've have found such concoctions as the Madre de Dios made with tequila, Grand Marnier, Lillet Blanc and carrot seed. Drinks are served in all sorts of vessels from vintage glassware to quirky porcelain bust mugs.\n",
      "     </p>\n",
      "    </div>\n",
      "   </div>\n",
      "  </div>\n",
      " </div>\n",
      "</section>\n"
     ]
    }
   ],
   "source": [
    "print(restaurants[-4].prettify())"
   ]
  },
  {
   "cell_type": "code",
   "execution_count": null,
   "metadata": {},
   "outputs": [],
   "source": [
    "restaurants[0]."
   ]
  },
  {
   "cell_type": "code",
   "execution_count": 111,
   "metadata": {},
   "outputs": [
    {
     "data": {
      "text/plain": [
       "<div class=\"image-content-container\" data-reactid=\"155\"><p class=\"type\" data-reactid=\"156\">bar</p><a data-reactid=\"157\" href=\"/bars/paris/bisou\"><h2 class=\"hed\" data-reactid=\"158\">Bisou</h2></a><div class=\"ratings\" data-reactid=\"159\"><p class=\"price\" data-reactid=\"160\">$$</p></div><div class=\"dek\" data-reactid=\"161\"><div data-reactid=\"162\"><p data-reactid=\"163\">There's no menu at this small bar off the boulevard in the Haute Marais. It's all about what you like—and what the bartender feels like making. You discuss your liquor and flavors of choice with whomever's shaking things up, and voilà! A mysterious cocktail will appear. Considering its small size and romantic vibe, it's best for a date or a small group of friends, largely of the Instagram generation (the bar is done up in Millennial Pink).</p></div></div></div>"
      ]
     },
     "execution_count": 111,
     "metadata": {},
     "output_type": "execute_result"
    }
   ],
   "source": [
    "restaurants[0]"
   ]
  },
  {
   "cell_type": "code",
   "execution_count": 109,
   "metadata": {},
   "outputs": [
    {
     "data": {
      "text/plain": [
       "25"
      ]
     },
     "execution_count": 109,
     "metadata": {},
     "output_type": "execute_result"
    }
   ],
   "source": [
    "html.find_all('div', {\n",
    "    'class': 'image-content-container'\n",
    "})"
   ]
  },
  {
   "cell_type": "code",
   "execution_count": 112,
   "metadata": {},
   "outputs": [
    {
     "data": {
      "text/plain": [
       "[<img alt=\"Condé Nast Traveler\" class=\"cnt-print-logo\" data-reactid=\"8\" src=\"/images/CNT-50px-regular.svg\"/>,\n",
       " <img alt=\"Condé Nast Traveler\" class=\"cntLogo\" data-reactid=\"14\" src=\"/images/CNT-50px-inverse.svg\"/>,\n",
       " <img alt=\"Subscribe to CNTraveler\" src=\"https://subscribe.condenet.com/images_covers/cover_travel_100.jpg\"/>,\n",
       " <img alt=\"\" src=\"https://media.cntraveler.com/photos/5a159d34bd93c919415ec505/3:2/w_490,c_limit/GettyImages-483654478.jpg\"/>,\n",
       " <img alt=\"Bar Hemingway Ritz Hotel Paris\" data-reactid=\"79\" src=\"https://media.cntraveler.com/photos/5ab293f060ef3f51835c5ca5/4:3/w_420,c_limit/Bar-Hemingway-%25C2%25A9-Vincent-Leroux-(1).jpg\" title=\"\"/>,\n",
       " <img alt=\"Bisou Paris Bar\" data-reactid=\"152\" src=\"https://media.cntraveler.com/photos/5a81e9a486e4b63c297d47a9/master/w_420,c_limit/Bisou14-%25C2%25A9-Ronan-Le-May.jpg\" title=\"\"/>,\n",
       " <img alt=\"Europe, France, Paris, Bar, Septime la Cave\" data-reactid=\"170\" src=\"https://media.cntraveler.com/photos/5cf978fd6640e72581e1d197/master/w_420,c_limit/Septime-La-Cave1.jpg\" title=\"\"/>,\n",
       " <img alt=\"Le Mary Celeste Bar Paris\" data-reactid=\"194\" src=\"https://media.cntraveler.com/photos/5a80a85da2fdaf4c74bb5f50/master/w_420,c_limit/Le-Mary-Celeste_Fabien-Voileau_2018_opt-9939.jpg\" title=\"\"/>,\n",
       " <img alt=\"Bar Hemingway Ritz Hotel Paris\" data-reactid=\"230\" src=\"https://media.cntraveler.com/photos/5ab293f060ef3f51835c5ca5/master/w_420,c_limit/Bar-Hemingway-%25C2%25A9-Vincent-Leroux-(1).jpg\" title=\"\"/>,\n",
       " <img alt=\"Europe, France, Paris, Bar, Le Comptoir Géneral\" data-reactid=\"248\" src=\"https://media.cntraveler.com/photos/5cf979ee6640e76998e1d199/master/w_420,c_limit/Le-Comptoir-Ge%25CC%2581neral_2019_Comptoir-Ge%25CC%2581ne%25CC%2581ral-4-%25C2%25A9Matthieu-Salvaing.jpg\" title=\"\"/>,\n",
       " <img alt=\"Moonshiner bar paris\" data-reactid=\"272\" src=\"https://media.cntraveler.com/photos/5a81e9a71eb1e03b9678c16d/master/w_420,c_limit/Moonshiner_DSC_2734.jpg\" title=\"\"/>,\n",
       " <img alt=\"Coper Bay Paris Bar\" data-reactid=\"308\" src=\"https://media.cntraveler.com/photos/5a80a8577211e1293261ce4a/master/w_420,c_limit/Copper-Bay__2018_COPPERBAY-3-%25C2%25A9I.Mathie-HD.jpg\" title=\"\"/>,\n",
       " <img alt=\"Candelaria Bar Paris\" data-reactid=\"326\" src=\"https://media.cntraveler.com/photos/5a80a85be9c49e2e4d80a376/master/w_420,c_limit/Candelaria__2018_Outside-Candelaria-300-DPI.jpg\" title=\"\"/>,\n",
       " <img alt=\"Subscribe to CNTraveler\" src=\"https://subscribe.condenet.com/images_covers/cover_travel_160.jpg\"/>]"
      ]
     },
     "execution_count": 112,
     "metadata": {},
     "output_type": "execute_result"
    }
   ],
   "source": [
    "html.find_all('img')"
   ]
  },
  {
   "cell_type": "code",
   "execution_count": 205,
   "metadata": {},
   "outputs": [
    {
     "data": {
      "text/html": [
       "<div>\n",
       "<style scoped>\n",
       "    .dataframe tbody tr th:only-of-type {\n",
       "        vertical-align: middle;\n",
       "    }\n",
       "\n",
       "    .dataframe tbody tr th {\n",
       "        vertical-align: top;\n",
       "    }\n",
       "\n",
       "    .dataframe thead th {\n",
       "        text-align: right;\n",
       "    }\n",
       "</style>\n",
       "<table border=\"1\" class=\"dataframe\">\n",
       "  <thead>\n",
       "    <tr style=\"text-align: right;\">\n",
       "      <th></th>\n",
       "      <th>nombre</th>\n",
       "      <th>edad</th>\n",
       "    </tr>\n",
       "  </thead>\n",
       "  <tbody>\n",
       "    <tr>\n",
       "      <th>0</th>\n",
       "      <td>Carlos</td>\n",
       "      <td>23</td>\n",
       "    </tr>\n",
       "    <tr>\n",
       "      <th>1</th>\n",
       "      <td>Robert</td>\n",
       "      <td>41</td>\n",
       "    </tr>\n",
       "    <tr>\n",
       "      <th>2</th>\n",
       "      <td>Eduardo</td>\n",
       "      <td>31</td>\n",
       "    </tr>\n",
       "  </tbody>\n",
       "</table>\n",
       "</div>"
      ],
      "text/plain": [
       "    nombre  edad\n",
       "0   Carlos    23\n",
       "1   Robert    41\n",
       "2  Eduardo    31"
      ]
     },
     "execution_count": 205,
     "metadata": {},
     "output_type": "execute_result"
    }
   ],
   "source": [
    "a = pd.DataFrame({\n",
    "    'nombre': ['Carlos', 'Robert', 'Eduardo'],\n",
    "    'edad': [23, 41, 31]\n",
    "})\n",
    "a"
   ]
  },
  {
   "cell_type": "code",
   "execution_count": 206,
   "metadata": {},
   "outputs": [
    {
     "data": {
      "text/html": [
       "<div>\n",
       "<style scoped>\n",
       "    .dataframe tbody tr th:only-of-type {\n",
       "        vertical-align: middle;\n",
       "    }\n",
       "\n",
       "    .dataframe tbody tr th {\n",
       "        vertical-align: top;\n",
       "    }\n",
       "\n",
       "    .dataframe thead th {\n",
       "        text-align: right;\n",
       "    }\n",
       "</style>\n",
       "<table border=\"1\" class=\"dataframe\">\n",
       "  <thead>\n",
       "    <tr style=\"text-align: right;\">\n",
       "      <th></th>\n",
       "      <th>nombre</th>\n",
       "      <th>ciudad</th>\n",
       "    </tr>\n",
       "  </thead>\n",
       "  <tbody>\n",
       "    <tr>\n",
       "      <th>0</th>\n",
       "      <td>Carlos</td>\n",
       "      <td>Lima</td>\n",
       "    </tr>\n",
       "    <tr>\n",
       "      <th>1</th>\n",
       "      <td>Eduardo</td>\n",
       "      <td>Arequipa</td>\n",
       "    </tr>\n",
       "    <tr>\n",
       "      <th>2</th>\n",
       "      <td>Julio</td>\n",
       "      <td>Trujillo</td>\n",
       "    </tr>\n",
       "  </tbody>\n",
       "</table>\n",
       "</div>"
      ],
      "text/plain": [
       "    nombre    ciudad\n",
       "0   Carlos      Lima\n",
       "1  Eduardo  Arequipa\n",
       "2    Julio  Trujillo"
      ]
     },
     "execution_count": 206,
     "metadata": {},
     "output_type": "execute_result"
    }
   ],
   "source": [
    "b = pd.DataFrame({\n",
    "    'nombre': ['Carlos', 'Eduardo', 'Julio'],\n",
    "    'ciudad': ['Lima', 'Arequipa', 'Trujillo']\n",
    "})\n",
    "b"
   ]
  },
  {
   "cell_type": "code",
   "execution_count": 204,
   "metadata": {},
   "outputs": [
    {
     "data": {
      "text/html": [
       "<div>\n",
       "<style scoped>\n",
       "    .dataframe tbody tr th:only-of-type {\n",
       "        vertical-align: middle;\n",
       "    }\n",
       "\n",
       "    .dataframe tbody tr th {\n",
       "        vertical-align: top;\n",
       "    }\n",
       "\n",
       "    .dataframe thead th {\n",
       "        text-align: right;\n",
       "    }\n",
       "</style>\n",
       "<table border=\"1\" class=\"dataframe\">\n",
       "  <thead>\n",
       "    <tr style=\"text-align: right;\">\n",
       "      <th></th>\n",
       "      <th>nombre</th>\n",
       "      <th>edad</th>\n",
       "      <th>ciudad</th>\n",
       "    </tr>\n",
       "  </thead>\n",
       "  <tbody>\n",
       "    <tr>\n",
       "      <th>0</th>\n",
       "      <td>Carlos</td>\n",
       "      <td>23.0</td>\n",
       "      <td>Lima</td>\n",
       "    </tr>\n",
       "    <tr>\n",
       "      <th>1</th>\n",
       "      <td>Robert</td>\n",
       "      <td>41.0</td>\n",
       "      <td>NaN</td>\n",
       "    </tr>\n",
       "    <tr>\n",
       "      <th>2</th>\n",
       "      <td>Eduardo</td>\n",
       "      <td>31.0</td>\n",
       "      <td>Arequipa</td>\n",
       "    </tr>\n",
       "    <tr>\n",
       "      <th>3</th>\n",
       "      <td>Julio</td>\n",
       "      <td>NaN</td>\n",
       "      <td>Trujillo</td>\n",
       "    </tr>\n",
       "  </tbody>\n",
       "</table>\n",
       "</div>"
      ],
      "text/plain": [
       "    nombre  edad    ciudad\n",
       "0   Carlos  23.0      Lima\n",
       "1   Robert  41.0       NaN\n",
       "2  Eduardo  31.0  Arequipa\n",
       "3    Julio   NaN  Trujillo"
      ]
     },
     "execution_count": 204,
     "metadata": {},
     "output_type": "execute_result"
    }
   ],
   "source": [
    "pd.merge(a, b, how='outer', on='nombre')"
   ]
  },
  {
   "cell_type": "code",
   "execution_count": null,
   "metadata": {},
   "outputs": [],
   "source": []
  }
 ],
 "metadata": {
  "kernelspec": {
   "display_name": "Python 3",
   "language": "python",
   "name": "python3"
  },
  "language_info": {
   "codemirror_mode": {
    "name": "ipython",
    "version": 3
   },
   "file_extension": ".py",
   "mimetype": "text/x-python",
   "name": "python",
   "nbconvert_exporter": "python",
   "pygments_lexer": "ipython3",
   "version": "3.6.5"
  }
 },
 "nbformat": 4,
 "nbformat_minor": 2
}
