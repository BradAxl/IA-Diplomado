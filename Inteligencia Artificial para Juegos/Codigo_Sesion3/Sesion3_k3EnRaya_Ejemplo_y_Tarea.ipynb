{
  "nbformat": 4,
  "nbformat_minor": 0,
  "metadata": {
    "colab": {
      "name": "Sesion3_k3EnRaya_Ejemplo_y_Tarea",
      "provenance": [],
      "collapsed_sections": [
        "x7v3e_6NLwcY",
        "7YN_jlv-Lwcc",
        "CkxCN7wlLwcg",
        "B_-mali8Lwco"
      ]
    },
    "kernelspec": {
      "name": "python3",
      "display_name": "Python 3"
    }
  },
  "cells": [
    {
      "cell_type": "markdown",
      "metadata": {
        "id": "MXwFDyxM1rQ8",
        "colab_type": "text"
      },
      "source": [
        "# Diplomatura de Especialización en Desarrollo de Aplicaciones con Inteligencia Artificial - Inteligencia Artificial para Juegos (Game AI) - Sesión 3 (Ejemplo y Tarea)"
      ]
    },
    {
      "cell_type": "markdown",
      "metadata": {
        "colab_type": "text",
        "id": "HWV9A-zMtpFg"
      },
      "source": [
        "<font color='orange'>Entorno de *k en raya* (TicTacToe, cuando $k=3$) para búsqueda adversarial en un juego de suma constante</font>"
      ]
    },
    {
      "cell_type": "markdown",
      "metadata": {
        "id": "fpQNhDpPLwcX",
        "colab_type": "text"
      },
      "source": [
        "El presente notebook aborda el problema de busqueda adversarial en el juego de k-en-raya (generalizacón del 3 en raya pero en tableros de $h$ filas por $v$ columnas y gana el jugador que haga primero una raya de tamaño $k$, uniendo $k$ piezas adyacentes en forma horizontal, vertical o diagonal).\n",
        "\n",
        "\n",
        "La mayor parte del entorno de juego (clase TicTacToe) esta implementada, solo esta faltando implementar la funcion que calcula la utilidad de un nuevo estado (funcion <b>compute_utility</b>). Está implementado también el algoritmo MIN-MAX que puede decidir movidas en el juego implementado.\n",
        "\n",
        "Recordar que en el algoritmo `minimax`, los valores altos de utilidad son buenos para el jugador MAX.\n",
        "\n",
        "Considerar que las fichas del jugador MAX son **X**, mientas que las fichas del jugador MIN son **O**."
      ]
    },
    {
      "cell_type": "markdown",
      "metadata": {
        "id": "mfqBQIBV7WOS",
        "colab_type": "text"
      },
      "source": [
        "### TAREA:\n",
        "Modificar la función `compute_utility`, de la clase `TicTacToe`, para que funcione para el caso general ($k>1$). Se habilitará una carpeta en el campus virtual, para que suban sus notebooks resueltos."
      ]
    },
    {
      "cell_type": "markdown",
      "metadata": {
        "id": "x7v3e_6NLwcY",
        "colab_type": "text"
      },
      "source": [
        "### Clase <b>Game</b>\n",
        "\n",
        "Esta es una clase genérica para definir un entorno de juego. Es parecida a la clase `Problem` de búsqueda, pero en vez del método que devuelve el costo de camino se tiene un metodo que devuelve la utilidad de un jugador en un estado dado. También la funcion test de objetivo es reemplazada por un test de estado terminal (`terminal_test`). Para crear una clase de un juego específico se debe hacer una subclase de `Game` e implementar los métodos actions, `result`, `utility`, y `terminal_test`. El atributo `.initial` (estado inicial del juego) deberá ser inicializado en el constructor de la clase concreta. No editar esta clase `Game`."
      ]
    },
    {
      "cell_type": "code",
      "metadata": {
        "id": "R-Lzee4pLwcZ",
        "colab_type": "code",
        "colab": {}
      },
      "source": [
        "class Game:\n",
        "\n",
        "    def actions(self, state):\n",
        "        \"\"\"Retorna una lista de movidas permitidas en el estado actual state.\"\"\"\n",
        "        raise NotImplementedError\n",
        "\n",
        "    def result(self, state, move):\n",
        "        \"\"\"Retorna el nuevo estado que resulta de hacer una movida move en el estado state.\"\"\"\n",
        "        raise NotImplementedError\n",
        "\n",
        "    def utility(self, state, player):\n",
        "        \"\"\"Retorna el valor de utilidad para el jugador player en el estado terminal state.\"\"\"\n",
        "        raise NotImplementedError\n",
        "\n",
        "    def terminal_test(self, state):\n",
        "        \"\"\"Retorna True si el estado state es un estado terminal del juego.\"\"\"\n",
        "        return not self.actions(state)\n",
        "\n",
        "    def to_move(self, state):\n",
        "        \"\"\"Retorna el jugador que le toca jugar en el presente estado state.\"\"\"\n",
        "        return state.to_move\n",
        "\n",
        "    def display(self, state):\n",
        "        \"\"\"Imprime o displaya el state.\"\"\"\n",
        "        print(state)\n",
        "\n",
        "    def __repr__(self):\n",
        "        return '<{}>'.format(self.__class__.__name__)\n",
        "\n",
        "    def play_game(self, *players, verbose):\n",
        "        \"\"\"Controlador del juego:\n",
        "        Llama alternadamente a cada jugador pasandole el estado actual del juego y ejecutando la movida retornada.\"\"\"\n",
        "        state = self.initial\n",
        "        numJugada = 0\n",
        "        while True:\n",
        "            for player in players:\n",
        "                move = player(self, state)\n",
        "                state = self.result(state, move)\n",
        "                numJugada = numJugada + 1\n",
        "                if verbose:\n",
        "                  print(\"Jugada\", numJugada, \": Turno del jugador\", player.__name__)\n",
        "                  self.display(state)\n",
        "                  print(\"*************************************************\")\n",
        "                if self.terminal_test(state):\n",
        "                    print(\"Jugada\", numJugada, \"(final): Turno del jugador\", player.__name__)\n",
        "                    self.display(state)\n",
        "                    return self.utility(state, self.to_move(self.initial)) #retorna utilidad del 1er jugador al acabar el juego"
      ],
      "execution_count": 0,
      "outputs": []
    },
    {
      "cell_type": "markdown",
      "metadata": {
        "id": "7YN_jlv-Lwcc",
        "colab_type": "text"
      },
      "source": [
        "### Clase <b>TicTacToe: Implementado únicamente para 3 en raya</b>\n",
        "\n",
        "Esta es una subclase de `Game` para definir el entorno del juego k en Raya (generalizacion de `TicTacToe`). Las dimensiones del tablero son definidas en el constructor (usando los argumentos: h=número de filas, v=número de columnas, k=número de elementos en raya para ganar). Primer jugador (Max) es 'X' y el otro jugador (Min) es 'O'. Un estado en este juego es una tupla (`GameState`) con los siguientes campos:\n",
        " - to_move: almacena el jugador que le toca jugar \n",
        " - utility: almacena la utilidad del estado\n",
        " - board: almacena las posiciones ocupadas en el tablero en la forma de un dicccionario de entradas {(x, y): Player}, donde Player puede ser 'X' o 'O'\n",
        " - moves: almacena las movidas posibles a partir del estado en la forma de una lista de tuplas que representan posiciones (x, y) "
      ]
    },
    {
      "cell_type": "code",
      "metadata": {
        "id": "86xw9EY9Z300",
        "colab_type": "code",
        "colab": {}
      },
      "source": [
        "from collections import namedtuple\n",
        "GameState = namedtuple('GameState', 'to_move, utility, board, moves') #Un estado es una tupla con nombres de campos (namedtuple)\n",
        "import random\n",
        "import itertools\n",
        "import copy\n",
        "\n",
        "class TicTacToe(Game):\n",
        "    \n",
        "    def __init__(self, h=3, v=3, k=3):\n",
        "        self.h = h\n",
        "        self.v = v\n",
        "        self.k = k\n",
        "\n",
        "        moves = [(x, y) for x in range(1, h + 1)\n",
        "                 for y in range(1, v + 1)]\n",
        "        self.initial = GameState(to_move='X', utility=0, board={}, moves=moves)\n",
        "\n",
        "    def actions(self, state):\n",
        "        \"\"\"Movidas legales son todas las posiciones aun sin marcar (el estado almacena las movidas legales)\"\"\"\n",
        "        return state.moves\n",
        "\n",
        "    def result(self, state, move):\n",
        "        \"\"\"Retorna el nuevo estado de hacer la movida move en el estado state .\"\"\"\n",
        "        if move not in state.moves:\n",
        "            return state  # Si es una movida ilegal retorna sin cambiar el estado\n",
        "        board = state.board.copy()\n",
        "        board[move] = state.to_move\n",
        "        moves = list(state.moves)\n",
        "        moves.remove(move)\n",
        "        return GameState(to_move=('O' if state.to_move == 'X' else 'X'),\n",
        "                         utility=self.compute_utility(board, move, state.to_move),\n",
        "                         board=board, moves=moves)\n",
        "\n",
        "    def utility(self, state, player):\n",
        "        \"\"\"Retorna la utilidad del player en estado terminal state; 1 si ganó, -1 si perdió, 0 empate.\"\"\"\n",
        "        return state.utility if player == 'X' else -state.utility\n",
        "\n",
        "    def terminal_test(self, state):\n",
        "        \"\"\"Un estado es terminal si hay un ganador o no hay mas movidas posibles.\"\"\"\n",
        "        return state.utility != 0 or len(state.moves) == 0\n",
        "\n",
        "    def display(self, state):\n",
        "        board = state.board\n",
        "        for x in range(1, self.h + 1):\n",
        "            for y in range(1, self.v + 1):\n",
        "                print(board.get((x, y), '.'), end=' ')\n",
        "            print()\n",
        "\n",
        "    def compute_utility(self, board, move, player):\n",
        "        \"\"\"Retorna  1 si player='X'  ha llegado a estado terminal ganador con movida move, \n",
        "           Retorna -1 si player='O' ha llegado a estado terminal ganador con movida move; \n",
        "           Retornas 0 en cualquier otro caso\"\"\"\n",
        "        #TODO\n",
        "        #Cálculo de utilidad para el caso k=3. Modificar para el caso general (k>1)\n",
        "        xa, ya = move\n",
        "        # Horizontal\n",
        "        last_mark = board.get((xa,ya))\n",
        "        \n",
        "        if (last_mark == 'X'):\n",
        "            for jj in range(1,8+1):\n",
        "                if (jj == 1):\n",
        "                    x_step = 1\n",
        "                    y_step = 0\n",
        "                elif (jj == 2):\n",
        "                    x_step = -1\n",
        "                    y_step = 0\n",
        "                elif (jj == 3):\n",
        "                    x_step = 0\n",
        "                    y_step = 1\n",
        "                elif (jj == 4):\n",
        "                    x_step = 0\n",
        "                    y_step = -1\n",
        "                elif (jj == 5):\n",
        "                    x_step = 1\n",
        "                    y_step = 1\n",
        "                elif (jj == 6):\n",
        "                    x_step = -1\n",
        "                    y_step = -1\n",
        "                elif (jj == 7):\n",
        "                    x_step = +1\n",
        "                    y_step = -1\n",
        "                elif (jj == 8):\n",
        "                    x_step = -1\n",
        "                    y_step = +1\n",
        "                    \n",
        "                for ii in range(1,self.k+1):     \n",
        "                    x_new = xa + x_step\n",
        "                    y_new = ya + y_step\n",
        "                \n",
        "                    if ((x_new < 0)&(self.h < x_new)&(y_new < 0)&(self.v < y_new)):\n",
        "                        #si te saliste, mira la siguiente forma de buscar k en raya\n",
        "                        continue\n",
        "                \n",
        "                    mark_new = board.get((x_new, y_new))\n",
        "                \n",
        "                    if mark_new == 'O':\n",
        "                    # no gano nadie\n",
        "                        return 0\n",
        "                    if ii == self.k:\n",
        "                        if mark_new == 'X':\n",
        "                            return 1\n",
        "                return 0\n",
        "            \n",
        "        else:\n",
        "            \n",
        "            for jj in range(1,8+1):\n",
        "                if (jj == 1):\n",
        "                    x_step = 1\n",
        "                    y_step = 0\n",
        "                elif (jj == 2):\n",
        "                    x_step = -1\n",
        "                    y_step = 0\n",
        "                elif (jj == 3):\n",
        "                    x_step = 0\n",
        "                    y_step = 1\n",
        "                elif (jj == 4):\n",
        "                    x_step = 0\n",
        "                    y_step = -1\n",
        "                elif (jj == 5):\n",
        "                    x_step = 1\n",
        "                    y_step = 1\n",
        "                elif (jj == 6):\n",
        "                    x_step = -1\n",
        "                    y_step = -1\n",
        "                elif (jj == 7):\n",
        "                    x_step = +1\n",
        "                    y_step = -1\n",
        "                elif (jj == 8):\n",
        "                    x_step = -1\n",
        "                    y_step = +1\n",
        "                    \n",
        "                for ii in range(1,self.k+1):     \n",
        "                    x_new = xa + x_step\n",
        "                    y_new = ya + y_step\n",
        "                \n",
        "                    if ((x_new < 0)&(self.h < x_new)&(y_new < 0)&(self.v < y_new)):\n",
        "                        #si te saliste, mira la siguiente forma de buscar k en raya\n",
        "                        continue\n",
        "                \n",
        "                    mark_new = board.get((x_new, y_new))\n",
        "                \n",
        "                    if mark_new == 'X':\n",
        "                    # no gano nadie\n",
        "                        return 0\n",
        "                    if ii == self.k:\n",
        "                        if mark_new == 'O':\n",
        "                            return -1\n",
        "                return 0"
      ],
      "execution_count": 0,
      "outputs": []
    },
    {
      "cell_type": "markdown",
      "metadata": {
        "id": "CkxCN7wlLwcg",
        "colab_type": "text"
      },
      "source": [
        "### Algoritmo  <b>MIN-MAX</b>\n",
        "\n",
        "Este algoritmo escoge una movida para el jugador de turno en un juego dado (game). El algoritmo obtiene recursivamente los valores minimax de los estados sucesores buscando en profundidad en el arbol de juego los estados terminales. De estos estados toma su valor de utilidad para calcular la utilidad de los padres y asi sucesivamente hasta tener la utilidad de todos los sucesores del estado inicial para decidir la movida a ejecutar. \n",
        "La implementacion de esta busqueda es a traves de una recursion alternada de las funciones max_value y min_value (una llama a la otra) hasta alcanzar un estado terminal. Cuando la recursion termina todas las movidas tienen una utilidad y se escoje la movida de mayor valor.\n"
      ]
    },
    {
      "cell_type": "code",
      "metadata": {
        "id": "8B0N9wz0Lwch",
        "colab_type": "code",
        "colab": {}
      },
      "source": [
        "argmax = max\n",
        "infinity = float('inf')\n",
        "\n",
        "def minimax_decision(state, game):\n",
        "\n",
        "    player = game.to_move(state)\n",
        "\n",
        "    def max_value(state):\n",
        "        if game.terminal_test(state):\n",
        "            return game.utility(state, player)\n",
        "        v = -infinity\n",
        "        for a in game.actions(state):\n",
        "            v = max(v, min_value(game.result(state, a)))\n",
        "        return v\n",
        "\n",
        "    def min_value(state):\n",
        "        if game.terminal_test(state):\n",
        "            return game.utility(state, player)\n",
        "        v = infinity\n",
        "        for a in game.actions(state):\n",
        "            v = min(v, max_value(game.result(state, a)))\n",
        "        return v\n",
        "\n",
        "    # Body of minimax_decision:\n",
        "    return argmax(game.actions(state),\n",
        "                  key=lambda a: min_value(game.result(state, a)))"
      ],
      "execution_count": 0,
      "outputs": []
    },
    {
      "cell_type": "markdown",
      "metadata": {
        "id": "B_-mali8Lwco",
        "colab_type": "text"
      },
      "source": [
        "### Jugadores </b>\n",
        "\n",
        "A seguir se implementan 3 agentes jugadores que pueden hacer movidas en un entorno de juego, dado su estado :\n",
        "- <b>minimax_player</b>:   jugador que hace movidas de acuerdo al algoritmo MIN-MAX\n",
        "- <b>random_player</b>:    jugador que hace movidas aleatorias (es facil ganarle  ヽ(^o^)ノ )\n",
        "- <b>human_player</b>:     solicita la movida a un humano\n"
      ]
    },
    {
      "cell_type": "code",
      "metadata": {
        "id": "PYTUcikHLwcp",
        "colab_type": "code",
        "colab": {}
      },
      "source": [
        "def minimax_player(game, state):\n",
        "    return minimax_decision(state, game)\n",
        "\n",
        "def alphabeta_player(game, state):\n",
        "    return alphabeta_search(state, game)\n",
        "\n",
        "def random_player(game, state):\n",
        "    return random.choice(game.actions(state))\n",
        "\n",
        "def human_player(game, state):\n",
        "    print(\"Estado actual:\")\n",
        "    game.display(state)\n",
        "    print(\"Movidas disponibles: {}\".format(game.actions(state)))\n",
        "    print(\"\")\n",
        "    move_string = input('Cuál es tu movida? ')\n",
        "    try:\n",
        "        move = eval(move_string)\n",
        "    except NameError:\n",
        "        move = move_string\n",
        "    return move"
      ],
      "execution_count": 0,
      "outputs": []
    },
    {
      "cell_type": "markdown",
      "metadata": {
        "id": "nONlSq2gLwcs",
        "colab_type": "text"
      },
      "source": [
        "### Jugando"
      ]
    },
    {
      "cell_type": "markdown",
      "metadata": {
        "id": "tGa28W8NLwcs",
        "colab_type": "text"
      },
      "source": [
        "Crea el juego clasico 3 en raya y llama al controlador de juego. Primer jugador=minimax_player, Segundo jugador=random_player"
      ]
    },
    {
      "cell_type": "code",
      "metadata": {
        "id": "xLaVvNqhLwct",
        "colab_type": "code",
        "outputId": "fda5904b-7c58-4fdc-da91-c6da4b932093",
        "colab": {
          "base_uri": "https://localhost:8080/"
        }
      },
      "source": [
        "ttt = TicTacToe(h=3, v=3, k=3)\n",
        "print(ttt.play_game(minimax_player, random_player, verbose=True))"
      ],
      "execution_count": 0,
      "outputs": [
        {
          "output_type": "stream",
          "text": [
            "Jugada 1 : Turno del jugador minimax_player\n",
            "X . . \n",
            ". . . \n",
            ". . . \n",
            "*************************************************\n",
            "Jugada 2 : Turno del jugador random_player\n",
            "X . O \n",
            ". . . \n",
            ". . . \n",
            "*************************************************\n",
            "Jugada 3 : Turno del jugador minimax_player\n",
            "X X O \n",
            ". . . \n",
            ". . . \n",
            "*************************************************\n",
            "Jugada 4 : Turno del jugador random_player\n",
            "X X O \n",
            "O . . \n",
            ". . . \n",
            "*************************************************\n",
            "Jugada 5 : Turno del jugador minimax_player\n",
            "X X O \n",
            "O X . \n",
            ". . . \n",
            "*************************************************\n",
            "Jugada 6 : Turno del jugador random_player\n",
            "X X O \n",
            "O X O \n",
            ". . . \n",
            "*************************************************\n",
            "Jugada 7 : Turno del jugador minimax_player\n",
            "X X O \n",
            "O X O \n",
            "X . . \n",
            "*************************************************\n",
            "Jugada 8 : Turno del jugador random_player\n",
            "X X O \n",
            "O X O \n",
            "X . O \n",
            "*************************************************\n",
            "Jugada 9 : Turno del jugador minimax_player\n",
            "X X O \n",
            "O X O \n",
            "X X O \n",
            "*************************************************\n",
            "Jugada 9 (final): Turno del jugador minimax_player\n",
            "X X O \n",
            "O X O \n",
            "X X O \n",
            "0\n"
          ],
          "name": "stdout"
        }
      ]
    },
    {
      "cell_type": "markdown",
      "metadata": {
        "id": "QXaf9a0jLwcw",
        "colab_type": "text"
      },
      "source": [
        "Crea el juego clasico 3 en raya y llama al controlador de juego. Primer jugador=alphabeta_player, Segundo jugador=random_player"
      ]
    },
    {
      "cell_type": "code",
      "metadata": {
        "id": "_ZOfIk66Lwcx",
        "colab_type": "code",
        "colab": {}
      },
      "source": [
        "ttt = TicTacToe(h=2, v=2, k=3)\n",
        "print(ttt.play_game(alphabeta_player, random_player, verbose = True))"
      ],
      "execution_count": 0,
      "outputs": []
    },
    {
      "cell_type": "markdown",
      "metadata": {
        "id": "CiJZSO15Lwcz",
        "colab_type": "text"
      },
      "source": [
        "Crea el juego clasico 3 en raya y llama al controlador de juego. Primer jugador=alphabeta_player, Segundo jugador=human_player"
      ]
    },
    {
      "cell_type": "code",
      "metadata": {
        "id": "2sERlJwuLwc0",
        "colab_type": "code",
        "colab": {}
      },
      "source": [
        "ttt = TicTacToe(h=3, v=3, k=3)\n",
        "print(ttt.play_game(alphabeta_player, human_player))"
      ],
      "execution_count": 0,
      "outputs": []
    },
    {
      "cell_type": "code",
      "metadata": {
        "id": "yjppsx3eZ5Q5",
        "colab_type": "code",
        "colab": {}
      },
      "source": [
        ""
      ],
      "execution_count": 0,
      "outputs": []
    }
  ]
}