{
  "nbformat": 4,
  "nbformat_minor": 0,
  "metadata": {
    "colab": {
      "name": "Sesion4_ConnectFour_Enunciado",
      "provenance": [],
      "collapsed_sections": [
        "x7v3e_6NLwcY",
        "7YN_jlv-Lwcc",
        "CkxCN7wlLwcg",
        "0iNRADKTLwck",
        "iRp9EUcVCgMY",
        "B_-mali8Lwco"
      ]
    },
    "kernelspec": {
      "name": "python3",
      "display_name": "Python 3"
    }
  },
  "cells": [
    {
      "cell_type": "markdown",
      "metadata": {
        "id": "MXwFDyxM1rQ8",
        "colab_type": "text"
      },
      "source": [
        "# Diplomatura de Especialización en Desarrollo de Aplicaciones con Inteligencia Artificial - Inteligencia Artificial para Juegos (Game AI) - Sesión 4 (Enunciado)"
      ]
    },
    {
      "cell_type": "markdown",
      "metadata": {
        "colab_type": "text",
        "id": "HWV9A-zMtpFg"
      },
      "source": [
        "<font color='orange'>Entorno de *k en raya* (**Connect4**, para un caso particular) para búsqueda adversarial en un juego de suma constante.</font>"
      ]
    },
    {
      "cell_type": "markdown",
      "metadata": {
        "id": "fpQNhDpPLwcX",
        "colab_type": "text"
      },
      "source": [
        "El presente notebook aborda el problema de busqueda adversarial en el juego de Connect4, que es un caso particular del k-en-raya (este, a su vez, es una generalizacón del 3 en raya pero en tableros de $h$ filas por $v$ columnas y gana el jugador que haga primero una raya de tamaño $k$, uniendo $k$ piezas adyacentes en forma horizontal, vertical o diagonal).\n",
        "\n",
        "<img src='https://pepeganga.vteximg.com.br/arquivos/ids/202622-1045-1100/78703701.jpg?v=636063347230630000' width=300px>\n",
        "\n",
        "La mayor parte del entorno de juego (clase TicTacToe) esta implementada, solo esta faltando implementar la funcion que convierte una instancia del TicTacToe al juego de ConnectFour (clase <b>ConnectFour</b>). Estan implementados tambien los algoritmos MIN-MAX  y ALPHA-BETA que pueden decidir movidas en el juego implementado.\n",
        "\n",
        "Recordar que en el algoritmo `minimax`, los valores altos de utilidad son buenos para el jugador MAX.\n",
        "\n",
        "Considerar que las fichas del jugador MAX son **X**, mientas que las fichas del jugador MIN son **O**."
      ]
    },
    {
      "cell_type": "markdown",
      "metadata": {
        "id": "x7v3e_6NLwcY",
        "colab_type": "text"
      },
      "source": [
        "### Clase <b>Game</b>\n",
        "\n",
        "Esta es una clase genérica para definir un entorno de juego. Es parecida a la clase `Problem` de búsqueda, pero en vez del método que devuelve el costo de camino se tiene un metodo que devuelve la utilidad de un jugador en un estado dado. También la funcion test de objetivo es reemplazada por un test de estado terminal (`terminal_test`). Para crear una clase de un juego específico se debe hacer una subclase de `Game` e implementar los métodos actions, `result`, `utility`, y `terminal_test`. El atributo `.initial` (estado inicial del juego) deberá ser inicializado en el constructor de la clase concreta. No editar esta clase `Game`."
      ]
    },
    {
      "cell_type": "code",
      "metadata": {
        "id": "R-Lzee4pLwcZ",
        "colab_type": "code",
        "colab": {}
      },
      "source": [
        "class Game:\n",
        "\n",
        "    def actions(self, state):\n",
        "        \"\"\"Retorna una lista de movidas permitidas en el estado actual state.\"\"\"\n",
        "        raise NotImplementedError\n",
        "\n",
        "    def result(self, state, move):\n",
        "        \"\"\"Retorna el nuevo estado que resulta de hacer una movida move en el estado state.\"\"\"\n",
        "        raise NotImplementedError\n",
        "\n",
        "    def utility(self, state, player):\n",
        "        \"\"\"Retorna el valor de utilidad para el jugador player en el estado terminal state.\"\"\"\n",
        "        raise NotImplementedError\n",
        "\n",
        "    def terminal_test(self, state):\n",
        "        \"\"\"Retorna True si el estado state es un estado terminal del juego.\"\"\"\n",
        "        return not self.actions(state)\n",
        "\n",
        "    def to_move(self, state):\n",
        "        \"\"\"Retorna el jugador que le toca jugar en el presente estado state.\"\"\"\n",
        "        return state.to_move\n",
        "\n",
        "    def display(self, state):\n",
        "        \"\"\"Imprime o displaya el state.\"\"\"\n",
        "        print(state)\n",
        "\n",
        "    def __repr__(self):\n",
        "        return '<{}>'.format(self.__class__.__name__)\n",
        "\n",
        "    def play_game(self, *players, verbose):\n",
        "        \"\"\"Controlador del juego:\n",
        "        Llama alternadamente a cada jugador pasandole el estado actual del juego y ejecutando la movida retornada.\"\"\"\n",
        "        state = self.initial\n",
        "        numJugada = 0\n",
        "        while True:\n",
        "            for player in players:\n",
        "                move = player(self, state)\n",
        "                mark_now = self.to_move(state)\n",
        "                state = self.result(state, move)\n",
        "                numJugada = numJugada + 1\n",
        "                if verbose:\n",
        "                  print(\"Jugada\", numJugada, \": Turno del jugador\", player.__name__, \"(\",mark_now,\")\")\n",
        "                  self.display(state)\n",
        "                  print(\"*************************************************\")\n",
        "                if self.terminal_test(state):\n",
        "                    print(\"Jugada\", numJugada, \"(final): Turno del jugador\", player.__name__, \"(\",mark_now,\")\")\n",
        "                    self.display(state)\n",
        "                    print(\"La utilidad del primer jugador (\",self.to_move(self.initial),\") fue: \")\n",
        "                    #retorna utilidad del 1er jugador al acabar el juego\n",
        "                    return self.utility(state, self.to_move(self.initial))"
      ],
      "execution_count": 0,
      "outputs": []
    },
    {
      "cell_type": "markdown",
      "metadata": {
        "id": "7YN_jlv-Lwcc",
        "colab_type": "text"
      },
      "source": [
        "### Clase <b>TicTacToe</b>\n",
        "\n",
        "Esta es una subclase de `Game` para definir el entorno del juego k en Raya (generalizacion de `TicTacToe`). Las dimensiones del tablero son definidas en el constructor (usando los argumentos: h=número de filas, v=número de columnas, k=número de elementos en raya para ganar). Primer jugador (Max) es 'X' y el otro jugador (Min) es 'O'. Un estado en este juego es una tupla (`GameState`) con los siguientes campos:\n",
        " - to_move: almacena el jugador que le toca jugar \n",
        " - utility: almacena la utilidad del estado\n",
        " - board: almacena las posiciones ocupadas en el tablero en la forma de un dicccionario de entradas {(x, y): Player}, donde Player puede ser 'X' o 'O'\n",
        " - moves: almacena las movidas posibles a partir del estado en la forma de una lista de tuplas que representan posiciones (x, y) "
      ]
    },
    {
      "cell_type": "code",
      "metadata": {
        "id": "86xw9EY9Z300",
        "colab_type": "code",
        "colab": {}
      },
      "source": [
        "from collections import namedtuple\n",
        "GameState = namedtuple('GameState', 'to_move, utility, board, moves') #Un estado es una tupla con nombres de campos (namedtuple)\n",
        "import random\n",
        "import itertools\n",
        "import copy\n",
        "\n",
        "def k_in_row(board, player, square, k): #Adaptado de https://github.com/aimacode/aima-python\n",
        "    \"\"\"Devuelve True, si el jugador con marca \"player\" tiene k piezas en una fila, desde la posición square.\"\"\"\n",
        "    def in_row(x, y, dx, dy): return 0 if board.get((x, y)) != player else 1 + in_row(x + dx, y + dy, dx, dy)\n",
        "    return any(in_row(*square, dx, dy) + in_row(*square, -dx, -dy) - 1 >= k\n",
        "               for (dx, dy) in ((0, 1), (1, 0), (1, 1), (1, -1)))\n",
        "\n",
        "class TicTacToe(Game):\n",
        "    \n",
        "    def __init__(self, h=3, v=3, k=3):\n",
        "        self.h = h\n",
        "        self.v = v\n",
        "        self.k = k\n",
        "\n",
        "        assert k>2, \"k debe ser mayor que dos!\"\n",
        "        assert k<=h, \"k debe ser menor o igual que h\"\n",
        "        assert k<=v, \"k debe ser menor o igual que v\"\n",
        "\n",
        "        moves = [(x, y) for x in range(1, h + 1)\n",
        "                 for y in range(1, v + 1)]\n",
        "        self.initial = GameState(to_move='X', utility=0, board={}, moves=moves)\n",
        "\n",
        "    def actions(self, state):\n",
        "        \"\"\"Movidas legales son todas las posiciones aun sin marcar (el estado almacena las movidas legales)\"\"\"\n",
        "        return state.moves\n",
        "\n",
        "    def result(self, state, move):\n",
        "        \"\"\"Retorna el nuevo estado de hacer la movida move en el estado state .\"\"\"\n",
        "        if move not in state.moves:\n",
        "            return state  # Si es una movida ilegal retorna sin cambiar el estado\n",
        "        board = state.board.copy()\n",
        "        board[move] = state.to_move\n",
        "\n",
        "        moves = list(state.moves)\n",
        "        moves.remove(move)\n",
        "        return GameState(to_move=('O' if state.to_move == 'X' else 'X'),\n",
        "                         utility=self.compute_utility(board, move, state.to_move),\n",
        "                         board=board, moves=moves)\n",
        "\n",
        "    def utility(self, state, player):\n",
        "        \"\"\"Retorna la utilidad del player en estado terminal state; 1 si ganó, -1 si perdió, 0 empate.\"\"\"\n",
        "        return state.utility if player == 'X' else -state.utility\n",
        "\n",
        "    def terminal_test(self, state):\n",
        "        \"\"\"Un estado es terminal si hay un ganador o no hay mas movidas posibles.\"\"\"\n",
        "        return state.utility != 0 or len(state.moves) == 0\n",
        "\n",
        "    def display(self, state):\n",
        "        board = state.board\n",
        "        for x in range(1, self.h + 1):\n",
        "            for y in range(1, self.v + 1):\n",
        "                print(board.get((x, y), '.'), end=' ')\n",
        "            print()\n",
        "\n",
        "    def compute_utility(self, board, move, player):\n",
        "        \"\"\"Retorna  1 si player='X'  ha llegado a estado terminal ganador con movida move, \n",
        "           Retorna -1 si player='O' ha llegado a estado terminal ganador con movida move; \n",
        "           Retornas 0 en cualquier otro caso\"\"\"\n",
        "        #Cálculo de utilidad para el caso general (k>1)\n",
        "        win = k_in_row(board, player, move, self.k)\n",
        "        return 0 if not win else +1 if player == 'X' else -1\n",
        "        "
      ],
      "execution_count": 0,
      "outputs": []
    },
    {
      "cell_type": "markdown",
      "metadata": {
        "id": "CkxCN7wlLwcg",
        "colab_type": "text"
      },
      "source": [
        "### Algoritmo  <b>MIN-MAX</b>\n",
        "\n",
        "Este algoritmo escoge una movida para el jugador de turno en un juego dado (game). El algoritmo obtiene recursivamente los valores minimax de los estados sucesores buscando en profundidad en el arbol de juego los estados terminales. De estos estados toma su valor de utilidad para calcular la utilidad de los padres y asi sucesivamente hasta tener la utilidad de todos los sucesores del estado inicial para decidir la movida a ejecutar. \n",
        "La implementacion de esta busqueda es a traves de una recursion alternada de las funciones max_value y min_value (una llama a la otra) hasta alcanzar un estado terminal. Cuando la recursion termina todas las movidas tienen una utilidad y se escoje la movida de mayor valor.\n"
      ]
    },
    {
      "cell_type": "code",
      "metadata": {
        "id": "8B0N9wz0Lwch",
        "colab_type": "code",
        "colab": {}
      },
      "source": [
        "argmax = max\n",
        "infinity = float('inf')\n",
        "\n",
        "def minimax_decision(state, game):\n",
        "\n",
        "    player = game.to_move(state)\n",
        "\n",
        "    def max_value(state):\n",
        "        if game.terminal_test(state):\n",
        "            return game.utility(state, player)\n",
        "        v = -infinity\n",
        "        for a in game.actions(state):\n",
        "            v = max(v, min_value(game.result(state, a)))\n",
        "        return v\n",
        "\n",
        "    def min_value(state):\n",
        "        if game.terminal_test(state):\n",
        "            return game.utility(state, player)\n",
        "        v = infinity\n",
        "        for a in game.actions(state):\n",
        "            v = min(v, max_value(game.result(state, a)))\n",
        "        return v\n",
        "\n",
        "    # Body of minimax_decision:\n",
        "    #Cuando la recursion termina todas las movidas tienen una\n",
        "    #utilidad y se escoje la movida de mayor valor.\n",
        "    return argmax(game.actions(state),\n",
        "                  key=lambda a: min_value(game.result(state, a)))"
      ],
      "execution_count": 0,
      "outputs": []
    },
    {
      "cell_type": "markdown",
      "metadata": {
        "id": "0iNRADKTLwck",
        "colab_type": "text"
      },
      "source": [
        "### Algoritmo  <b>ALPHA-BETA</b>\n",
        "\n",
        "Este algoritmo escoge una movida para el jugador de turno en el juego, evitando explorar las ramas que no son relevantes para tomar una decisión de movida en el estado actual. Alpha-Beta hace uso de las funciones max_value y min_value de MIN-MAX pero utilizando dos variables: alpha y betha. La variable apha mantiene la mejor opcion (la más alta utilidad) encontrada para MAX a lo largo del camino. La variable betha mantiene la mejor opcion (la más baja utilidad) encontrada para MIN. A medida que el algoritmo avanza se va actualizando alpha y betha y se poda un nodo cuando el valor del nodo es menor que el valor alpha (para MAX) o mayor que el valor betha (para MIN)."
      ]
    },
    {
      "cell_type": "code",
      "metadata": {
        "id": "XSDB8lcNLwcl",
        "colab_type": "code",
        "colab": {}
      },
      "source": [
        "def alphabeta_search(state, game):\n",
        "  \n",
        "    player = game.to_move(state)\n",
        "\n",
        "    # Functions used by alphabeta\n",
        "    def max_value(state, alpha, beta):\n",
        "        if game.terminal_test(state):\n",
        "            return game.utility(state, player)\n",
        "        v = -infinity\n",
        "        for a in game.actions(state):\n",
        "            v = max(v, min_value(game.result(state, a), alpha, beta))\n",
        "            if v >= beta:\n",
        "                return v\n",
        "            alpha = max(alpha, v)\n",
        "        return v\n",
        "\n",
        "    def min_value(state, alpha, beta):\n",
        "        if game.terminal_test(state):\n",
        "            return game.utility(state, player)\n",
        "        v = infinity\n",
        "        for a in game.actions(state):\n",
        "            v = min(v, max_value(game.result(state, a), alpha, beta))\n",
        "            if v <= alpha:\n",
        "                return v\n",
        "            beta = min(beta, v)\n",
        "        return v\n",
        "\n",
        "    # Body of alphabeta_search:\n",
        "    best_score = -infinity\n",
        "    beta = infinity\n",
        "    best_action = None\n",
        "    for a in game.actions(state):\n",
        "        v = min_value(game.result(state, a), best_score, beta)\n",
        "        if v > best_score:\n",
        "            best_score = v\n",
        "            best_action = a\n",
        "    return best_action\n"
      ],
      "execution_count": 0,
      "outputs": []
    },
    {
      "cell_type": "markdown",
      "metadata": {
        "colab_type": "text",
        "id": "iRp9EUcVCgMY"
      },
      "source": [
        "### Algoritmo  <b>EXPECTIMINIMAX</b>\n",
        "Fuente del Pseudocódigo: CS188 - UC Berkeley\n",
        "\n",
        "\n",
        "<img src='https://raw.githubusercontent.com/gracefulPotato/connect-four-minimax-expectimax/master/expectimax.png' width=500px>"
      ]
    },
    {
      "cell_type": "code",
      "metadata": {
        "colab_type": "code",
        "id": "1TuzfCUyCgMf",
        "colab": {}
      },
      "source": [
        "argmax = max\n",
        "infinity = float('inf')\n",
        "\n",
        "def expectiminimax_search(state, game, probaUniforme = True):\n",
        "\n",
        "    player = game.to_move(state)\n",
        "\n",
        "    def max_value(state):\n",
        "        if game.terminal_test(state):\n",
        "            return game.utility(state, player)\n",
        "        v = -infinity\n",
        "        for a in game.actions(state):\n",
        "            v = max(v, exp_value(game.result(state, a)))\n",
        "        return v\n",
        "\n",
        "    def min_value(state):\n",
        "        if game.terminal_test(state):\n",
        "            return game.utility(state, player)\n",
        "        v = infinity\n",
        "        for a in game.actions(state):\n",
        "            v = min(v, max_value(game.result(state, a)))\n",
        "        return v\n",
        "\n",
        "    def exp_value(state):\n",
        "        if game.terminal_test(state):\n",
        "            return game.utility(state, player)\n",
        "        v = 0\n",
        "        listaAcciones = game.actions(state)\n",
        "        if(probaUniforme):\n",
        "          for a in listaAcciones:\n",
        "            p = 1/(len(listaAcciones)) #la misma probabilidad para todas las acciones\n",
        "            v = v + p * max_value(game.result(state, a))\n",
        "        else:\n",
        "\n",
        "          def probabilidad(state, a, listaAcciones):\n",
        "            raise NotImplementedError\n",
        "\n",
        "          for a in listaAcciones:\n",
        "            p = probabilidad(state,a,listaAcciones) #la probabilidad es de acuerdo a la acción\n",
        "            v = v + p*max_value(game.result(state, a))\n",
        "  \n",
        "        return v\n",
        "\n",
        "    # Body of expectiminimax_decision:\n",
        "    return argmax(game.actions(state),\n",
        "                  key=lambda a: exp_value(game.result(state, a)))"
      ],
      "execution_count": 0,
      "outputs": []
    },
    {
      "cell_type": "markdown",
      "metadata": {
        "id": "B_-mali8Lwco",
        "colab_type": "text"
      },
      "source": [
        "### Jugadores </b>\n",
        "\n",
        "A seguir se implementan 4 agentes jugadores que pueden hacer movidas en un entorno de juego, dado su estado :\n",
        "- <b>minimax_player</b>:   jugador que hace movidas de acuerdo al algoritmo MIN-MAX\n",
        "- <b>alphabeta_player</b>: jugador que hace movidas de acuerdo al algoritmo ALPHA-BETA\n",
        "- <b>expectimax_player</b>: jugador que hace movidas de acuerdo al algoritmo EXPECTIMINIMAX\n",
        "- <b>random_player</b>:    jugador que hace movidas aleatorias (es facil ganarle :v )\n",
        "- <b>human_player</b>:     solicita la movida a un humano\n"
      ]
    },
    {
      "cell_type": "code",
      "metadata": {
        "id": "PYTUcikHLwcp",
        "colab_type": "code",
        "colab": {}
      },
      "source": [
        "def minimax_player(game, state):\n",
        "    return minimax_decision(state, game)\n",
        "\n",
        "def alphabeta_player(game, state):\n",
        "    return alphabeta_search(state, game)\n",
        "\n",
        "def expectimax_player(game, state):\n",
        "    return expectiminimax_search(state, game)    \n",
        "\n",
        "def random_player(game, state):\n",
        "    return random.choice(game.actions(state))\n",
        "\n",
        "def human_player(game, state):\n",
        "    print(\"Estado actual:\")\n",
        "    game.display(state)\n",
        "    print(\"Movidas disponibles: {}\".format(game.actions(state)))\n",
        "    print(\"\")\n",
        "    move_string = input('Cuál es tu movida? ')\n",
        "    try:\n",
        "        move = eval(move_string)\n",
        "    except NameError:\n",
        "        move = move_string\n",
        "    return move"
      ],
      "execution_count": 0,
      "outputs": []
    },
    {
      "cell_type": "markdown",
      "metadata": {
        "colab_type": "text",
        "id": "R5B-w42LiTxt"
      },
      "source": [
        "### Connect Four </b>\n",
        "\n",
        "Connect Four es una variante del juego TicTacToe, en la cual el tablero es una grilla de 6x7 casillas en total (en la versión comercial del juego de mesa). Además, se agrega la restriccion de que para cada columna, solo está permitido agregar fichas en la casilla vacía de menor altura (físicamente, como si las fichas fueran atraídas hacia abajo por la gravedad). Por velocidad de cómputo, se eligen los valores de h=4, v=4 y k=3."
      ]
    },
    {
      "cell_type": "code",
      "metadata": {
        "id": "aShTULgJSwW5",
        "colab_type": "code",
        "colab": {}
      },
      "source": [
        "class ConnectFour(TicTacToe):\n",
        "    def __init__(self): super().__init__(h=4, v=4, k=3)#(h=6, v=7, k=4)\n",
        "\n",
        "    def actions(self, state):\n",
        "        \"\"\"In each column you can play only the lowest empty square in the column.\"\"\"\n",
        "        #COMPLETAR CÓDIGO\n",
        "        raise NotImplementedError\n",
        "        return ?"
      ],
      "execution_count": 0,
      "outputs": []
    },
    {
      "cell_type": "code",
      "metadata": {
        "id": "vFeWhiuDixr9",
        "colab_type": "code",
        "outputId": "3c682295-8bb2-4c6e-c552-d530bea5a9f4",
        "colab": {
          "base_uri": "https://localhost:8080/",
          "height": 1000
        }
      },
      "source": [
        "cFour = ConnectFour()\n",
        "print(cFour.play_game(alphabeta_player, alphabeta_player, verbose=True))"
      ],
      "execution_count": 0,
      "outputs": [
        {
          "output_type": "stream",
          "text": [
            "Jugada 1 : Turno del jugador alphabeta_player ( X )\n",
            ". . . . \n",
            ". . . . \n",
            ". . . . \n",
            "X . . . \n",
            "*************************************************\n",
            "Jugada 2 : Turno del jugador alphabeta_player ( O )\n",
            ". . . . \n",
            ". . . . \n",
            "O . . . \n",
            "X . . . \n",
            "*************************************************\n",
            "Jugada 3 : Turno del jugador alphabeta_player ( X )\n",
            ". . . . \n",
            "X . . . \n",
            "O . . . \n",
            "X . . . \n",
            "*************************************************\n",
            "Jugada 4 : Turno del jugador alphabeta_player ( O )\n",
            "O . . . \n",
            "X . . . \n",
            "O . . . \n",
            "X . . . \n",
            "*************************************************\n",
            "Jugada 5 : Turno del jugador alphabeta_player ( X )\n",
            "O . . . \n",
            "X . . . \n",
            "O . . . \n",
            "X X . . \n",
            "*************************************************\n",
            "Jugada 6 : Turno del jugador alphabeta_player ( O )\n",
            "O . . . \n",
            "X . . . \n",
            "O O . . \n",
            "X X . . \n",
            "*************************************************\n",
            "Jugada 7 : Turno del jugador alphabeta_player ( X )\n",
            "O . . . \n",
            "X X . . \n",
            "O O . . \n",
            "X X . . \n",
            "*************************************************\n",
            "Jugada 8 : Turno del jugador alphabeta_player ( O )\n",
            "O O . . \n",
            "X X . . \n",
            "O O . . \n",
            "X X . . \n",
            "*************************************************\n",
            "Jugada 9 : Turno del jugador alphabeta_player ( X )\n",
            "O O . . \n",
            "X X . . \n",
            "O O . . \n",
            "X X X . \n",
            "*************************************************\n",
            "Jugada 9 (final): Turno del jugador alphabeta_player ( X )\n",
            "O O . . \n",
            "X X . . \n",
            "O O . . \n",
            "X X X . \n",
            "La utilidad del primer jugador ( X ) fue: \n",
            "1\n"
          ],
          "name": "stdout"
        }
      ]
    }
  ]
}